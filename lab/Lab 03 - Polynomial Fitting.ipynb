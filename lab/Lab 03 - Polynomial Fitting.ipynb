{
 "cells": [
  {
   "cell_type": "markdown",
   "metadata": {
    "collapsed": true,
    "pycharm": {
     "name": "#%% md\n"
    }
   },
   "source": [
    "# Lab 03 - Polynomial Fitting\n",
    "In the previous lab we discussed linear regression and the OLS estimator for solving the minimization of the RSS. As we\n",
    "mentioned, regression problems are a very wide family of settings and algorithms which we use to try to estimate the relation between a set of explanatory variables and a **continuous** response (i.e. $\\mathcal{Y}\\in\\mathbb{R}^p$). In the following lab we will discuss one such setting called \"Polynomial Fitting\". \n",
    "\n",
    "Sometimes, the data (and the relation between the explanatory variables and response) can be described by some polynomial\n",
    "of some degree. Here, we only focus on the case where it is a polynomial of a single variable. That is: \n",
    "$$ p_k\\left(x\\right)=\\sum_{i=0}^{k}\\alpha_i x^i\\quad\\alpha_0,\\ldots,\\alpha_k\\in\\mathbb{R} $$\n",
    "\n",
    "So our hypothesis class is of the form:\n",
    "$$ \\mathcal{H}^k_{poly}=\\left\\{p_k\\,\\Big|\\, p_k\\left(x\\right)=\\sum_{i=0}^{k}\\alpha_i x^i\\quad\\alpha_0,\\ldots,\\alpha_k\\in\\mathbb{R}\\right\\} $$\n",
    "\n",
    "Notice that similar to linear regression, each hypothesis in the class is defined by a coefficients vector. Below are two\n",
    "examples (simulated and real) for datasets where the relation between the explanatory variable and response is polynomial."
   ]
  },
  {
   "cell_type": "code",
   "execution_count": 7,
   "metadata": {},
   "outputs": [],
   "source": [
    "import sys\n",
    "sys.path.append(\"../\")\n",
    "from utils import *"
   ]
  },
  {
   "cell_type": "code",
   "execution_count": 8,
   "metadata": {
    "pycharm": {
     "name": "#%%\n"
    }
   },
   "outputs": [
    {
     "data": {
      "application/vnd.plotly.v1+json": {
       "data": [
        {
         "marker": {
          "color": "black",
          "opacity": 0.7
         },
         "mode": "markers",
         "showlegend": false,
         "x": [
          -1.2,
          -1.0358974358974358,
          -0.8717948717948718,
          -0.7076923076923076,
          -0.5435897435897435,
          -0.37948717948717947,
          -0.21538461538461529,
          -0.05128205128205132,
          0.11282051282051286,
          0.27692307692307705,
          0.441025641025641,
          0.6051282051282052,
          0.7692307692307694,
          0.9333333333333333,
          1.0974358974358973,
          1.2615384615384617,
          1.4256410256410257,
          1.5897435897435896,
          1.753846153846154,
          1.917948717948718
         ],
         "y": [
          5.8096,
          3.8381753317244733,
          2.522800884051074,
          1.7092797030916282,
          1.2608197821340592,
          1.058034061642376,
          0.9989404292566787,
          0.9989617197931566,
          0.9909257152440888,
          0.9250651447778439,
          0.7690176847388803,
          0.5078259586477458,
          0.14393753720107805,
          -0.3027950617283952,
          -0.7951143730918573,
          -1.278357984664403,
          -1.6804585370450331,
          -1.911943723656666,
          -1.8659362907461214,
          -1.418154037384138
         ],
         "type": "scatter",
         "xaxis": "x",
         "yaxis": "y"
        },
        {
         "marker": {
          "color": "black",
          "opacity": 0.7
         },
         "mode": "markers",
         "showlegend": false,
         "x": [
          "Business Analyst",
          "Junior Consultant",
          "Senior Consultant",
          "Manager",
          "Country Manager",
          "Region Manager",
          "Partner",
          "Senior Partner",
          "C-level",
          "CEO"
         ],
         "y": [
          45000,
          50000,
          60000,
          80000,
          110000,
          150000,
          200000,
          300000,
          500000,
          1000000
         ],
         "type": "scatter",
         "xaxis": "x2",
         "yaxis": "y2"
        }
       ],
       "layout": {
        "template": {
         "data": {
          "barpolar": [
           {
            "marker": {
             "line": {
              "color": "white",
              "width": 0.5
             },
             "pattern": {
              "fillmode": "overlay",
              "size": 10,
              "solidity": 0.2
             }
            },
            "type": "barpolar"
           }
          ],
          "bar": [
           {
            "error_x": {
             "color": "rgb(36,36,36)"
            },
            "error_y": {
             "color": "rgb(36,36,36)"
            },
            "marker": {
             "line": {
              "color": "white",
              "width": 0.5
             },
             "pattern": {
              "fillmode": "overlay",
              "size": 10,
              "solidity": 0.2
             }
            },
            "type": "bar"
           }
          ],
          "carpet": [
           {
            "aaxis": {
             "endlinecolor": "rgb(36,36,36)",
             "gridcolor": "white",
             "linecolor": "white",
             "minorgridcolor": "white",
             "startlinecolor": "rgb(36,36,36)"
            },
            "baxis": {
             "endlinecolor": "rgb(36,36,36)",
             "gridcolor": "white",
             "linecolor": "white",
             "minorgridcolor": "white",
             "startlinecolor": "rgb(36,36,36)"
            },
            "type": "carpet"
           }
          ],
          "choropleth": [
           {
            "colorbar": {
             "outlinewidth": 1,
             "tickcolor": "rgb(36,36,36)",
             "ticks": "outside"
            },
            "type": "choropleth"
           }
          ],
          "contourcarpet": [
           {
            "colorbar": {
             "outlinewidth": 1,
             "tickcolor": "rgb(36,36,36)",
             "ticks": "outside"
            },
            "type": "contourcarpet"
           }
          ],
          "contour": [
           {
            "colorbar": {
             "outlinewidth": 1,
             "tickcolor": "rgb(36,36,36)",
             "ticks": "outside"
            },
            "colorscale": [
             [
              0.0,
              "#440154"
             ],
             [
              0.1111111111111111,
              "#482878"
             ],
             [
              0.2222222222222222,
              "#3e4989"
             ],
             [
              0.3333333333333333,
              "#31688e"
             ],
             [
              0.4444444444444444,
              "#26828e"
             ],
             [
              0.5555555555555556,
              "#1f9e89"
             ],
             [
              0.6666666666666666,
              "#35b779"
             ],
             [
              0.7777777777777778,
              "#6ece58"
             ],
             [
              0.8888888888888888,
              "#b5de2b"
             ],
             [
              1.0,
              "#fde725"
             ]
            ],
            "type": "contour"
           }
          ],
          "heatmapgl": [
           {
            "colorbar": {
             "outlinewidth": 1,
             "tickcolor": "rgb(36,36,36)",
             "ticks": "outside"
            },
            "colorscale": [
             [
              0.0,
              "#440154"
             ],
             [
              0.1111111111111111,
              "#482878"
             ],
             [
              0.2222222222222222,
              "#3e4989"
             ],
             [
              0.3333333333333333,
              "#31688e"
             ],
             [
              0.4444444444444444,
              "#26828e"
             ],
             [
              0.5555555555555556,
              "#1f9e89"
             ],
             [
              0.6666666666666666,
              "#35b779"
             ],
             [
              0.7777777777777778,
              "#6ece58"
             ],
             [
              0.8888888888888888,
              "#b5de2b"
             ],
             [
              1.0,
              "#fde725"
             ]
            ],
            "type": "heatmapgl"
           }
          ],
          "heatmap": [
           {
            "colorbar": {
             "outlinewidth": 1,
             "tickcolor": "rgb(36,36,36)",
             "ticks": "outside"
            },
            "colorscale": [
             [
              0.0,
              "#440154"
             ],
             [
              0.1111111111111111,
              "#482878"
             ],
             [
              0.2222222222222222,
              "#3e4989"
             ],
             [
              0.3333333333333333,
              "#31688e"
             ],
             [
              0.4444444444444444,
              "#26828e"
             ],
             [
              0.5555555555555556,
              "#1f9e89"
             ],
             [
              0.6666666666666666,
              "#35b779"
             ],
             [
              0.7777777777777778,
              "#6ece58"
             ],
             [
              0.8888888888888888,
              "#b5de2b"
             ],
             [
              1.0,
              "#fde725"
             ]
            ],
            "type": "heatmap"
           }
          ],
          "histogram2dcontour": [
           {
            "colorbar": {
             "outlinewidth": 1,
             "tickcolor": "rgb(36,36,36)",
             "ticks": "outside"
            },
            "colorscale": [
             [
              0.0,
              "#440154"
             ],
             [
              0.1111111111111111,
              "#482878"
             ],
             [
              0.2222222222222222,
              "#3e4989"
             ],
             [
              0.3333333333333333,
              "#31688e"
             ],
             [
              0.4444444444444444,
              "#26828e"
             ],
             [
              0.5555555555555556,
              "#1f9e89"
             ],
             [
              0.6666666666666666,
              "#35b779"
             ],
             [
              0.7777777777777778,
              "#6ece58"
             ],
             [
              0.8888888888888888,
              "#b5de2b"
             ],
             [
              1.0,
              "#fde725"
             ]
            ],
            "type": "histogram2dcontour"
           }
          ],
          "histogram2d": [
           {
            "colorbar": {
             "outlinewidth": 1,
             "tickcolor": "rgb(36,36,36)",
             "ticks": "outside"
            },
            "colorscale": [
             [
              0.0,
              "#440154"
             ],
             [
              0.1111111111111111,
              "#482878"
             ],
             [
              0.2222222222222222,
              "#3e4989"
             ],
             [
              0.3333333333333333,
              "#31688e"
             ],
             [
              0.4444444444444444,
              "#26828e"
             ],
             [
              0.5555555555555556,
              "#1f9e89"
             ],
             [
              0.6666666666666666,
              "#35b779"
             ],
             [
              0.7777777777777778,
              "#6ece58"
             ],
             [
              0.8888888888888888,
              "#b5de2b"
             ],
             [
              1.0,
              "#fde725"
             ]
            ],
            "type": "histogram2d"
           }
          ],
          "histogram": [
           {
            "marker": {
             "line": {
              "color": "white",
              "width": 0.6
             }
            },
            "type": "histogram"
           }
          ],
          "mesh3d": [
           {
            "colorbar": {
             "outlinewidth": 1,
             "tickcolor": "rgb(36,36,36)",
             "ticks": "outside"
            },
            "type": "mesh3d"
           }
          ],
          "parcoords": [
           {
            "line": {
             "colorbar": {
              "outlinewidth": 1,
              "tickcolor": "rgb(36,36,36)",
              "ticks": "outside"
             }
            },
            "type": "parcoords"
           }
          ],
          "pie": [
           {
            "automargin": true,
            "type": "pie"
           }
          ],
          "scatter3d": [
           {
            "line": {
             "colorbar": {
              "outlinewidth": 1,
              "tickcolor": "rgb(36,36,36)",
              "ticks": "outside"
             }
            },
            "marker": {
             "colorbar": {
              "outlinewidth": 1,
              "tickcolor": "rgb(36,36,36)",
              "ticks": "outside"
             }
            },
            "type": "scatter3d"
           }
          ],
          "scattercarpet": [
           {
            "marker": {
             "colorbar": {
              "outlinewidth": 1,
              "tickcolor": "rgb(36,36,36)",
              "ticks": "outside"
             }
            },
            "type": "scattercarpet"
           }
          ],
          "scattergeo": [
           {
            "marker": {
             "colorbar": {
              "outlinewidth": 1,
              "tickcolor": "rgb(36,36,36)",
              "ticks": "outside"
             }
            },
            "type": "scattergeo"
           }
          ],
          "scattergl": [
           {
            "marker": {
             "colorbar": {
              "outlinewidth": 1,
              "tickcolor": "rgb(36,36,36)",
              "ticks": "outside"
             }
            },
            "type": "scattergl"
           }
          ],
          "scattermapbox": [
           {
            "marker": {
             "colorbar": {
              "outlinewidth": 1,
              "tickcolor": "rgb(36,36,36)",
              "ticks": "outside"
             }
            },
            "type": "scattermapbox"
           }
          ],
          "scatterpolargl": [
           {
            "marker": {
             "colorbar": {
              "outlinewidth": 1,
              "tickcolor": "rgb(36,36,36)",
              "ticks": "outside"
             }
            },
            "type": "scatterpolargl"
           }
          ],
          "scatterpolar": [
           {
            "marker": {
             "colorbar": {
              "outlinewidth": 1,
              "tickcolor": "rgb(36,36,36)",
              "ticks": "outside"
             }
            },
            "type": "scatterpolar"
           }
          ],
          "scatter": [
           {
            "fillpattern": {
             "fillmode": "overlay",
             "size": 10,
             "solidity": 0.2
            },
            "type": "scatter"
           }
          ],
          "scatterternary": [
           {
            "marker": {
             "colorbar": {
              "outlinewidth": 1,
              "tickcolor": "rgb(36,36,36)",
              "ticks": "outside"
             }
            },
            "type": "scatterternary"
           }
          ],
          "surface": [
           {
            "colorbar": {
             "outlinewidth": 1,
             "tickcolor": "rgb(36,36,36)",
             "ticks": "outside"
            },
            "colorscale": [
             [
              0.0,
              "#440154"
             ],
             [
              0.1111111111111111,
              "#482878"
             ],
             [
              0.2222222222222222,
              "#3e4989"
             ],
             [
              0.3333333333333333,
              "#31688e"
             ],
             [
              0.4444444444444444,
              "#26828e"
             ],
             [
              0.5555555555555556,
              "#1f9e89"
             ],
             [
              0.6666666666666666,
              "#35b779"
             ],
             [
              0.7777777777777778,
              "#6ece58"
             ],
             [
              0.8888888888888888,
              "#b5de2b"
             ],
             [
              1.0,
              "#fde725"
             ]
            ],
            "type": "surface"
           }
          ],
          "table": [
           {
            "cells": {
             "fill": {
              "color": "rgb(237,237,237)"
             },
             "line": {
              "color": "white"
             }
            },
            "header": {
             "fill": {
              "color": "rgb(217,217,217)"
             },
             "line": {
              "color": "white"
             }
            },
            "type": "table"
           }
          ]
         },
         "layout": {
          "annotationdefaults": {
           "arrowhead": 0,
           "arrowwidth": 1
          },
          "autotypenumbers": "strict",
          "coloraxis": {
           "colorbar": {
            "outlinewidth": 1,
            "tickcolor": "rgb(36,36,36)",
            "ticks": "outside"
           }
          },
          "colorscale": {
           "diverging": [
            [
             0.0,
             "rgb(103,0,31)"
            ],
            [
             0.1,
             "rgb(178,24,43)"
            ],
            [
             0.2,
             "rgb(214,96,77)"
            ],
            [
             0.3,
             "rgb(244,165,130)"
            ],
            [
             0.4,
             "rgb(253,219,199)"
            ],
            [
             0.5,
             "rgb(247,247,247)"
            ],
            [
             0.6,
             "rgb(209,229,240)"
            ],
            [
             0.7,
             "rgb(146,197,222)"
            ],
            [
             0.8,
             "rgb(67,147,195)"
            ],
            [
             0.9,
             "rgb(33,102,172)"
            ],
            [
             1.0,
             "rgb(5,48,97)"
            ]
           ],
           "sequential": [
            [
             0.0,
             "#440154"
            ],
            [
             0.1111111111111111,
             "#482878"
            ],
            [
             0.2222222222222222,
             "#3e4989"
            ],
            [
             0.3333333333333333,
             "#31688e"
            ],
            [
             0.4444444444444444,
             "#26828e"
            ],
            [
             0.5555555555555556,
             "#1f9e89"
            ],
            [
             0.6666666666666666,
             "#35b779"
            ],
            [
             0.7777777777777778,
             "#6ece58"
            ],
            [
             0.8888888888888888,
             "#b5de2b"
            ],
            [
             1.0,
             "#fde725"
            ]
           ],
           "sequentialminus": [
            [
             0.0,
             "#440154"
            ],
            [
             0.1111111111111111,
             "#482878"
            ],
            [
             0.2222222222222222,
             "#3e4989"
            ],
            [
             0.3333333333333333,
             "#31688e"
            ],
            [
             0.4444444444444444,
             "#26828e"
            ],
            [
             0.5555555555555556,
             "#1f9e89"
            ],
            [
             0.6666666666666666,
             "#35b779"
            ],
            [
             0.7777777777777778,
             "#6ece58"
            ],
            [
             0.8888888888888888,
             "#b5de2b"
            ],
            [
             1.0,
             "#fde725"
            ]
           ]
          },
          "colorway": [
           "#1F77B4",
           "#FF7F0E",
           "#2CA02C",
           "#D62728",
           "#9467BD",
           "#8C564B",
           "#E377C2",
           "#7F7F7F",
           "#BCBD22",
           "#17BECF"
          ],
          "font": {
           "color": "rgb(36,36,36)"
          },
          "geo": {
           "bgcolor": "white",
           "lakecolor": "white",
           "landcolor": "white",
           "showlakes": true,
           "showland": true,
           "subunitcolor": "white"
          },
          "hoverlabel": {
           "align": "left"
          },
          "hovermode": "closest",
          "mapbox": {
           "style": "light"
          },
          "paper_bgcolor": "white",
          "plot_bgcolor": "white",
          "polar": {
           "angularaxis": {
            "gridcolor": "rgb(232,232,232)",
            "linecolor": "rgb(36,36,36)",
            "showgrid": false,
            "showline": true,
            "ticks": "outside"
           },
           "bgcolor": "white",
           "radialaxis": {
            "gridcolor": "rgb(232,232,232)",
            "linecolor": "rgb(36,36,36)",
            "showgrid": false,
            "showline": true,
            "ticks": "outside"
           }
          },
          "scene": {
           "xaxis": {
            "backgroundcolor": "white",
            "gridcolor": "rgb(232,232,232)",
            "gridwidth": 2,
            "linecolor": "rgb(36,36,36)",
            "showbackground": true,
            "showgrid": false,
            "showline": true,
            "ticks": "outside",
            "zeroline": false,
            "zerolinecolor": "rgb(36,36,36)"
           },
           "yaxis": {
            "backgroundcolor": "white",
            "gridcolor": "rgb(232,232,232)",
            "gridwidth": 2,
            "linecolor": "rgb(36,36,36)",
            "showbackground": true,
            "showgrid": false,
            "showline": true,
            "ticks": "outside",
            "zeroline": false,
            "zerolinecolor": "rgb(36,36,36)"
           },
           "zaxis": {
            "backgroundcolor": "white",
            "gridcolor": "rgb(232,232,232)",
            "gridwidth": 2,
            "linecolor": "rgb(36,36,36)",
            "showbackground": true,
            "showgrid": false,
            "showline": true,
            "ticks": "outside",
            "zeroline": false,
            "zerolinecolor": "rgb(36,36,36)"
           }
          },
          "shapedefaults": {
           "fillcolor": "black",
           "line": {
            "width": 0
           },
           "opacity": 0.3
          },
          "ternary": {
           "aaxis": {
            "gridcolor": "rgb(232,232,232)",
            "linecolor": "rgb(36,36,36)",
            "showgrid": false,
            "showline": true,
            "ticks": "outside"
           },
           "baxis": {
            "gridcolor": "rgb(232,232,232)",
            "linecolor": "rgb(36,36,36)",
            "showgrid": false,
            "showline": true,
            "ticks": "outside"
           },
           "bgcolor": "white",
           "caxis": {
            "gridcolor": "rgb(232,232,232)",
            "linecolor": "rgb(36,36,36)",
            "showgrid": false,
            "showline": true,
            "ticks": "outside"
           }
          },
          "title": {
           "x": 0.05
          },
          "xaxis": {
           "automargin": true,
           "gridcolor": "rgb(232,232,232)",
           "linecolor": "rgb(36,36,36)",
           "showgrid": false,
           "showline": true,
           "ticks": "outside",
           "title": {
            "standoff": 15
           },
           "zeroline": false,
           "zerolinecolor": "rgb(36,36,36)"
          },
          "yaxis": {
           "automargin": true,
           "gridcolor": "rgb(232,232,232)",
           "linecolor": "rgb(36,36,36)",
           "showgrid": false,
           "showline": true,
           "ticks": "outside",
           "title": {
            "standoff": 15
           },
           "zeroline": false,
           "zerolinecolor": "rgb(36,36,36)"
          },
          "margin": {
           "b": 0,
           "l": 20,
           "r": 20,
           "t": 40
          }
         }
        },
        "xaxis": {
         "anchor": "y",
         "domain": [
          0.0,
          0.45
         ]
        },
        "yaxis": {
         "anchor": "x",
         "domain": [
          0.0,
          1.0
         ]
        },
        "xaxis2": {
         "anchor": "y2",
         "domain": [
          0.55,
          1.0
         ]
        },
        "yaxis2": {
         "anchor": "x2",
         "domain": [
          0.0,
          1.0
         ]
        },
        "annotations": [
         {
          "font": {
           "size": 16
          },
          "showarrow": false,
          "text": "$\\text{Simulated Data: }y=x^4-2x^3-0.5x^2+1$",
          "x": 0.225,
          "xanchor": "center",
          "xref": "paper",
          "y": 1.0,
          "yanchor": "bottom",
          "yref": "paper"
         },
         {
          "font": {
           "size": 16
          },
          "showarrow": false,
          "text": "$\\text{Positions Salary}$",
          "x": 0.775,
          "xanchor": "center",
          "xref": "paper",
          "y": 1.0,
          "yanchor": "bottom",
          "yref": "paper"
         }
        ],
        "margin": {
         "t": 100
        },
        "title": {
         "text": "$\\text{(1) Datasets For Polynomial Fitting}$"
        }
       },
       "config": {
        "plotlyServerURL": "https://plot.ly"
       }
      },
      "text/html": "<div>                            <div id=\"c2042593-f3e2-4a73-a734-43b6fa1ad6ac\" class=\"plotly-graph-div\" style=\"height:525px; width:100%;\"></div>            <script type=\"text/javascript\">                require([\"plotly\"], function(Plotly) {                    window.PLOTLYENV=window.PLOTLYENV || {};                                    if (document.getElementById(\"c2042593-f3e2-4a73-a734-43b6fa1ad6ac\")) {                    Plotly.newPlot(                        \"c2042593-f3e2-4a73-a734-43b6fa1ad6ac\",                        [{\"marker\":{\"color\":\"black\",\"opacity\":0.7},\"mode\":\"markers\",\"showlegend\":false,\"x\":[-1.2,-1.0358974358974358,-0.8717948717948718,-0.7076923076923076,-0.5435897435897435,-0.37948717948717947,-0.21538461538461529,-0.05128205128205132,0.11282051282051286,0.27692307692307705,0.441025641025641,0.6051282051282052,0.7692307692307694,0.9333333333333333,1.0974358974358973,1.2615384615384617,1.4256410256410257,1.5897435897435896,1.753846153846154,1.917948717948718],\"y\":[5.8096,3.8381753317244733,2.522800884051074,1.7092797030916282,1.2608197821340592,1.058034061642376,0.9989404292566787,0.9989617197931566,0.9909257152440888,0.9250651447778439,0.7690176847388803,0.5078259586477458,0.14393753720107805,-0.3027950617283952,-0.7951143730918573,-1.278357984664403,-1.6804585370450331,-1.911943723656666,-1.8659362907461214,-1.418154037384138],\"type\":\"scatter\",\"xaxis\":\"x\",\"yaxis\":\"y\"},{\"marker\":{\"color\":\"black\",\"opacity\":0.7},\"mode\":\"markers\",\"showlegend\":false,\"x\":[\"Business Analyst\",\"Junior Consultant\",\"Senior Consultant\",\"Manager\",\"Country Manager\",\"Region Manager\",\"Partner\",\"Senior Partner\",\"C-level\",\"CEO\"],\"y\":[45000,50000,60000,80000,110000,150000,200000,300000,500000,1000000],\"type\":\"scatter\",\"xaxis\":\"x2\",\"yaxis\":\"y2\"}],                        {\"template\":{\"data\":{\"barpolar\":[{\"marker\":{\"line\":{\"color\":\"white\",\"width\":0.5},\"pattern\":{\"fillmode\":\"overlay\",\"size\":10,\"solidity\":0.2}},\"type\":\"barpolar\"}],\"bar\":[{\"error_x\":{\"color\":\"rgb(36,36,36)\"},\"error_y\":{\"color\":\"rgb(36,36,36)\"},\"marker\":{\"line\":{\"color\":\"white\",\"width\":0.5},\"pattern\":{\"fillmode\":\"overlay\",\"size\":10,\"solidity\":0.2}},\"type\":\"bar\"}],\"carpet\":[{\"aaxis\":{\"endlinecolor\":\"rgb(36,36,36)\",\"gridcolor\":\"white\",\"linecolor\":\"white\",\"minorgridcolor\":\"white\",\"startlinecolor\":\"rgb(36,36,36)\"},\"baxis\":{\"endlinecolor\":\"rgb(36,36,36)\",\"gridcolor\":\"white\",\"linecolor\":\"white\",\"minorgridcolor\":\"white\",\"startlinecolor\":\"rgb(36,36,36)\"},\"type\":\"carpet\"}],\"choropleth\":[{\"colorbar\":{\"outlinewidth\":1,\"tickcolor\":\"rgb(36,36,36)\",\"ticks\":\"outside\"},\"type\":\"choropleth\"}],\"contourcarpet\":[{\"colorbar\":{\"outlinewidth\":1,\"tickcolor\":\"rgb(36,36,36)\",\"ticks\":\"outside\"},\"type\":\"contourcarpet\"}],\"contour\":[{\"colorbar\":{\"outlinewidth\":1,\"tickcolor\":\"rgb(36,36,36)\",\"ticks\":\"outside\"},\"colorscale\":[[0.0,\"#440154\"],[0.1111111111111111,\"#482878\"],[0.2222222222222222,\"#3e4989\"],[0.3333333333333333,\"#31688e\"],[0.4444444444444444,\"#26828e\"],[0.5555555555555556,\"#1f9e89\"],[0.6666666666666666,\"#35b779\"],[0.7777777777777778,\"#6ece58\"],[0.8888888888888888,\"#b5de2b\"],[1.0,\"#fde725\"]],\"type\":\"contour\"}],\"heatmapgl\":[{\"colorbar\":{\"outlinewidth\":1,\"tickcolor\":\"rgb(36,36,36)\",\"ticks\":\"outside\"},\"colorscale\":[[0.0,\"#440154\"],[0.1111111111111111,\"#482878\"],[0.2222222222222222,\"#3e4989\"],[0.3333333333333333,\"#31688e\"],[0.4444444444444444,\"#26828e\"],[0.5555555555555556,\"#1f9e89\"],[0.6666666666666666,\"#35b779\"],[0.7777777777777778,\"#6ece58\"],[0.8888888888888888,\"#b5de2b\"],[1.0,\"#fde725\"]],\"type\":\"heatmapgl\"}],\"heatmap\":[{\"colorbar\":{\"outlinewidth\":1,\"tickcolor\":\"rgb(36,36,36)\",\"ticks\":\"outside\"},\"colorscale\":[[0.0,\"#440154\"],[0.1111111111111111,\"#482878\"],[0.2222222222222222,\"#3e4989\"],[0.3333333333333333,\"#31688e\"],[0.4444444444444444,\"#26828e\"],[0.5555555555555556,\"#1f9e89\"],[0.6666666666666666,\"#35b779\"],[0.7777777777777778,\"#6ece58\"],[0.8888888888888888,\"#b5de2b\"],[1.0,\"#fde725\"]],\"type\":\"heatmap\"}],\"histogram2dcontour\":[{\"colorbar\":{\"outlinewidth\":1,\"tickcolor\":\"rgb(36,36,36)\",\"ticks\":\"outside\"},\"colorscale\":[[0.0,\"#440154\"],[0.1111111111111111,\"#482878\"],[0.2222222222222222,\"#3e4989\"],[0.3333333333333333,\"#31688e\"],[0.4444444444444444,\"#26828e\"],[0.5555555555555556,\"#1f9e89\"],[0.6666666666666666,\"#35b779\"],[0.7777777777777778,\"#6ece58\"],[0.8888888888888888,\"#b5de2b\"],[1.0,\"#fde725\"]],\"type\":\"histogram2dcontour\"}],\"histogram2d\":[{\"colorbar\":{\"outlinewidth\":1,\"tickcolor\":\"rgb(36,36,36)\",\"ticks\":\"outside\"},\"colorscale\":[[0.0,\"#440154\"],[0.1111111111111111,\"#482878\"],[0.2222222222222222,\"#3e4989\"],[0.3333333333333333,\"#31688e\"],[0.4444444444444444,\"#26828e\"],[0.5555555555555556,\"#1f9e89\"],[0.6666666666666666,\"#35b779\"],[0.7777777777777778,\"#6ece58\"],[0.8888888888888888,\"#b5de2b\"],[1.0,\"#fde725\"]],\"type\":\"histogram2d\"}],\"histogram\":[{\"marker\":{\"line\":{\"color\":\"white\",\"width\":0.6}},\"type\":\"histogram\"}],\"mesh3d\":[{\"colorbar\":{\"outlinewidth\":1,\"tickcolor\":\"rgb(36,36,36)\",\"ticks\":\"outside\"},\"type\":\"mesh3d\"}],\"parcoords\":[{\"line\":{\"colorbar\":{\"outlinewidth\":1,\"tickcolor\":\"rgb(36,36,36)\",\"ticks\":\"outside\"}},\"type\":\"parcoords\"}],\"pie\":[{\"automargin\":true,\"type\":\"pie\"}],\"scatter3d\":[{\"line\":{\"colorbar\":{\"outlinewidth\":1,\"tickcolor\":\"rgb(36,36,36)\",\"ticks\":\"outside\"}},\"marker\":{\"colorbar\":{\"outlinewidth\":1,\"tickcolor\":\"rgb(36,36,36)\",\"ticks\":\"outside\"}},\"type\":\"scatter3d\"}],\"scattercarpet\":[{\"marker\":{\"colorbar\":{\"outlinewidth\":1,\"tickcolor\":\"rgb(36,36,36)\",\"ticks\":\"outside\"}},\"type\":\"scattercarpet\"}],\"scattergeo\":[{\"marker\":{\"colorbar\":{\"outlinewidth\":1,\"tickcolor\":\"rgb(36,36,36)\",\"ticks\":\"outside\"}},\"type\":\"scattergeo\"}],\"scattergl\":[{\"marker\":{\"colorbar\":{\"outlinewidth\":1,\"tickcolor\":\"rgb(36,36,36)\",\"ticks\":\"outside\"}},\"type\":\"scattergl\"}],\"scattermapbox\":[{\"marker\":{\"colorbar\":{\"outlinewidth\":1,\"tickcolor\":\"rgb(36,36,36)\",\"ticks\":\"outside\"}},\"type\":\"scattermapbox\"}],\"scatterpolargl\":[{\"marker\":{\"colorbar\":{\"outlinewidth\":1,\"tickcolor\":\"rgb(36,36,36)\",\"ticks\":\"outside\"}},\"type\":\"scatterpolargl\"}],\"scatterpolar\":[{\"marker\":{\"colorbar\":{\"outlinewidth\":1,\"tickcolor\":\"rgb(36,36,36)\",\"ticks\":\"outside\"}},\"type\":\"scatterpolar\"}],\"scatter\":[{\"fillpattern\":{\"fillmode\":\"overlay\",\"size\":10,\"solidity\":0.2},\"type\":\"scatter\"}],\"scatterternary\":[{\"marker\":{\"colorbar\":{\"outlinewidth\":1,\"tickcolor\":\"rgb(36,36,36)\",\"ticks\":\"outside\"}},\"type\":\"scatterternary\"}],\"surface\":[{\"colorbar\":{\"outlinewidth\":1,\"tickcolor\":\"rgb(36,36,36)\",\"ticks\":\"outside\"},\"colorscale\":[[0.0,\"#440154\"],[0.1111111111111111,\"#482878\"],[0.2222222222222222,\"#3e4989\"],[0.3333333333333333,\"#31688e\"],[0.4444444444444444,\"#26828e\"],[0.5555555555555556,\"#1f9e89\"],[0.6666666666666666,\"#35b779\"],[0.7777777777777778,\"#6ece58\"],[0.8888888888888888,\"#b5de2b\"],[1.0,\"#fde725\"]],\"type\":\"surface\"}],\"table\":[{\"cells\":{\"fill\":{\"color\":\"rgb(237,237,237)\"},\"line\":{\"color\":\"white\"}},\"header\":{\"fill\":{\"color\":\"rgb(217,217,217)\"},\"line\":{\"color\":\"white\"}},\"type\":\"table\"}]},\"layout\":{\"annotationdefaults\":{\"arrowhead\":0,\"arrowwidth\":1},\"autotypenumbers\":\"strict\",\"coloraxis\":{\"colorbar\":{\"outlinewidth\":1,\"tickcolor\":\"rgb(36,36,36)\",\"ticks\":\"outside\"}},\"colorscale\":{\"diverging\":[[0.0,\"rgb(103,0,31)\"],[0.1,\"rgb(178,24,43)\"],[0.2,\"rgb(214,96,77)\"],[0.3,\"rgb(244,165,130)\"],[0.4,\"rgb(253,219,199)\"],[0.5,\"rgb(247,247,247)\"],[0.6,\"rgb(209,229,240)\"],[0.7,\"rgb(146,197,222)\"],[0.8,\"rgb(67,147,195)\"],[0.9,\"rgb(33,102,172)\"],[1.0,\"rgb(5,48,97)\"]],\"sequential\":[[0.0,\"#440154\"],[0.1111111111111111,\"#482878\"],[0.2222222222222222,\"#3e4989\"],[0.3333333333333333,\"#31688e\"],[0.4444444444444444,\"#26828e\"],[0.5555555555555556,\"#1f9e89\"],[0.6666666666666666,\"#35b779\"],[0.7777777777777778,\"#6ece58\"],[0.8888888888888888,\"#b5de2b\"],[1.0,\"#fde725\"]],\"sequentialminus\":[[0.0,\"#440154\"],[0.1111111111111111,\"#482878\"],[0.2222222222222222,\"#3e4989\"],[0.3333333333333333,\"#31688e\"],[0.4444444444444444,\"#26828e\"],[0.5555555555555556,\"#1f9e89\"],[0.6666666666666666,\"#35b779\"],[0.7777777777777778,\"#6ece58\"],[0.8888888888888888,\"#b5de2b\"],[1.0,\"#fde725\"]]},\"colorway\":[\"#1F77B4\",\"#FF7F0E\",\"#2CA02C\",\"#D62728\",\"#9467BD\",\"#8C564B\",\"#E377C2\",\"#7F7F7F\",\"#BCBD22\",\"#17BECF\"],\"font\":{\"color\":\"rgb(36,36,36)\"},\"geo\":{\"bgcolor\":\"white\",\"lakecolor\":\"white\",\"landcolor\":\"white\",\"showlakes\":true,\"showland\":true,\"subunitcolor\":\"white\"},\"hoverlabel\":{\"align\":\"left\"},\"hovermode\":\"closest\",\"mapbox\":{\"style\":\"light\"},\"paper_bgcolor\":\"white\",\"plot_bgcolor\":\"white\",\"polar\":{\"angularaxis\":{\"gridcolor\":\"rgb(232,232,232)\",\"linecolor\":\"rgb(36,36,36)\",\"showgrid\":false,\"showline\":true,\"ticks\":\"outside\"},\"bgcolor\":\"white\",\"radialaxis\":{\"gridcolor\":\"rgb(232,232,232)\",\"linecolor\":\"rgb(36,36,36)\",\"showgrid\":false,\"showline\":true,\"ticks\":\"outside\"}},\"scene\":{\"xaxis\":{\"backgroundcolor\":\"white\",\"gridcolor\":\"rgb(232,232,232)\",\"gridwidth\":2,\"linecolor\":\"rgb(36,36,36)\",\"showbackground\":true,\"showgrid\":false,\"showline\":true,\"ticks\":\"outside\",\"zeroline\":false,\"zerolinecolor\":\"rgb(36,36,36)\"},\"yaxis\":{\"backgroundcolor\":\"white\",\"gridcolor\":\"rgb(232,232,232)\",\"gridwidth\":2,\"linecolor\":\"rgb(36,36,36)\",\"showbackground\":true,\"showgrid\":false,\"showline\":true,\"ticks\":\"outside\",\"zeroline\":false,\"zerolinecolor\":\"rgb(36,36,36)\"},\"zaxis\":{\"backgroundcolor\":\"white\",\"gridcolor\":\"rgb(232,232,232)\",\"gridwidth\":2,\"linecolor\":\"rgb(36,36,36)\",\"showbackground\":true,\"showgrid\":false,\"showline\":true,\"ticks\":\"outside\",\"zeroline\":false,\"zerolinecolor\":\"rgb(36,36,36)\"}},\"shapedefaults\":{\"fillcolor\":\"black\",\"line\":{\"width\":0},\"opacity\":0.3},\"ternary\":{\"aaxis\":{\"gridcolor\":\"rgb(232,232,232)\",\"linecolor\":\"rgb(36,36,36)\",\"showgrid\":false,\"showline\":true,\"ticks\":\"outside\"},\"baxis\":{\"gridcolor\":\"rgb(232,232,232)\",\"linecolor\":\"rgb(36,36,36)\",\"showgrid\":false,\"showline\":true,\"ticks\":\"outside\"},\"bgcolor\":\"white\",\"caxis\":{\"gridcolor\":\"rgb(232,232,232)\",\"linecolor\":\"rgb(36,36,36)\",\"showgrid\":false,\"showline\":true,\"ticks\":\"outside\"}},\"title\":{\"x\":0.05},\"xaxis\":{\"automargin\":true,\"gridcolor\":\"rgb(232,232,232)\",\"linecolor\":\"rgb(36,36,36)\",\"showgrid\":false,\"showline\":true,\"ticks\":\"outside\",\"title\":{\"standoff\":15},\"zeroline\":false,\"zerolinecolor\":\"rgb(36,36,36)\"},\"yaxis\":{\"automargin\":true,\"gridcolor\":\"rgb(232,232,232)\",\"linecolor\":\"rgb(36,36,36)\",\"showgrid\":false,\"showline\":true,\"ticks\":\"outside\",\"title\":{\"standoff\":15},\"zeroline\":false,\"zerolinecolor\":\"rgb(36,36,36)\"},\"margin\":{\"b\":0,\"l\":20,\"r\":20,\"t\":40}}},\"xaxis\":{\"anchor\":\"y\",\"domain\":[0.0,0.45]},\"yaxis\":{\"anchor\":\"x\",\"domain\":[0.0,1.0]},\"xaxis2\":{\"anchor\":\"y2\",\"domain\":[0.55,1.0]},\"yaxis2\":{\"anchor\":\"x2\",\"domain\":[0.0,1.0]},\"annotations\":[{\"font\":{\"size\":16},\"showarrow\":false,\"text\":\"$\\\\text{Simulated Data: }y=x^4-2x^3-0.5x^2+1$\",\"x\":0.225,\"xanchor\":\"center\",\"xref\":\"paper\",\"y\":1.0,\"yanchor\":\"bottom\",\"yref\":\"paper\"},{\"font\":{\"size\":16},\"showarrow\":false,\"text\":\"$\\\\text{Positions Salary}$\",\"x\":0.775,\"xanchor\":\"center\",\"xref\":\"paper\",\"y\":1.0,\"yanchor\":\"bottom\",\"yref\":\"paper\"}],\"margin\":{\"t\":100},\"title\":{\"text\":\"$\\\\text{(1) Datasets For Polynomial Fitting}$\"}},                        {\"responsive\": true}                    ).then(function(){\n                            \nvar gd = document.getElementById('c2042593-f3e2-4a73-a734-43b6fa1ad6ac');\nvar x = new MutationObserver(function (mutations, observer) {{\n        var display = window.getComputedStyle(gd).display;\n        if (!display || display === 'none') {{\n            console.log([gd, 'removed!']);\n            Plotly.purge(gd);\n            observer.disconnect();\n        }}\n}});\n\n// Listen for the removal of the full notebook cells\nvar notebookContainer = gd.closest('#notebook-container');\nif (notebookContainer) {{\n    x.observe(notebookContainer, {childList: true});\n}}\n\n// Listen for the clearing of the current output cell\nvar outputEl = gd.closest('.output');\nif (outputEl) {{\n    x.observe(outputEl, {childList: true});\n}}\n\n                        })                };                });            </script>        </div>"
     },
     "metadata": {},
     "output_type": "display_data"
    }
   ],
   "source": [
    "response = lambda x: x**4 - 2*x**3 - .5*x**2 + 1\n",
    "\n",
    "x = np.linspace(-1.2, 2, 40)[0::2]\n",
    "y_ = response(x)\n",
    "\n",
    "df = pd.read_csv(\"../datasets/Position_Salaries.csv\", skiprows=2, index_col=0)\n",
    "x2, y2 = df.index, df.Salary\n",
    "\n",
    "make_subplots(1, 2, subplot_titles=(r\"$\\text{Simulated Data: }y=x^4-2x^3-0.5x^2+1$\", r\"$\\text{Positions Salary}$\"))\\\n",
    "    .add_traces([go.Scatter(x=x, y=y_, mode=\"markers\", marker=dict(color=\"black\", opacity=.7), showlegend=False),\n",
    "                 go.Scatter(x=x2, y=y2, mode=\"markers\",marker=dict(color=\"black\", opacity=.7), showlegend=False)], \n",
    "                rows=[1,1], cols=[1,2])\\\n",
    "    .update_layout(title=r\"$\\text{(1) Datasets For Polynomial Fitting}$\", margin=dict(t=100)).show()\n",
    "\n"
   ]
  },
  {
   "cell_type": "markdown",
   "metadata": {
    "pycharm": {
     "name": "#%% md\n"
    }
   },
   "source": [
    "As we have discussed in class, solving a polynomial fitting problem can be done by first manipulating the input data,\n",
    "such that we represent each sample $x_i\\in\\mathbb{R}$ as a vector $\\mathbf{x}_i=\\left(x^0,x^1,\\ldots,x^k\\right)$. Then,\n",
    "we treat the data as a design matrix $\\mathbf{X}\\in\\mathbb{R}^{m\\times k}$ of a linear regression problem.\n",
    "\n",
    "For the simulated dataset above, which is of a polynomial of degree 4, the design matrix looks as follows: \n"
   ]
  },
  {
   "cell_type": "code",
   "execution_count": 9,
   "metadata": {
    "pycharm": {
     "name": "#%%\n"
    }
   },
   "outputs": [
    {
     "data": {
      "text/plain": "       $x^0$     $x^1$     $x^2$     $x^3$     $x^4$\n$x_1$    1.0 -1.200000  1.440000 -1.728000  2.073600\n$x_2$    1.0 -1.035897  1.073083 -1.111604  1.151508\n$x_3$    1.0 -0.871795  0.760026 -0.662587  0.577640\n$x_4$    1.0 -0.707692  0.500828 -0.354432  0.250829\n$x_5$    1.0 -0.543590  0.295490 -0.160625  0.087314",
      "text/html": "<div>\n<style scoped>\n    .dataframe tbody tr th:only-of-type {\n        vertical-align: middle;\n    }\n\n    .dataframe tbody tr th {\n        vertical-align: top;\n    }\n\n    .dataframe thead th {\n        text-align: right;\n    }\n</style>\n<table border=\"1\" class=\"dataframe\">\n  <thead>\n    <tr style=\"text-align: right;\">\n      <th></th>\n      <th>$x^0$</th>\n      <th>$x^1$</th>\n      <th>$x^2$</th>\n      <th>$x^3$</th>\n      <th>$x^4$</th>\n    </tr>\n  </thead>\n  <tbody>\n    <tr>\n      <th>$x_1$</th>\n      <td>1.0</td>\n      <td>-1.200000</td>\n      <td>1.440000</td>\n      <td>-1.728000</td>\n      <td>2.073600</td>\n    </tr>\n    <tr>\n      <th>$x_2$</th>\n      <td>1.0</td>\n      <td>-1.035897</td>\n      <td>1.073083</td>\n      <td>-1.111604</td>\n      <td>1.151508</td>\n    </tr>\n    <tr>\n      <th>$x_3$</th>\n      <td>1.0</td>\n      <td>-0.871795</td>\n      <td>0.760026</td>\n      <td>-0.662587</td>\n      <td>0.577640</td>\n    </tr>\n    <tr>\n      <th>$x_4$</th>\n      <td>1.0</td>\n      <td>-0.707692</td>\n      <td>0.500828</td>\n      <td>-0.354432</td>\n      <td>0.250829</td>\n    </tr>\n    <tr>\n      <th>$x_5$</th>\n      <td>1.0</td>\n      <td>-0.543590</td>\n      <td>0.295490</td>\n      <td>-0.160625</td>\n      <td>0.087314</td>\n    </tr>\n  </tbody>\n</table>\n</div>"
     },
     "execution_count": 9,
     "metadata": {},
     "output_type": "execute_result"
    }
   ],
   "source": [
    "from sklearn.preprocessing import PolynomialFeatures\n",
    "m, k, X = 5, 4, x.reshape(-1, 1)\n",
    "pd.DataFrame(PolynomialFeatures(k).fit_transform(X[:m]), \n",
    "             columns=[rf\"$x^{{0}}$\".format(i) for i in range(0, k+1)],\n",
    "             index=[rf\"$x_{{0}}$\".format(i) for i in range(1, m+1)])"
   ]
  },
  {
   "cell_type": "markdown",
   "metadata": {
    "pycharm": {
     "name": "#%% md\n"
    }
   },
   "source": [
    "## Fitting A Polynomial Of Different Degrees\n",
    "\n",
    "Next, let us fit polynomials of different degrees and different noise properties to study how it influences the learned model.\n",
    "We begin with the noise-less case where we fit for different values of $k$. As we increase $k$ we manage to fit a model\n",
    "that describes the data in a better way, reflected by the decrease in the MSE.\n",
    "\n",
    "*Notice that in both the `PolynomialFeatures` and `LinearRegression` functions we can add the bias/intercept parameter. As in this case it makes no difference, we will include the bias in the polynomial features transformation and fit a linear regression **without** an intercept. The bias parameter of the polynomial features (i.e. $x^0$) will in reality be the intercept of the linear regression.*"
   ]
  },
  {
   "cell_type": "code",
   "execution_count": 10,
   "metadata": {
    "pycharm": {
     "name": "#%%\n"
    }
   },
   "outputs": [
    {
     "data": {
      "application/vnd.plotly.v1+json": {
       "data": [
        {
         "marker": {
          "color": "black",
          "opacity": 0.7
         },
         "mode": "markers",
         "name": "Real Points",
         "showlegend": false,
         "x": [
          -1.2,
          -1.0358974358974358,
          -0.8717948717948718,
          -0.7076923076923076,
          -0.5435897435897435,
          -0.37948717948717947,
          -0.21538461538461529,
          -0.05128205128205132,
          0.11282051282051286,
          0.27692307692307705,
          0.441025641025641,
          0.6051282051282052,
          0.7692307692307694,
          0.9333333333333333,
          1.0974358974358973,
          1.2615384615384617,
          1.4256410256410257,
          1.5897435897435896,
          1.753846153846154,
          1.917948717948718
         ],
         "y": [
          5.8096,
          3.8381753317244733,
          2.522800884051074,
          1.7092797030916282,
          1.2608197821340592,
          1.058034061642376,
          0.9989404292566787,
          0.9989617197931566,
          0.9909257152440888,
          0.9250651447778439,
          0.7690176847388803,
          0.5078259586477458,
          0.14393753720107805,
          -0.3027950617283952,
          -0.7951143730918573,
          -1.278357984664403,
          -1.6804585370450331,
          -1.911943723656666,
          -1.8659362907461214,
          -1.418154037384138
         ],
         "type": "scatter",
         "xaxis": "x",
         "yaxis": "y"
        },
        {
         "marker": {
          "color": "blue",
          "opacity": 0.7
         },
         "mode": "markers",
         "name": "Predicted Points",
         "showlegend": false,
         "x": [
          -1.2,
          -1.0358974358974358,
          -0.8717948717948718,
          -0.7076923076923076,
          -0.5435897435897435,
          -0.37948717948717947,
          -0.21538461538461529,
          -0.05128205128205132,
          0.11282051282051286,
          0.27692307692307705,
          0.441025641025641,
          0.6051282051282052,
          0.7692307692307694,
          0.9333333333333333,
          1.0974358974358973,
          1.2615384615384617,
          1.4256410256410257,
          1.5897435897435896,
          1.753846153846154,
          1.917948717948718
         ],
         "y": [
          4.121178320220211,
          3.6219091504794285,
          3.144322612133674,
          2.6884187051829453,
          2.254197429627244,
          1.8416587854665702,
          1.4508027727009232,
          1.0816293913303034,
          0.7341386413547104,
          0.4083305227741445,
          0.10420503558860628,
          -0.17823782020190548,
          -0.43899804459739,
          -0.6780756375978472,
          -0.8954705992032772,
          -1.091182929413681,
          -1.265212628229057,
          -1.4175596956494054,
          -1.5482241316747278,
          -1.657205936305023
         ],
         "type": "scatter",
         "xaxis": "x",
         "yaxis": "y"
        },
        {
         "marker": {
          "color": "black",
          "opacity": 0.7
         },
         "mode": "markers",
         "name": "Real Points",
         "showlegend": false,
         "x": [
          -1.2,
          -1.0358974358974358,
          -0.8717948717948718,
          -0.7076923076923076,
          -0.5435897435897435,
          -0.37948717948717947,
          -0.21538461538461529,
          -0.05128205128205132,
          0.11282051282051286,
          0.27692307692307705,
          0.441025641025641,
          0.6051282051282052,
          0.7692307692307694,
          0.9333333333333333,
          1.0974358974358973,
          1.2615384615384617,
          1.4256410256410257,
          1.5897435897435896,
          1.753846153846154,
          1.917948717948718
         ],
         "y": [
          5.8096,
          3.8381753317244733,
          2.522800884051074,
          1.7092797030916282,
          1.2608197821340592,
          1.058034061642376,
          0.9989404292566787,
          0.9989617197931566,
          0.9909257152440888,
          0.9250651447778439,
          0.7690176847388803,
          0.5078259586477458,
          0.14393753720107805,
          -0.3027950617283952,
          -0.7951143730918573,
          -1.278357984664403,
          -1.6804585370450331,
          -1.911943723656666,
          -1.8659362907461214,
          -1.418154037384138
         ],
         "type": "scatter",
         "xaxis": "x2",
         "yaxis": "y2"
        },
        {
         "marker": {
          "color": "blue",
          "opacity": 0.7
         },
         "mode": "markers",
         "name": "Predicted Points",
         "showlegend": false,
         "x": [
          -1.2,
          -1.0358974358974358,
          -0.8717948717948718,
          -0.7076923076923076,
          -0.5435897435897435,
          -0.37948717948717947,
          -0.21538461538461529,
          -0.05128205128205132,
          0.11282051282051286,
          0.27692307692307705,
          0.441025641025641,
          0.6051282051282052,
          0.7692307692307694,
          0.9333333333333333,
          1.0974358974358973,
          1.2615384615384617,
          1.4256410256410257,
          1.5897435897435896,
          1.753846153846154,
          1.917948717948718
         ],
         "y": [
          4.845863210649666,
          3.88889832063765,
          3.080753762096005,
          2.4064721585452764,
          1.8510961335060137,
          1.3996683104987642,
          1.0372313130440758,
          0.7488277646624971,
          0.5195002888745751,
          0.33429150920085826,
          0.1782440491618947,
          0.036400532278232006,
          -0.10619641792958157,
          -0.2645041779409982,
          -0.4534801242354699,
          -0.6880816332924493,
          -0.9832660815913867,
          -1.3539908456117364,
          -1.8152133018329504,
          -2.381890826734477
         ],
         "type": "scatter",
         "xaxis": "x2",
         "yaxis": "y2"
        },
        {
         "marker": {
          "color": "black",
          "opacity": 0.7
         },
         "mode": "markers",
         "name": "Real Points",
         "showlegend": false,
         "x": [
          -1.2,
          -1.0358974358974358,
          -0.8717948717948718,
          -0.7076923076923076,
          -0.5435897435897435,
          -0.37948717948717947,
          -0.21538461538461529,
          -0.05128205128205132,
          0.11282051282051286,
          0.27692307692307705,
          0.441025641025641,
          0.6051282051282052,
          0.7692307692307694,
          0.9333333333333333,
          1.0974358974358973,
          1.2615384615384617,
          1.4256410256410257,
          1.5897435897435896,
          1.753846153846154,
          1.917948717948718
         ],
         "y": [
          5.8096,
          3.8381753317244733,
          2.522800884051074,
          1.7092797030916282,
          1.2608197821340592,
          1.058034061642376,
          0.9989404292566787,
          0.9989617197931566,
          0.9909257152440888,
          0.9250651447778439,
          0.7690176847388803,
          0.5078259586477458,
          0.14393753720107805,
          -0.3027950617283952,
          -0.7951143730918573,
          -1.278357984664403,
          -1.6804585370450331,
          -1.911943723656666,
          -1.8659362907461214,
          -1.418154037384138
         ],
         "type": "scatter",
         "xaxis": "x3",
         "yaxis": "y3"
        },
        {
         "marker": {
          "color": "blue",
          "opacity": 0.7
         },
         "mode": "markers",
         "name": "Predicted Points",
         "showlegend": false,
         "x": [
          -1.2,
          -1.0358974358974358,
          -0.8717948717948718,
          -0.7076923076923076,
          -0.5435897435897435,
          -0.37948717948717947,
          -0.21538461538461529,
          -0.05128205128205132,
          0.11282051282051286,
          0.27692307692307705,
          0.441025641025641,
          0.6051282051282052,
          0.7692307692307694,
          0.9333333333333333,
          1.0974358974358973,
          1.2615384615384617,
          1.4256410256410257,
          1.5897435897435896,
          1.753846153846154,
          1.917948717948718
         ],
         "y": [
          5.8096,
          3.8381753317244733,
          2.5228008840510743,
          1.7092797030916294,
          1.2608197821340605,
          1.0580340616423776,
          0.9989404292566803,
          0.9989617197931581,
          0.9909257152440905,
          0.9250651447778455,
          0.769017684738882,
          0.5078259586477474,
          0.1439375372010796,
          -0.3027950617283939,
          -0.795114373091856,
          -1.2783579846644018,
          -1.6804585370450331,
          -1.911943723656666,
          -1.8659362907461254,
          -1.4181540373841433
         ],
         "type": "scatter",
         "xaxis": "x3",
         "yaxis": "y3"
        },
        {
         "marker": {
          "color": "black",
          "opacity": 0.7
         },
         "mode": "markers",
         "name": "Real Points",
         "showlegend": false,
         "x": [
          -1.2,
          -1.0358974358974358,
          -0.8717948717948718,
          -0.7076923076923076,
          -0.5435897435897435,
          -0.37948717948717947,
          -0.21538461538461529,
          -0.05128205128205132,
          0.11282051282051286,
          0.27692307692307705,
          0.441025641025641,
          0.6051282051282052,
          0.7692307692307694,
          0.9333333333333333,
          1.0974358974358973,
          1.2615384615384617,
          1.4256410256410257,
          1.5897435897435896,
          1.753846153846154,
          1.917948717948718
         ],
         "y": [
          5.8096,
          3.8381753317244733,
          2.522800884051074,
          1.7092797030916282,
          1.2608197821340592,
          1.058034061642376,
          0.9989404292566787,
          0.9989617197931566,
          0.9909257152440888,
          0.9250651447778439,
          0.7690176847388803,
          0.5078259586477458,
          0.14393753720107805,
          -0.3027950617283952,
          -0.7951143730918573,
          -1.278357984664403,
          -1.6804585370450331,
          -1.911943723656666,
          -1.8659362907461214,
          -1.418154037384138
         ],
         "type": "scatter",
         "xaxis": "x4",
         "yaxis": "y4"
        },
        {
         "marker": {
          "color": "blue",
          "opacity": 0.7
         },
         "mode": "markers",
         "name": "Predicted Points",
         "showlegend": false,
         "x": [
          -1.2,
          -1.0358974358974358,
          -0.8717948717948718,
          -0.7076923076923076,
          -0.5435897435897435,
          -0.37948717948717947,
          -0.21538461538461529,
          -0.05128205128205132,
          0.11282051282051286,
          0.27692307692307705,
          0.441025641025641,
          0.6051282051282052,
          0.7692307692307694,
          0.9333333333333333,
          1.0974358974358973,
          1.2615384615384617,
          1.4256410256410257,
          1.5897435897435896,
          1.753846153846154,
          1.917948717948718
         ],
         "y": [
          5.8096000000000005,
          3.8381753317244742,
          2.522800884051075,
          1.7092797030916296,
          1.2608197821340603,
          1.0580340616423771,
          0.9989404292566794,
          0.9989617197931567,
          0.9909257152440888,
          0.9250651447778435,
          0.7690176847388798,
          0.5078259586477447,
          0.14393753720107672,
          -0.3027950617283972,
          -0.7951143730918591,
          -1.2783579846644049,
          -1.6804585370450367,
          -1.9119437236566688,
          -1.8659362907461254,
          -1.4181540373841415
         ],
         "type": "scatter",
         "xaxis": "x4",
         "yaxis": "y4"
        }
       ],
       "layout": {
        "template": {
         "data": {
          "barpolar": [
           {
            "marker": {
             "line": {
              "color": "white",
              "width": 0.5
             },
             "pattern": {
              "fillmode": "overlay",
              "size": 10,
              "solidity": 0.2
             }
            },
            "type": "barpolar"
           }
          ],
          "bar": [
           {
            "error_x": {
             "color": "rgb(36,36,36)"
            },
            "error_y": {
             "color": "rgb(36,36,36)"
            },
            "marker": {
             "line": {
              "color": "white",
              "width": 0.5
             },
             "pattern": {
              "fillmode": "overlay",
              "size": 10,
              "solidity": 0.2
             }
            },
            "type": "bar"
           }
          ],
          "carpet": [
           {
            "aaxis": {
             "endlinecolor": "rgb(36,36,36)",
             "gridcolor": "white",
             "linecolor": "white",
             "minorgridcolor": "white",
             "startlinecolor": "rgb(36,36,36)"
            },
            "baxis": {
             "endlinecolor": "rgb(36,36,36)",
             "gridcolor": "white",
             "linecolor": "white",
             "minorgridcolor": "white",
             "startlinecolor": "rgb(36,36,36)"
            },
            "type": "carpet"
           }
          ],
          "choropleth": [
           {
            "colorbar": {
             "outlinewidth": 1,
             "tickcolor": "rgb(36,36,36)",
             "ticks": "outside"
            },
            "type": "choropleth"
           }
          ],
          "contourcarpet": [
           {
            "colorbar": {
             "outlinewidth": 1,
             "tickcolor": "rgb(36,36,36)",
             "ticks": "outside"
            },
            "type": "contourcarpet"
           }
          ],
          "contour": [
           {
            "colorbar": {
             "outlinewidth": 1,
             "tickcolor": "rgb(36,36,36)",
             "ticks": "outside"
            },
            "colorscale": [
             [
              0.0,
              "#440154"
             ],
             [
              0.1111111111111111,
              "#482878"
             ],
             [
              0.2222222222222222,
              "#3e4989"
             ],
             [
              0.3333333333333333,
              "#31688e"
             ],
             [
              0.4444444444444444,
              "#26828e"
             ],
             [
              0.5555555555555556,
              "#1f9e89"
             ],
             [
              0.6666666666666666,
              "#35b779"
             ],
             [
              0.7777777777777778,
              "#6ece58"
             ],
             [
              0.8888888888888888,
              "#b5de2b"
             ],
             [
              1.0,
              "#fde725"
             ]
            ],
            "type": "contour"
           }
          ],
          "heatmapgl": [
           {
            "colorbar": {
             "outlinewidth": 1,
             "tickcolor": "rgb(36,36,36)",
             "ticks": "outside"
            },
            "colorscale": [
             [
              0.0,
              "#440154"
             ],
             [
              0.1111111111111111,
              "#482878"
             ],
             [
              0.2222222222222222,
              "#3e4989"
             ],
             [
              0.3333333333333333,
              "#31688e"
             ],
             [
              0.4444444444444444,
              "#26828e"
             ],
             [
              0.5555555555555556,
              "#1f9e89"
             ],
             [
              0.6666666666666666,
              "#35b779"
             ],
             [
              0.7777777777777778,
              "#6ece58"
             ],
             [
              0.8888888888888888,
              "#b5de2b"
             ],
             [
              1.0,
              "#fde725"
             ]
            ],
            "type": "heatmapgl"
           }
          ],
          "heatmap": [
           {
            "colorbar": {
             "outlinewidth": 1,
             "tickcolor": "rgb(36,36,36)",
             "ticks": "outside"
            },
            "colorscale": [
             [
              0.0,
              "#440154"
             ],
             [
              0.1111111111111111,
              "#482878"
             ],
             [
              0.2222222222222222,
              "#3e4989"
             ],
             [
              0.3333333333333333,
              "#31688e"
             ],
             [
              0.4444444444444444,
              "#26828e"
             ],
             [
              0.5555555555555556,
              "#1f9e89"
             ],
             [
              0.6666666666666666,
              "#35b779"
             ],
             [
              0.7777777777777778,
              "#6ece58"
             ],
             [
              0.8888888888888888,
              "#b5de2b"
             ],
             [
              1.0,
              "#fde725"
             ]
            ],
            "type": "heatmap"
           }
          ],
          "histogram2dcontour": [
           {
            "colorbar": {
             "outlinewidth": 1,
             "tickcolor": "rgb(36,36,36)",
             "ticks": "outside"
            },
            "colorscale": [
             [
              0.0,
              "#440154"
             ],
             [
              0.1111111111111111,
              "#482878"
             ],
             [
              0.2222222222222222,
              "#3e4989"
             ],
             [
              0.3333333333333333,
              "#31688e"
             ],
             [
              0.4444444444444444,
              "#26828e"
             ],
             [
              0.5555555555555556,
              "#1f9e89"
             ],
             [
              0.6666666666666666,
              "#35b779"
             ],
             [
              0.7777777777777778,
              "#6ece58"
             ],
             [
              0.8888888888888888,
              "#b5de2b"
             ],
             [
              1.0,
              "#fde725"
             ]
            ],
            "type": "histogram2dcontour"
           }
          ],
          "histogram2d": [
           {
            "colorbar": {
             "outlinewidth": 1,
             "tickcolor": "rgb(36,36,36)",
             "ticks": "outside"
            },
            "colorscale": [
             [
              0.0,
              "#440154"
             ],
             [
              0.1111111111111111,
              "#482878"
             ],
             [
              0.2222222222222222,
              "#3e4989"
             ],
             [
              0.3333333333333333,
              "#31688e"
             ],
             [
              0.4444444444444444,
              "#26828e"
             ],
             [
              0.5555555555555556,
              "#1f9e89"
             ],
             [
              0.6666666666666666,
              "#35b779"
             ],
             [
              0.7777777777777778,
              "#6ece58"
             ],
             [
              0.8888888888888888,
              "#b5de2b"
             ],
             [
              1.0,
              "#fde725"
             ]
            ],
            "type": "histogram2d"
           }
          ],
          "histogram": [
           {
            "marker": {
             "line": {
              "color": "white",
              "width": 0.6
             }
            },
            "type": "histogram"
           }
          ],
          "mesh3d": [
           {
            "colorbar": {
             "outlinewidth": 1,
             "tickcolor": "rgb(36,36,36)",
             "ticks": "outside"
            },
            "type": "mesh3d"
           }
          ],
          "parcoords": [
           {
            "line": {
             "colorbar": {
              "outlinewidth": 1,
              "tickcolor": "rgb(36,36,36)",
              "ticks": "outside"
             }
            },
            "type": "parcoords"
           }
          ],
          "pie": [
           {
            "automargin": true,
            "type": "pie"
           }
          ],
          "scatter3d": [
           {
            "line": {
             "colorbar": {
              "outlinewidth": 1,
              "tickcolor": "rgb(36,36,36)",
              "ticks": "outside"
             }
            },
            "marker": {
             "colorbar": {
              "outlinewidth": 1,
              "tickcolor": "rgb(36,36,36)",
              "ticks": "outside"
             }
            },
            "type": "scatter3d"
           }
          ],
          "scattercarpet": [
           {
            "marker": {
             "colorbar": {
              "outlinewidth": 1,
              "tickcolor": "rgb(36,36,36)",
              "ticks": "outside"
             }
            },
            "type": "scattercarpet"
           }
          ],
          "scattergeo": [
           {
            "marker": {
             "colorbar": {
              "outlinewidth": 1,
              "tickcolor": "rgb(36,36,36)",
              "ticks": "outside"
             }
            },
            "type": "scattergeo"
           }
          ],
          "scattergl": [
           {
            "marker": {
             "colorbar": {
              "outlinewidth": 1,
              "tickcolor": "rgb(36,36,36)",
              "ticks": "outside"
             }
            },
            "type": "scattergl"
           }
          ],
          "scattermapbox": [
           {
            "marker": {
             "colorbar": {
              "outlinewidth": 1,
              "tickcolor": "rgb(36,36,36)",
              "ticks": "outside"
             }
            },
            "type": "scattermapbox"
           }
          ],
          "scatterpolargl": [
           {
            "marker": {
             "colorbar": {
              "outlinewidth": 1,
              "tickcolor": "rgb(36,36,36)",
              "ticks": "outside"
             }
            },
            "type": "scatterpolargl"
           }
          ],
          "scatterpolar": [
           {
            "marker": {
             "colorbar": {
              "outlinewidth": 1,
              "tickcolor": "rgb(36,36,36)",
              "ticks": "outside"
             }
            },
            "type": "scatterpolar"
           }
          ],
          "scatter": [
           {
            "fillpattern": {
             "fillmode": "overlay",
             "size": 10,
             "solidity": 0.2
            },
            "type": "scatter"
           }
          ],
          "scatterternary": [
           {
            "marker": {
             "colorbar": {
              "outlinewidth": 1,
              "tickcolor": "rgb(36,36,36)",
              "ticks": "outside"
             }
            },
            "type": "scatterternary"
           }
          ],
          "surface": [
           {
            "colorbar": {
             "outlinewidth": 1,
             "tickcolor": "rgb(36,36,36)",
             "ticks": "outside"
            },
            "colorscale": [
             [
              0.0,
              "#440154"
             ],
             [
              0.1111111111111111,
              "#482878"
             ],
             [
              0.2222222222222222,
              "#3e4989"
             ],
             [
              0.3333333333333333,
              "#31688e"
             ],
             [
              0.4444444444444444,
              "#26828e"
             ],
             [
              0.5555555555555556,
              "#1f9e89"
             ],
             [
              0.6666666666666666,
              "#35b779"
             ],
             [
              0.7777777777777778,
              "#6ece58"
             ],
             [
              0.8888888888888888,
              "#b5de2b"
             ],
             [
              1.0,
              "#fde725"
             ]
            ],
            "type": "surface"
           }
          ],
          "table": [
           {
            "cells": {
             "fill": {
              "color": "rgb(237,237,237)"
             },
             "line": {
              "color": "white"
             }
            },
            "header": {
             "fill": {
              "color": "rgb(217,217,217)"
             },
             "line": {
              "color": "white"
             }
            },
            "type": "table"
           }
          ]
         },
         "layout": {
          "annotationdefaults": {
           "arrowhead": 0,
           "arrowwidth": 1
          },
          "autotypenumbers": "strict",
          "coloraxis": {
           "colorbar": {
            "outlinewidth": 1,
            "tickcolor": "rgb(36,36,36)",
            "ticks": "outside"
           }
          },
          "colorscale": {
           "diverging": [
            [
             0.0,
             "rgb(103,0,31)"
            ],
            [
             0.1,
             "rgb(178,24,43)"
            ],
            [
             0.2,
             "rgb(214,96,77)"
            ],
            [
             0.3,
             "rgb(244,165,130)"
            ],
            [
             0.4,
             "rgb(253,219,199)"
            ],
            [
             0.5,
             "rgb(247,247,247)"
            ],
            [
             0.6,
             "rgb(209,229,240)"
            ],
            [
             0.7,
             "rgb(146,197,222)"
            ],
            [
             0.8,
             "rgb(67,147,195)"
            ],
            [
             0.9,
             "rgb(33,102,172)"
            ],
            [
             1.0,
             "rgb(5,48,97)"
            ]
           ],
           "sequential": [
            [
             0.0,
             "#440154"
            ],
            [
             0.1111111111111111,
             "#482878"
            ],
            [
             0.2222222222222222,
             "#3e4989"
            ],
            [
             0.3333333333333333,
             "#31688e"
            ],
            [
             0.4444444444444444,
             "#26828e"
            ],
            [
             0.5555555555555556,
             "#1f9e89"
            ],
            [
             0.6666666666666666,
             "#35b779"
            ],
            [
             0.7777777777777778,
             "#6ece58"
            ],
            [
             0.8888888888888888,
             "#b5de2b"
            ],
            [
             1.0,
             "#fde725"
            ]
           ],
           "sequentialminus": [
            [
             0.0,
             "#440154"
            ],
            [
             0.1111111111111111,
             "#482878"
            ],
            [
             0.2222222222222222,
             "#3e4989"
            ],
            [
             0.3333333333333333,
             "#31688e"
            ],
            [
             0.4444444444444444,
             "#26828e"
            ],
            [
             0.5555555555555556,
             "#1f9e89"
            ],
            [
             0.6666666666666666,
             "#35b779"
            ],
            [
             0.7777777777777778,
             "#6ece58"
            ],
            [
             0.8888888888888888,
             "#b5de2b"
            ],
            [
             1.0,
             "#fde725"
            ]
           ]
          },
          "colorway": [
           "#1F77B4",
           "#FF7F0E",
           "#2CA02C",
           "#D62728",
           "#9467BD",
           "#8C564B",
           "#E377C2",
           "#7F7F7F",
           "#BCBD22",
           "#17BECF"
          ],
          "font": {
           "color": "rgb(36,36,36)"
          },
          "geo": {
           "bgcolor": "white",
           "lakecolor": "white",
           "landcolor": "white",
           "showlakes": true,
           "showland": true,
           "subunitcolor": "white"
          },
          "hoverlabel": {
           "align": "left"
          },
          "hovermode": "closest",
          "mapbox": {
           "style": "light"
          },
          "paper_bgcolor": "white",
          "plot_bgcolor": "white",
          "polar": {
           "angularaxis": {
            "gridcolor": "rgb(232,232,232)",
            "linecolor": "rgb(36,36,36)",
            "showgrid": false,
            "showline": true,
            "ticks": "outside"
           },
           "bgcolor": "white",
           "radialaxis": {
            "gridcolor": "rgb(232,232,232)",
            "linecolor": "rgb(36,36,36)",
            "showgrid": false,
            "showline": true,
            "ticks": "outside"
           }
          },
          "scene": {
           "xaxis": {
            "backgroundcolor": "white",
            "gridcolor": "rgb(232,232,232)",
            "gridwidth": 2,
            "linecolor": "rgb(36,36,36)",
            "showbackground": true,
            "showgrid": false,
            "showline": true,
            "ticks": "outside",
            "zeroline": false,
            "zerolinecolor": "rgb(36,36,36)"
           },
           "yaxis": {
            "backgroundcolor": "white",
            "gridcolor": "rgb(232,232,232)",
            "gridwidth": 2,
            "linecolor": "rgb(36,36,36)",
            "showbackground": true,
            "showgrid": false,
            "showline": true,
            "ticks": "outside",
            "zeroline": false,
            "zerolinecolor": "rgb(36,36,36)"
           },
           "zaxis": {
            "backgroundcolor": "white",
            "gridcolor": "rgb(232,232,232)",
            "gridwidth": 2,
            "linecolor": "rgb(36,36,36)",
            "showbackground": true,
            "showgrid": false,
            "showline": true,
            "ticks": "outside",
            "zeroline": false,
            "zerolinecolor": "rgb(36,36,36)"
           }
          },
          "shapedefaults": {
           "fillcolor": "black",
           "line": {
            "width": 0
           },
           "opacity": 0.3
          },
          "ternary": {
           "aaxis": {
            "gridcolor": "rgb(232,232,232)",
            "linecolor": "rgb(36,36,36)",
            "showgrid": false,
            "showline": true,
            "ticks": "outside"
           },
           "baxis": {
            "gridcolor": "rgb(232,232,232)",
            "linecolor": "rgb(36,36,36)",
            "showgrid": false,
            "showline": true,
            "ticks": "outside"
           },
           "bgcolor": "white",
           "caxis": {
            "gridcolor": "rgb(232,232,232)",
            "linecolor": "rgb(36,36,36)",
            "showgrid": false,
            "showline": true,
            "ticks": "outside"
           }
          },
          "title": {
           "x": 0.05
          },
          "xaxis": {
           "automargin": true,
           "gridcolor": "rgb(232,232,232)",
           "linecolor": "rgb(36,36,36)",
           "showgrid": false,
           "showline": true,
           "ticks": "outside",
           "title": {
            "standoff": 15
           },
           "zeroline": false,
           "zerolinecolor": "rgb(36,36,36)"
          },
          "yaxis": {
           "automargin": true,
           "gridcolor": "rgb(232,232,232)",
           "linecolor": "rgb(36,36,36)",
           "showgrid": false,
           "showline": true,
           "ticks": "outside",
           "title": {
            "standoff": 15
           },
           "zeroline": false,
           "zerolinecolor": "rgb(36,36,36)"
          },
          "margin": {
           "b": 0,
           "l": 20,
           "r": 20,
           "t": 40
          }
         }
        },
        "xaxis": {
         "anchor": "y",
         "domain": [
          0.0,
          0.2125
         ]
        },
        "yaxis": {
         "anchor": "x",
         "domain": [
          0.0,
          1.0
         ],
         "title": {
          "text": "$\\widehat{y}$"
         }
        },
        "xaxis2": {
         "anchor": "y2",
         "domain": [
          0.2625,
          0.475
         ]
        },
        "yaxis2": {
         "anchor": "x2",
         "domain": [
          0.0,
          1.0
         ]
        },
        "xaxis3": {
         "anchor": "y3",
         "domain": [
          0.525,
          0.7375
         ]
        },
        "yaxis3": {
         "anchor": "x3",
         "domain": [
          0.0,
          1.0
         ]
        },
        "xaxis4": {
         "anchor": "y4",
         "domain": [
          0.7875,
          1.0
         ]
        },
        "yaxis4": {
         "anchor": "x4",
         "domain": [
          0.0,
          1.0
         ]
        },
        "annotations": [
         {
          "font": {
           "size": 16
          },
          "showarrow": false,
          "text": "$k=2, MSE=0.42$",
          "x": 0.10625,
          "xanchor": "center",
          "xref": "paper",
          "y": 1.0,
          "yanchor": "bottom",
          "yref": "paper"
         },
         {
          "font": {
           "size": 16
          },
          "showarrow": false,
          "text": "$k=3, MSE=0.28$",
          "x": 0.36875,
          "xanchor": "center",
          "xref": "paper",
          "y": 1.0,
          "yanchor": "bottom",
          "yref": "paper"
         },
         {
          "font": {
           "size": 16
          },
          "showarrow": false,
          "text": "$k=4, MSE=0.0$",
          "x": 0.6312500000000001,
          "xanchor": "center",
          "xref": "paper",
          "y": 1.0,
          "yanchor": "bottom",
          "yref": "paper"
         },
         {
          "font": {
           "size": 16
          },
          "showarrow": false,
          "text": "$k=5, MSE=0.0$",
          "x": 0.89375,
          "xanchor": "center",
          "xref": "paper",
          "y": 1.0,
          "yanchor": "bottom",
          "yref": "paper"
         }
        ],
        "margin": {
         "t": 60
        },
        "title": {
         "text": "$\\text{(2) Simulated Data - Fitting Polynomials of Different Degrees}$"
        },
        "height": 300
       },
       "config": {
        "plotlyServerURL": "https://plot.ly"
       }
      },
      "text/html": "<div>                            <div id=\"6447ac02-4240-4f3e-8dc8-bd3928a00e87\" class=\"plotly-graph-div\" style=\"height:300px; width:100%;\"></div>            <script type=\"text/javascript\">                require([\"plotly\"], function(Plotly) {                    window.PLOTLYENV=window.PLOTLYENV || {};                                    if (document.getElementById(\"6447ac02-4240-4f3e-8dc8-bd3928a00e87\")) {                    Plotly.newPlot(                        \"6447ac02-4240-4f3e-8dc8-bd3928a00e87\",                        [{\"marker\":{\"color\":\"black\",\"opacity\":0.7},\"mode\":\"markers\",\"name\":\"Real Points\",\"showlegend\":false,\"x\":[-1.2,-1.0358974358974358,-0.8717948717948718,-0.7076923076923076,-0.5435897435897435,-0.37948717948717947,-0.21538461538461529,-0.05128205128205132,0.11282051282051286,0.27692307692307705,0.441025641025641,0.6051282051282052,0.7692307692307694,0.9333333333333333,1.0974358974358973,1.2615384615384617,1.4256410256410257,1.5897435897435896,1.753846153846154,1.917948717948718],\"y\":[5.8096,3.8381753317244733,2.522800884051074,1.7092797030916282,1.2608197821340592,1.058034061642376,0.9989404292566787,0.9989617197931566,0.9909257152440888,0.9250651447778439,0.7690176847388803,0.5078259586477458,0.14393753720107805,-0.3027950617283952,-0.7951143730918573,-1.278357984664403,-1.6804585370450331,-1.911943723656666,-1.8659362907461214,-1.418154037384138],\"type\":\"scatter\",\"xaxis\":\"x\",\"yaxis\":\"y\"},{\"marker\":{\"color\":\"blue\",\"opacity\":0.7},\"mode\":\"markers\",\"name\":\"Predicted Points\",\"showlegend\":false,\"x\":[-1.2,-1.0358974358974358,-0.8717948717948718,-0.7076923076923076,-0.5435897435897435,-0.37948717948717947,-0.21538461538461529,-0.05128205128205132,0.11282051282051286,0.27692307692307705,0.441025641025641,0.6051282051282052,0.7692307692307694,0.9333333333333333,1.0974358974358973,1.2615384615384617,1.4256410256410257,1.5897435897435896,1.753846153846154,1.917948717948718],\"y\":[4.121178320220211,3.6219091504794285,3.144322612133674,2.6884187051829453,2.254197429627244,1.8416587854665702,1.4508027727009232,1.0816293913303034,0.7341386413547104,0.4083305227741445,0.10420503558860628,-0.17823782020190548,-0.43899804459739,-0.6780756375978472,-0.8954705992032772,-1.091182929413681,-1.265212628229057,-1.4175596956494054,-1.5482241316747278,-1.657205936305023],\"type\":\"scatter\",\"xaxis\":\"x\",\"yaxis\":\"y\"},{\"marker\":{\"color\":\"black\",\"opacity\":0.7},\"mode\":\"markers\",\"name\":\"Real Points\",\"showlegend\":false,\"x\":[-1.2,-1.0358974358974358,-0.8717948717948718,-0.7076923076923076,-0.5435897435897435,-0.37948717948717947,-0.21538461538461529,-0.05128205128205132,0.11282051282051286,0.27692307692307705,0.441025641025641,0.6051282051282052,0.7692307692307694,0.9333333333333333,1.0974358974358973,1.2615384615384617,1.4256410256410257,1.5897435897435896,1.753846153846154,1.917948717948718],\"y\":[5.8096,3.8381753317244733,2.522800884051074,1.7092797030916282,1.2608197821340592,1.058034061642376,0.9989404292566787,0.9989617197931566,0.9909257152440888,0.9250651447778439,0.7690176847388803,0.5078259586477458,0.14393753720107805,-0.3027950617283952,-0.7951143730918573,-1.278357984664403,-1.6804585370450331,-1.911943723656666,-1.8659362907461214,-1.418154037384138],\"type\":\"scatter\",\"xaxis\":\"x2\",\"yaxis\":\"y2\"},{\"marker\":{\"color\":\"blue\",\"opacity\":0.7},\"mode\":\"markers\",\"name\":\"Predicted Points\",\"showlegend\":false,\"x\":[-1.2,-1.0358974358974358,-0.8717948717948718,-0.7076923076923076,-0.5435897435897435,-0.37948717948717947,-0.21538461538461529,-0.05128205128205132,0.11282051282051286,0.27692307692307705,0.441025641025641,0.6051282051282052,0.7692307692307694,0.9333333333333333,1.0974358974358973,1.2615384615384617,1.4256410256410257,1.5897435897435896,1.753846153846154,1.917948717948718],\"y\":[4.845863210649666,3.88889832063765,3.080753762096005,2.4064721585452764,1.8510961335060137,1.3996683104987642,1.0372313130440758,0.7488277646624971,0.5195002888745751,0.33429150920085826,0.1782440491618947,0.036400532278232006,-0.10619641792958157,-0.2645041779409982,-0.4534801242354699,-0.6880816332924493,-0.9832660815913867,-1.3539908456117364,-1.8152133018329504,-2.381890826734477],\"type\":\"scatter\",\"xaxis\":\"x2\",\"yaxis\":\"y2\"},{\"marker\":{\"color\":\"black\",\"opacity\":0.7},\"mode\":\"markers\",\"name\":\"Real Points\",\"showlegend\":false,\"x\":[-1.2,-1.0358974358974358,-0.8717948717948718,-0.7076923076923076,-0.5435897435897435,-0.37948717948717947,-0.21538461538461529,-0.05128205128205132,0.11282051282051286,0.27692307692307705,0.441025641025641,0.6051282051282052,0.7692307692307694,0.9333333333333333,1.0974358974358973,1.2615384615384617,1.4256410256410257,1.5897435897435896,1.753846153846154,1.917948717948718],\"y\":[5.8096,3.8381753317244733,2.522800884051074,1.7092797030916282,1.2608197821340592,1.058034061642376,0.9989404292566787,0.9989617197931566,0.9909257152440888,0.9250651447778439,0.7690176847388803,0.5078259586477458,0.14393753720107805,-0.3027950617283952,-0.7951143730918573,-1.278357984664403,-1.6804585370450331,-1.911943723656666,-1.8659362907461214,-1.418154037384138],\"type\":\"scatter\",\"xaxis\":\"x3\",\"yaxis\":\"y3\"},{\"marker\":{\"color\":\"blue\",\"opacity\":0.7},\"mode\":\"markers\",\"name\":\"Predicted Points\",\"showlegend\":false,\"x\":[-1.2,-1.0358974358974358,-0.8717948717948718,-0.7076923076923076,-0.5435897435897435,-0.37948717948717947,-0.21538461538461529,-0.05128205128205132,0.11282051282051286,0.27692307692307705,0.441025641025641,0.6051282051282052,0.7692307692307694,0.9333333333333333,1.0974358974358973,1.2615384615384617,1.4256410256410257,1.5897435897435896,1.753846153846154,1.917948717948718],\"y\":[5.8096,3.8381753317244733,2.5228008840510743,1.7092797030916294,1.2608197821340605,1.0580340616423776,0.9989404292566803,0.9989617197931581,0.9909257152440905,0.9250651447778455,0.769017684738882,0.5078259586477474,0.1439375372010796,-0.3027950617283939,-0.795114373091856,-1.2783579846644018,-1.6804585370450331,-1.911943723656666,-1.8659362907461254,-1.4181540373841433],\"type\":\"scatter\",\"xaxis\":\"x3\",\"yaxis\":\"y3\"},{\"marker\":{\"color\":\"black\",\"opacity\":0.7},\"mode\":\"markers\",\"name\":\"Real Points\",\"showlegend\":false,\"x\":[-1.2,-1.0358974358974358,-0.8717948717948718,-0.7076923076923076,-0.5435897435897435,-0.37948717948717947,-0.21538461538461529,-0.05128205128205132,0.11282051282051286,0.27692307692307705,0.441025641025641,0.6051282051282052,0.7692307692307694,0.9333333333333333,1.0974358974358973,1.2615384615384617,1.4256410256410257,1.5897435897435896,1.753846153846154,1.917948717948718],\"y\":[5.8096,3.8381753317244733,2.522800884051074,1.7092797030916282,1.2608197821340592,1.058034061642376,0.9989404292566787,0.9989617197931566,0.9909257152440888,0.9250651447778439,0.7690176847388803,0.5078259586477458,0.14393753720107805,-0.3027950617283952,-0.7951143730918573,-1.278357984664403,-1.6804585370450331,-1.911943723656666,-1.8659362907461214,-1.418154037384138],\"type\":\"scatter\",\"xaxis\":\"x4\",\"yaxis\":\"y4\"},{\"marker\":{\"color\":\"blue\",\"opacity\":0.7},\"mode\":\"markers\",\"name\":\"Predicted Points\",\"showlegend\":false,\"x\":[-1.2,-1.0358974358974358,-0.8717948717948718,-0.7076923076923076,-0.5435897435897435,-0.37948717948717947,-0.21538461538461529,-0.05128205128205132,0.11282051282051286,0.27692307692307705,0.441025641025641,0.6051282051282052,0.7692307692307694,0.9333333333333333,1.0974358974358973,1.2615384615384617,1.4256410256410257,1.5897435897435896,1.753846153846154,1.917948717948718],\"y\":[5.8096000000000005,3.8381753317244742,2.522800884051075,1.7092797030916296,1.2608197821340603,1.0580340616423771,0.9989404292566794,0.9989617197931567,0.9909257152440888,0.9250651447778435,0.7690176847388798,0.5078259586477447,0.14393753720107672,-0.3027950617283972,-0.7951143730918591,-1.2783579846644049,-1.6804585370450367,-1.9119437236566688,-1.8659362907461254,-1.4181540373841415],\"type\":\"scatter\",\"xaxis\":\"x4\",\"yaxis\":\"y4\"}],                        {\"template\":{\"data\":{\"barpolar\":[{\"marker\":{\"line\":{\"color\":\"white\",\"width\":0.5},\"pattern\":{\"fillmode\":\"overlay\",\"size\":10,\"solidity\":0.2}},\"type\":\"barpolar\"}],\"bar\":[{\"error_x\":{\"color\":\"rgb(36,36,36)\"},\"error_y\":{\"color\":\"rgb(36,36,36)\"},\"marker\":{\"line\":{\"color\":\"white\",\"width\":0.5},\"pattern\":{\"fillmode\":\"overlay\",\"size\":10,\"solidity\":0.2}},\"type\":\"bar\"}],\"carpet\":[{\"aaxis\":{\"endlinecolor\":\"rgb(36,36,36)\",\"gridcolor\":\"white\",\"linecolor\":\"white\",\"minorgridcolor\":\"white\",\"startlinecolor\":\"rgb(36,36,36)\"},\"baxis\":{\"endlinecolor\":\"rgb(36,36,36)\",\"gridcolor\":\"white\",\"linecolor\":\"white\",\"minorgridcolor\":\"white\",\"startlinecolor\":\"rgb(36,36,36)\"},\"type\":\"carpet\"}],\"choropleth\":[{\"colorbar\":{\"outlinewidth\":1,\"tickcolor\":\"rgb(36,36,36)\",\"ticks\":\"outside\"},\"type\":\"choropleth\"}],\"contourcarpet\":[{\"colorbar\":{\"outlinewidth\":1,\"tickcolor\":\"rgb(36,36,36)\",\"ticks\":\"outside\"},\"type\":\"contourcarpet\"}],\"contour\":[{\"colorbar\":{\"outlinewidth\":1,\"tickcolor\":\"rgb(36,36,36)\",\"ticks\":\"outside\"},\"colorscale\":[[0.0,\"#440154\"],[0.1111111111111111,\"#482878\"],[0.2222222222222222,\"#3e4989\"],[0.3333333333333333,\"#31688e\"],[0.4444444444444444,\"#26828e\"],[0.5555555555555556,\"#1f9e89\"],[0.6666666666666666,\"#35b779\"],[0.7777777777777778,\"#6ece58\"],[0.8888888888888888,\"#b5de2b\"],[1.0,\"#fde725\"]],\"type\":\"contour\"}],\"heatmapgl\":[{\"colorbar\":{\"outlinewidth\":1,\"tickcolor\":\"rgb(36,36,36)\",\"ticks\":\"outside\"},\"colorscale\":[[0.0,\"#440154\"],[0.1111111111111111,\"#482878\"],[0.2222222222222222,\"#3e4989\"],[0.3333333333333333,\"#31688e\"],[0.4444444444444444,\"#26828e\"],[0.5555555555555556,\"#1f9e89\"],[0.6666666666666666,\"#35b779\"],[0.7777777777777778,\"#6ece58\"],[0.8888888888888888,\"#b5de2b\"],[1.0,\"#fde725\"]],\"type\":\"heatmapgl\"}],\"heatmap\":[{\"colorbar\":{\"outlinewidth\":1,\"tickcolor\":\"rgb(36,36,36)\",\"ticks\":\"outside\"},\"colorscale\":[[0.0,\"#440154\"],[0.1111111111111111,\"#482878\"],[0.2222222222222222,\"#3e4989\"],[0.3333333333333333,\"#31688e\"],[0.4444444444444444,\"#26828e\"],[0.5555555555555556,\"#1f9e89\"],[0.6666666666666666,\"#35b779\"],[0.7777777777777778,\"#6ece58\"],[0.8888888888888888,\"#b5de2b\"],[1.0,\"#fde725\"]],\"type\":\"heatmap\"}],\"histogram2dcontour\":[{\"colorbar\":{\"outlinewidth\":1,\"tickcolor\":\"rgb(36,36,36)\",\"ticks\":\"outside\"},\"colorscale\":[[0.0,\"#440154\"],[0.1111111111111111,\"#482878\"],[0.2222222222222222,\"#3e4989\"],[0.3333333333333333,\"#31688e\"],[0.4444444444444444,\"#26828e\"],[0.5555555555555556,\"#1f9e89\"],[0.6666666666666666,\"#35b779\"],[0.7777777777777778,\"#6ece58\"],[0.8888888888888888,\"#b5de2b\"],[1.0,\"#fde725\"]],\"type\":\"histogram2dcontour\"}],\"histogram2d\":[{\"colorbar\":{\"outlinewidth\":1,\"tickcolor\":\"rgb(36,36,36)\",\"ticks\":\"outside\"},\"colorscale\":[[0.0,\"#440154\"],[0.1111111111111111,\"#482878\"],[0.2222222222222222,\"#3e4989\"],[0.3333333333333333,\"#31688e\"],[0.4444444444444444,\"#26828e\"],[0.5555555555555556,\"#1f9e89\"],[0.6666666666666666,\"#35b779\"],[0.7777777777777778,\"#6ece58\"],[0.8888888888888888,\"#b5de2b\"],[1.0,\"#fde725\"]],\"type\":\"histogram2d\"}],\"histogram\":[{\"marker\":{\"line\":{\"color\":\"white\",\"width\":0.6}},\"type\":\"histogram\"}],\"mesh3d\":[{\"colorbar\":{\"outlinewidth\":1,\"tickcolor\":\"rgb(36,36,36)\",\"ticks\":\"outside\"},\"type\":\"mesh3d\"}],\"parcoords\":[{\"line\":{\"colorbar\":{\"outlinewidth\":1,\"tickcolor\":\"rgb(36,36,36)\",\"ticks\":\"outside\"}},\"type\":\"parcoords\"}],\"pie\":[{\"automargin\":true,\"type\":\"pie\"}],\"scatter3d\":[{\"line\":{\"colorbar\":{\"outlinewidth\":1,\"tickcolor\":\"rgb(36,36,36)\",\"ticks\":\"outside\"}},\"marker\":{\"colorbar\":{\"outlinewidth\":1,\"tickcolor\":\"rgb(36,36,36)\",\"ticks\":\"outside\"}},\"type\":\"scatter3d\"}],\"scattercarpet\":[{\"marker\":{\"colorbar\":{\"outlinewidth\":1,\"tickcolor\":\"rgb(36,36,36)\",\"ticks\":\"outside\"}},\"type\":\"scattercarpet\"}],\"scattergeo\":[{\"marker\":{\"colorbar\":{\"outlinewidth\":1,\"tickcolor\":\"rgb(36,36,36)\",\"ticks\":\"outside\"}},\"type\":\"scattergeo\"}],\"scattergl\":[{\"marker\":{\"colorbar\":{\"outlinewidth\":1,\"tickcolor\":\"rgb(36,36,36)\",\"ticks\":\"outside\"}},\"type\":\"scattergl\"}],\"scattermapbox\":[{\"marker\":{\"colorbar\":{\"outlinewidth\":1,\"tickcolor\":\"rgb(36,36,36)\",\"ticks\":\"outside\"}},\"type\":\"scattermapbox\"}],\"scatterpolargl\":[{\"marker\":{\"colorbar\":{\"outlinewidth\":1,\"tickcolor\":\"rgb(36,36,36)\",\"ticks\":\"outside\"}},\"type\":\"scatterpolargl\"}],\"scatterpolar\":[{\"marker\":{\"colorbar\":{\"outlinewidth\":1,\"tickcolor\":\"rgb(36,36,36)\",\"ticks\":\"outside\"}},\"type\":\"scatterpolar\"}],\"scatter\":[{\"fillpattern\":{\"fillmode\":\"overlay\",\"size\":10,\"solidity\":0.2},\"type\":\"scatter\"}],\"scatterternary\":[{\"marker\":{\"colorbar\":{\"outlinewidth\":1,\"tickcolor\":\"rgb(36,36,36)\",\"ticks\":\"outside\"}},\"type\":\"scatterternary\"}],\"surface\":[{\"colorbar\":{\"outlinewidth\":1,\"tickcolor\":\"rgb(36,36,36)\",\"ticks\":\"outside\"},\"colorscale\":[[0.0,\"#440154\"],[0.1111111111111111,\"#482878\"],[0.2222222222222222,\"#3e4989\"],[0.3333333333333333,\"#31688e\"],[0.4444444444444444,\"#26828e\"],[0.5555555555555556,\"#1f9e89\"],[0.6666666666666666,\"#35b779\"],[0.7777777777777778,\"#6ece58\"],[0.8888888888888888,\"#b5de2b\"],[1.0,\"#fde725\"]],\"type\":\"surface\"}],\"table\":[{\"cells\":{\"fill\":{\"color\":\"rgb(237,237,237)\"},\"line\":{\"color\":\"white\"}},\"header\":{\"fill\":{\"color\":\"rgb(217,217,217)\"},\"line\":{\"color\":\"white\"}},\"type\":\"table\"}]},\"layout\":{\"annotationdefaults\":{\"arrowhead\":0,\"arrowwidth\":1},\"autotypenumbers\":\"strict\",\"coloraxis\":{\"colorbar\":{\"outlinewidth\":1,\"tickcolor\":\"rgb(36,36,36)\",\"ticks\":\"outside\"}},\"colorscale\":{\"diverging\":[[0.0,\"rgb(103,0,31)\"],[0.1,\"rgb(178,24,43)\"],[0.2,\"rgb(214,96,77)\"],[0.3,\"rgb(244,165,130)\"],[0.4,\"rgb(253,219,199)\"],[0.5,\"rgb(247,247,247)\"],[0.6,\"rgb(209,229,240)\"],[0.7,\"rgb(146,197,222)\"],[0.8,\"rgb(67,147,195)\"],[0.9,\"rgb(33,102,172)\"],[1.0,\"rgb(5,48,97)\"]],\"sequential\":[[0.0,\"#440154\"],[0.1111111111111111,\"#482878\"],[0.2222222222222222,\"#3e4989\"],[0.3333333333333333,\"#31688e\"],[0.4444444444444444,\"#26828e\"],[0.5555555555555556,\"#1f9e89\"],[0.6666666666666666,\"#35b779\"],[0.7777777777777778,\"#6ece58\"],[0.8888888888888888,\"#b5de2b\"],[1.0,\"#fde725\"]],\"sequentialminus\":[[0.0,\"#440154\"],[0.1111111111111111,\"#482878\"],[0.2222222222222222,\"#3e4989\"],[0.3333333333333333,\"#31688e\"],[0.4444444444444444,\"#26828e\"],[0.5555555555555556,\"#1f9e89\"],[0.6666666666666666,\"#35b779\"],[0.7777777777777778,\"#6ece58\"],[0.8888888888888888,\"#b5de2b\"],[1.0,\"#fde725\"]]},\"colorway\":[\"#1F77B4\",\"#FF7F0E\",\"#2CA02C\",\"#D62728\",\"#9467BD\",\"#8C564B\",\"#E377C2\",\"#7F7F7F\",\"#BCBD22\",\"#17BECF\"],\"font\":{\"color\":\"rgb(36,36,36)\"},\"geo\":{\"bgcolor\":\"white\",\"lakecolor\":\"white\",\"landcolor\":\"white\",\"showlakes\":true,\"showland\":true,\"subunitcolor\":\"white\"},\"hoverlabel\":{\"align\":\"left\"},\"hovermode\":\"closest\",\"mapbox\":{\"style\":\"light\"},\"paper_bgcolor\":\"white\",\"plot_bgcolor\":\"white\",\"polar\":{\"angularaxis\":{\"gridcolor\":\"rgb(232,232,232)\",\"linecolor\":\"rgb(36,36,36)\",\"showgrid\":false,\"showline\":true,\"ticks\":\"outside\"},\"bgcolor\":\"white\",\"radialaxis\":{\"gridcolor\":\"rgb(232,232,232)\",\"linecolor\":\"rgb(36,36,36)\",\"showgrid\":false,\"showline\":true,\"ticks\":\"outside\"}},\"scene\":{\"xaxis\":{\"backgroundcolor\":\"white\",\"gridcolor\":\"rgb(232,232,232)\",\"gridwidth\":2,\"linecolor\":\"rgb(36,36,36)\",\"showbackground\":true,\"showgrid\":false,\"showline\":true,\"ticks\":\"outside\",\"zeroline\":false,\"zerolinecolor\":\"rgb(36,36,36)\"},\"yaxis\":{\"backgroundcolor\":\"white\",\"gridcolor\":\"rgb(232,232,232)\",\"gridwidth\":2,\"linecolor\":\"rgb(36,36,36)\",\"showbackground\":true,\"showgrid\":false,\"showline\":true,\"ticks\":\"outside\",\"zeroline\":false,\"zerolinecolor\":\"rgb(36,36,36)\"},\"zaxis\":{\"backgroundcolor\":\"white\",\"gridcolor\":\"rgb(232,232,232)\",\"gridwidth\":2,\"linecolor\":\"rgb(36,36,36)\",\"showbackground\":true,\"showgrid\":false,\"showline\":true,\"ticks\":\"outside\",\"zeroline\":false,\"zerolinecolor\":\"rgb(36,36,36)\"}},\"shapedefaults\":{\"fillcolor\":\"black\",\"line\":{\"width\":0},\"opacity\":0.3},\"ternary\":{\"aaxis\":{\"gridcolor\":\"rgb(232,232,232)\",\"linecolor\":\"rgb(36,36,36)\",\"showgrid\":false,\"showline\":true,\"ticks\":\"outside\"},\"baxis\":{\"gridcolor\":\"rgb(232,232,232)\",\"linecolor\":\"rgb(36,36,36)\",\"showgrid\":false,\"showline\":true,\"ticks\":\"outside\"},\"bgcolor\":\"white\",\"caxis\":{\"gridcolor\":\"rgb(232,232,232)\",\"linecolor\":\"rgb(36,36,36)\",\"showgrid\":false,\"showline\":true,\"ticks\":\"outside\"}},\"title\":{\"x\":0.05},\"xaxis\":{\"automargin\":true,\"gridcolor\":\"rgb(232,232,232)\",\"linecolor\":\"rgb(36,36,36)\",\"showgrid\":false,\"showline\":true,\"ticks\":\"outside\",\"title\":{\"standoff\":15},\"zeroline\":false,\"zerolinecolor\":\"rgb(36,36,36)\"},\"yaxis\":{\"automargin\":true,\"gridcolor\":\"rgb(232,232,232)\",\"linecolor\":\"rgb(36,36,36)\",\"showgrid\":false,\"showline\":true,\"ticks\":\"outside\",\"title\":{\"standoff\":15},\"zeroline\":false,\"zerolinecolor\":\"rgb(36,36,36)\"},\"margin\":{\"b\":0,\"l\":20,\"r\":20,\"t\":40}}},\"xaxis\":{\"anchor\":\"y\",\"domain\":[0.0,0.2125]},\"yaxis\":{\"anchor\":\"x\",\"domain\":[0.0,1.0],\"title\":{\"text\":\"$\\\\widehat{y}$\"}},\"xaxis2\":{\"anchor\":\"y2\",\"domain\":[0.2625,0.475]},\"yaxis2\":{\"anchor\":\"x2\",\"domain\":[0.0,1.0]},\"xaxis3\":{\"anchor\":\"y3\",\"domain\":[0.525,0.7375]},\"yaxis3\":{\"anchor\":\"x3\",\"domain\":[0.0,1.0]},\"xaxis4\":{\"anchor\":\"y4\",\"domain\":[0.7875,1.0]},\"yaxis4\":{\"anchor\":\"x4\",\"domain\":[0.0,1.0]},\"annotations\":[{\"font\":{\"size\":16},\"showarrow\":false,\"text\":\"$k=2, MSE=0.42$\",\"x\":0.10625,\"xanchor\":\"center\",\"xref\":\"paper\",\"y\":1.0,\"yanchor\":\"bottom\",\"yref\":\"paper\"},{\"font\":{\"size\":16},\"showarrow\":false,\"text\":\"$k=3, MSE=0.28$\",\"x\":0.36875,\"xanchor\":\"center\",\"xref\":\"paper\",\"y\":1.0,\"yanchor\":\"bottom\",\"yref\":\"paper\"},{\"font\":{\"size\":16},\"showarrow\":false,\"text\":\"$k=4, MSE=0.0$\",\"x\":0.6312500000000001,\"xanchor\":\"center\",\"xref\":\"paper\",\"y\":1.0,\"yanchor\":\"bottom\",\"yref\":\"paper\"},{\"font\":{\"size\":16},\"showarrow\":false,\"text\":\"$k=5, MSE=0.0$\",\"x\":0.89375,\"xanchor\":\"center\",\"xref\":\"paper\",\"y\":1.0,\"yanchor\":\"bottom\",\"yref\":\"paper\"}],\"margin\":{\"t\":60},\"title\":{\"text\":\"$\\\\text{(2) Simulated Data - Fitting Polynomials of Different Degrees}$\"},\"height\":300},                        {\"responsive\": true}                    ).then(function(){\n                            \nvar gd = document.getElementById('6447ac02-4240-4f3e-8dc8-bd3928a00e87');\nvar x = new MutationObserver(function (mutations, observer) {{\n        var display = window.getComputedStyle(gd).display;\n        if (!display || display === 'none') {{\n            console.log([gd, 'removed!']);\n            Plotly.purge(gd);\n            observer.disconnect();\n        }}\n}});\n\n// Listen for the removal of the full notebook cells\nvar notebookContainer = gd.closest('#notebook-container');\nif (notebookContainer) {{\n    x.observe(notebookContainer, {childList: true});\n}}\n\n// Listen for the clearing of the current output cell\nvar outputEl = gd.closest('.output');\nif (outputEl) {{\n    x.observe(outputEl, {childList: true});\n}}\n\n                        })                };                });            </script>        </div>"
     },
     "metadata": {},
     "output_type": "display_data"
    }
   ],
   "source": [
    "from sklearn.linear_model import LinearRegression\n",
    "from sklearn.pipeline import make_pipeline\n",
    "\n",
    "ks = [2, 3, 4, 5]\n",
    "fig = make_subplots(1, 4, subplot_titles=list(ks))\n",
    "for i, k in enumerate(ks):\n",
    "    y_hat = make_pipeline(PolynomialFeatures(k), LinearRegression(fit_intercept=False)).fit(X, y_).predict(X)\n",
    "    \n",
    "    fig.add_traces([go.Scatter(x=x, y=y_, mode=\"markers\", name=\"Real Points\",  marker=dict(color=\"black\", opacity=.7), showlegend=False),\n",
    "                    go.Scatter(x=x, y=y_hat, mode=\"markers\", name=\"Predicted Points\",  marker=dict(color=\"blue\", opacity=.7), showlegend=False)], rows=1, cols=i+1)\n",
    "    fig[\"layout\"][\"annotations\"][i][\"text\"] = rf\"$k={{0}}, MSE={{1}}$\".format(k, round(np.mean((y_-y_hat)**2), 2))\n",
    "\n",
    "fig.update_layout(title=r\"$\\text{(2) Simulated Data - Fitting Polynomials of Different Degrees}$\",\n",
    "                  margin=dict(t=60),\n",
    "                  yaxis_title=r\"$\\widehat{y}$\",\n",
    "                  height=300).show()"
   ]
  },
  {
   "cell_type": "markdown",
   "metadata": {
    "pycharm": {
     "name": "#%% md\n"
    }
   },
   "source": [
    "Once we find the right $k$ (which in our case is 4) we managed to fit a perfect model, after which, as we increase $k$, \n",
    "the additional coefficients will be zero."
   ]
  },
  {
   "cell_type": "code",
   "execution_count": 11,
   "metadata": {
    "pycharm": {
     "name": "#%%\n"
    }
   },
   "outputs": [
    {
     "data": {
      "text/plain": "         $w_{0}$  $w_{1}$  $w_{2}$  $w_{3}$  $w_{4}$  $w_{5}$\n$k={2}$    0.971   -2.142    0.403      NaN      NaN      NaN\n$k={3}$    0.672   -1.454    1.010   -0.564      NaN      NaN\n$k={4}$    1.000    0.000   -0.500   -2.000      1.0      NaN\n$k={5}$    1.000   -0.000   -0.500   -2.000      1.0     -0.0",
      "text/html": "<div>\n<style scoped>\n    .dataframe tbody tr th:only-of-type {\n        vertical-align: middle;\n    }\n\n    .dataframe tbody tr th {\n        vertical-align: top;\n    }\n\n    .dataframe thead th {\n        text-align: right;\n    }\n</style>\n<table border=\"1\" class=\"dataframe\">\n  <thead>\n    <tr style=\"text-align: right;\">\n      <th></th>\n      <th>$w_{0}$</th>\n      <th>$w_{1}$</th>\n      <th>$w_{2}$</th>\n      <th>$w_{3}$</th>\n      <th>$w_{4}$</th>\n      <th>$w_{5}$</th>\n    </tr>\n  </thead>\n  <tbody>\n    <tr>\n      <th>$k={2}$</th>\n      <td>0.971</td>\n      <td>-2.142</td>\n      <td>0.403</td>\n      <td>NaN</td>\n      <td>NaN</td>\n      <td>NaN</td>\n    </tr>\n    <tr>\n      <th>$k={3}$</th>\n      <td>0.672</td>\n      <td>-1.454</td>\n      <td>1.010</td>\n      <td>-0.564</td>\n      <td>NaN</td>\n      <td>NaN</td>\n    </tr>\n    <tr>\n      <th>$k={4}$</th>\n      <td>1.000</td>\n      <td>0.000</td>\n      <td>-0.500</td>\n      <td>-2.000</td>\n      <td>1.0</td>\n      <td>NaN</td>\n    </tr>\n    <tr>\n      <th>$k={5}$</th>\n      <td>1.000</td>\n      <td>-0.000</td>\n      <td>-0.500</td>\n      <td>-2.000</td>\n      <td>1.0</td>\n      <td>-0.0</td>\n    </tr>\n  </tbody>\n</table>\n</div>"
     },
     "execution_count": 11,
     "metadata": {},
     "output_type": "execute_result"
    }
   ],
   "source": [
    "coefs = {}\n",
    "for k in ks:\n",
    "    fit = make_pipeline(PolynomialFeatures(k), LinearRegression(fit_intercept=False)).fit(X, y_)\n",
    "    coefs[rf\"$k={{{k}}}$\"] = [round(c,3) for c in fit.steps[1][1].coef_]\n",
    "pd.DataFrame.from_dict(coefs, orient='index', columns=[rf\"$w_{{{i}}}$\" for i in range(max(ks)+1)])\n",
    "\n",
    "\n"
   ]
  },
  {
   "cell_type": "markdown",
   "metadata": {
    "pycharm": {
     "name": "#%% md\n"
    }
   },
   "source": [
    "## Fitting Polynomial Of Different Degrees - With Sample Noise\n",
    "\n",
    "Still fitting for different values of $k$, let us add some standard Gaussian noise (i.e. $\\mathcal{N}\\left(0,1\\right)$).\n",
    "This time we observe two things:\n",
    "- Even for the correct $k=4$ model we are not able to achieve zero MSE.\n",
    "- As we increase $4<k\\rightarrow 7$ we manage to decrease the error more and more."
   ]
  },
  {
   "cell_type": "code",
   "execution_count": 12,
   "metadata": {
    "pycharm": {
     "name": "#%%\n"
    }
   },
   "outputs": [
    {
     "data": {
      "application/vnd.plotly.v1+json": {
       "data": [
        {
         "marker": {
          "color": "black",
          "opacity": 0.7
         },
         "mode": "markers",
         "name": "Real Points",
         "showlegend": false,
         "x": [
          -1.2,
          -1.0358974358974358,
          -0.8717948717948718,
          -0.7076923076923076,
          -0.5435897435897435,
          -0.37948717948717947,
          -0.21538461538461529,
          -0.05128205128205132,
          0.11282051282051286,
          0.27692307692307705,
          0.441025641025641,
          0.6051282051282052,
          0.7692307692307694,
          0.9333333333333333,
          1.0974358974358973,
          1.2615384615384617,
          1.4256410256410257,
          1.5897435897435896,
          1.753846153846154,
          1.917948717948718
         ],
         "y": [
          5.8096,
          3.8381753317244733,
          2.522800884051074,
          1.7092797030916282,
          1.2608197821340592,
          1.058034061642376,
          0.9989404292566787,
          0.9989617197931566,
          0.9909257152440888,
          0.9250651447778439,
          0.7690176847388803,
          0.5078259586477458,
          0.14393753720107805,
          -0.3027950617283952,
          -0.7951143730918573,
          -1.278357984664403,
          -1.6804585370450331,
          -1.911943723656666,
          -1.8659362907461214,
          -1.418154037384138
         ],
         "type": "scatter",
         "xaxis": "x",
         "yaxis": "y"
        },
        {
         "marker": {
          "color": "red",
          "opacity": 0.7
         },
         "mode": "markers",
         "name": "Observed Points",
         "showlegend": false,
         "x": [
          -1.2,
          -1.0358974358974358,
          -0.8717948717948718,
          -0.7076923076923076,
          -0.5435897435897435,
          -0.37948717948717947,
          -0.21538461538461529,
          -0.05128205128205132,
          0.11282051282051286,
          0.27692307692307705,
          0.441025641025641,
          0.6051282051282052,
          0.7692307692307694,
          0.9333333333333333,
          1.0974358974358973,
          1.2615384615384617,
          1.4256410256410257,
          1.5897435897435896,
          1.753846153846154,
          1.917948717948718
         ],
         "y": [
          4.39676416798432,
          4.33854707143123,
          0.8922080363894094,
          1.3983340625980065,
          2.750062925960961,
          0.16240494274238115,
          2.6393400520888766,
          -0.13020916718565867,
          0.5744344399712282,
          1.5968468853373547,
          1.2963028965268193,
          -1.5497733026284977,
          1.7499511118561255,
          0.1658123389337801,
          -0.5975566450648164,
          -1.5403310453187329,
          -2.9969548185667585,
          -1.9577294931542302,
          -3.1441397290442143,
          -2.376053801297177
         ],
         "type": "scatter",
         "xaxis": "x",
         "yaxis": "y"
        },
        {
         "marker": {
          "color": "blue",
          "opacity": 0.7
         },
         "mode": "markers",
         "name": "Predicted Points",
         "showlegend": false,
         "x": [
          -1.2,
          -1.0358974358974358,
          -0.8717948717948718,
          -0.7076923076923076,
          -0.5435897435897435,
          -0.37948717948717947,
          -0.21538461538461529,
          -0.05128205128205132,
          0.11282051282051286,
          0.27692307692307705,
          0.441025641025641,
          0.6051282051282052,
          0.7692307692307694,
          0.9333333333333333,
          1.0974358974358973,
          1.2615384615384617,
          1.4256410256410257,
          1.5897435897435896,
          1.753846153846154,
          1.917948717948718
         ],
         "y": [
          3.275269168944634,
          3.0002440523921026,
          2.720322137326982,
          2.4355034237492728,
          2.1457879116589744,
          1.8511756010560874,
          1.5516664919406113,
          1.247260584312547,
          0.9379578781718934,
          0.623758373518651,
          0.3046620703528201,
          -0.0193310313256001,
          -0.34822093151660916,
          -0.6820076302202063,
          -1.0206911274363926,
          -1.3642714231651685,
          -1.7127485174065324,
          -2.066122410160485,
          -2.4243931014270275,
          -2.787560591206158
         ],
         "type": "scatter",
         "xaxis": "x",
         "yaxis": "y"
        },
        {
         "marker": {
          "color": "black",
          "opacity": 0.7
         },
         "mode": "markers",
         "name": "Real Points",
         "showlegend": false,
         "x": [
          -1.2,
          -1.0358974358974358,
          -0.8717948717948718,
          -0.7076923076923076,
          -0.5435897435897435,
          -0.37948717948717947,
          -0.21538461538461529,
          -0.05128205128205132,
          0.11282051282051286,
          0.27692307692307705,
          0.441025641025641,
          0.6051282051282052,
          0.7692307692307694,
          0.9333333333333333,
          1.0974358974358973,
          1.2615384615384617,
          1.4256410256410257,
          1.5897435897435896,
          1.753846153846154,
          1.917948717948718
         ],
         "y": [
          5.8096,
          3.8381753317244733,
          2.522800884051074,
          1.7092797030916282,
          1.2608197821340592,
          1.058034061642376,
          0.9989404292566787,
          0.9989617197931566,
          0.9909257152440888,
          0.9250651447778439,
          0.7690176847388803,
          0.5078259586477458,
          0.14393753720107805,
          -0.3027950617283952,
          -0.7951143730918573,
          -1.278357984664403,
          -1.6804585370450331,
          -1.911943723656666,
          -1.8659362907461214,
          -1.418154037384138
         ],
         "type": "scatter",
         "xaxis": "x2",
         "yaxis": "y2"
        },
        {
         "marker": {
          "color": "red",
          "opacity": 0.7
         },
         "mode": "markers",
         "name": "Observed Points",
         "showlegend": false,
         "x": [
          -1.2,
          -1.0358974358974358,
          -0.8717948717948718,
          -0.7076923076923076,
          -0.5435897435897435,
          -0.37948717948717947,
          -0.21538461538461529,
          -0.05128205128205132,
          0.11282051282051286,
          0.27692307692307705,
          0.441025641025641,
          0.6051282051282052,
          0.7692307692307694,
          0.9333333333333333,
          1.0974358974358973,
          1.2615384615384617,
          1.4256410256410257,
          1.5897435897435896,
          1.753846153846154,
          1.917948717948718
         ],
         "y": [
          4.39676416798432,
          4.33854707143123,
          0.8922080363894094,
          1.3983340625980065,
          2.750062925960961,
          0.16240494274238115,
          2.6393400520888766,
          -0.13020916718565867,
          0.5744344399712282,
          1.5968468853373547,
          1.2963028965268193,
          -1.5497733026284977,
          1.7499511118561255,
          0.1658123389337801,
          -0.5975566450648164,
          -1.5403310453187329,
          -2.9969548185667585,
          -1.9577294931542302,
          -3.1441397290442143,
          -2.376053801297177
         ],
         "type": "scatter",
         "xaxis": "x2",
         "yaxis": "y2"
        },
        {
         "marker": {
          "color": "blue",
          "opacity": 0.7
         },
         "mode": "markers",
         "name": "Predicted Points",
         "showlegend": false,
         "x": [
          -1.2,
          -1.0358974358974358,
          -0.8717948717948718,
          -0.7076923076923076,
          -0.5435897435897435,
          -0.37948717948717947,
          -0.21538461538461529,
          -0.05128205128205132,
          0.11282051282051286,
          0.27692307692307705,
          0.441025641025641,
          0.6051282051282052,
          0.7692307692307694,
          0.9333333333333333,
          1.0974358974358973,
          1.2615384615384617,
          1.4256410256410257,
          1.5897435897435896,
          1.753846153846154,
          1.917948717948718
         ],
         "y": [
          3.9477317331066564,
          3.2479934181360055,
          2.661334193102244,
          2.173874541717197,
          1.771734947692691,
          1.441035894740552,
          1.167897866572606,
          0.9384413469006804,
          0.7387868194366,
          0.5550547678921913,
          0.37336567597928105,
          0.1798400274096948,
          -0.03940169410474109,
          -0.29823900485219995,
          -0.6105514211208559,
          -0.9902184591988842,
          -1.451119635374456,
          -2.0071344659357466,
          -2.672142467170931,
          -3.46002315536818
         ],
         "type": "scatter",
         "xaxis": "x2",
         "yaxis": "y2"
        },
        {
         "marker": {
          "color": "black",
          "opacity": 0.7
         },
         "mode": "markers",
         "name": "Real Points",
         "showlegend": false,
         "x": [
          -1.2,
          -1.0358974358974358,
          -0.8717948717948718,
          -0.7076923076923076,
          -0.5435897435897435,
          -0.37948717948717947,
          -0.21538461538461529,
          -0.05128205128205132,
          0.11282051282051286,
          0.27692307692307705,
          0.441025641025641,
          0.6051282051282052,
          0.7692307692307694,
          0.9333333333333333,
          1.0974358974358973,
          1.2615384615384617,
          1.4256410256410257,
          1.5897435897435896,
          1.753846153846154,
          1.917948717948718
         ],
         "y": [
          5.8096,
          3.8381753317244733,
          2.522800884051074,
          1.7092797030916282,
          1.2608197821340592,
          1.058034061642376,
          0.9989404292566787,
          0.9989617197931566,
          0.9909257152440888,
          0.9250651447778439,
          0.7690176847388803,
          0.5078259586477458,
          0.14393753720107805,
          -0.3027950617283952,
          -0.7951143730918573,
          -1.278357984664403,
          -1.6804585370450331,
          -1.911943723656666,
          -1.8659362907461214,
          -1.418154037384138
         ],
         "type": "scatter",
         "xaxis": "x3",
         "yaxis": "y3"
        },
        {
         "marker": {
          "color": "red",
          "opacity": 0.7
         },
         "mode": "markers",
         "name": "Observed Points",
         "showlegend": false,
         "x": [
          -1.2,
          -1.0358974358974358,
          -0.8717948717948718,
          -0.7076923076923076,
          -0.5435897435897435,
          -0.37948717948717947,
          -0.21538461538461529,
          -0.05128205128205132,
          0.11282051282051286,
          0.27692307692307705,
          0.441025641025641,
          0.6051282051282052,
          0.7692307692307694,
          0.9333333333333333,
          1.0974358974358973,
          1.2615384615384617,
          1.4256410256410257,
          1.5897435897435896,
          1.753846153846154,
          1.917948717948718
         ],
         "y": [
          4.39676416798432,
          4.33854707143123,
          0.8922080363894094,
          1.3983340625980065,
          2.750062925960961,
          0.16240494274238115,
          2.6393400520888766,
          -0.13020916718565867,
          0.5744344399712282,
          1.5968468853373547,
          1.2963028965268193,
          -1.5497733026284977,
          1.7499511118561255,
          0.1658123389337801,
          -0.5975566450648164,
          -1.5403310453187329,
          -2.9969548185667585,
          -1.9577294931542302,
          -3.1441397290442143,
          -2.376053801297177
         ],
         "type": "scatter",
         "xaxis": "x3",
         "yaxis": "y3"
        },
        {
         "marker": {
          "color": "blue",
          "opacity": 0.7
         },
         "mode": "markers",
         "name": "Predicted Points",
         "showlegend": false,
         "x": [
          -1.2,
          -1.0358974358974358,
          -0.8717948717948718,
          -0.7076923076923076,
          -0.5435897435897435,
          -0.37948717948717947,
          -0.21538461538461529,
          -0.05128205128205132,
          0.11282051282051286,
          0.27692307692307705,
          0.441025641025641,
          0.6051282051282052,
          0.7692307692307694,
          0.9333333333333333,
          1.0974358974358973,
          1.2615384615384617,
          1.4256410256410257,
          1.5897435897435896,
          1.753846153846154,
          1.917948717948718
         ],
         "y": [
          4.7273980365818495,
          3.206958349532049,
          2.2099484384587145,
          1.609843500709862,
          1.2941993944289918,
          1.1646526385550753,
          1.136920412822561,
          1.140800557761373,
          1.1201715746969108,
          1.0329926257500492,
          0.8513035338371386,
          0.5612247826700053,
          0.16295751675595094,
          -0.32921645860224635,
          -0.8869346773063342,
          -1.4677540124625854,
          -2.0151506763817935,
          -2.45852022057928,
          -2.7131775357748893,
          -2.6803568518929914
         ],
         "type": "scatter",
         "xaxis": "x3",
         "yaxis": "y3"
        },
        {
         "marker": {
          "color": "black",
          "opacity": 0.7
         },
         "mode": "markers",
         "name": "Real Points",
         "showlegend": false,
         "x": [
          -1.2,
          -1.0358974358974358,
          -0.8717948717948718,
          -0.7076923076923076,
          -0.5435897435897435,
          -0.37948717948717947,
          -0.21538461538461529,
          -0.05128205128205132,
          0.11282051282051286,
          0.27692307692307705,
          0.441025641025641,
          0.6051282051282052,
          0.7692307692307694,
          0.9333333333333333,
          1.0974358974358973,
          1.2615384615384617,
          1.4256410256410257,
          1.5897435897435896,
          1.753846153846154,
          1.917948717948718
         ],
         "y": [
          5.8096,
          3.8381753317244733,
          2.522800884051074,
          1.7092797030916282,
          1.2608197821340592,
          1.058034061642376,
          0.9989404292566787,
          0.9989617197931566,
          0.9909257152440888,
          0.9250651447778439,
          0.7690176847388803,
          0.5078259586477458,
          0.14393753720107805,
          -0.3027950617283952,
          -0.7951143730918573,
          -1.278357984664403,
          -1.6804585370450331,
          -1.911943723656666,
          -1.8659362907461214,
          -1.418154037384138
         ],
         "type": "scatter",
         "xaxis": "x4",
         "yaxis": "y4"
        },
        {
         "marker": {
          "color": "red",
          "opacity": 0.7
         },
         "mode": "markers",
         "name": "Observed Points",
         "showlegend": false,
         "x": [
          -1.2,
          -1.0358974358974358,
          -0.8717948717948718,
          -0.7076923076923076,
          -0.5435897435897435,
          -0.37948717948717947,
          -0.21538461538461529,
          -0.05128205128205132,
          0.11282051282051286,
          0.27692307692307705,
          0.441025641025641,
          0.6051282051282052,
          0.7692307692307694,
          0.9333333333333333,
          1.0974358974358973,
          1.2615384615384617,
          1.4256410256410257,
          1.5897435897435896,
          1.753846153846154,
          1.917948717948718
         ],
         "y": [
          4.39676416798432,
          4.33854707143123,
          0.8922080363894094,
          1.3983340625980065,
          2.750062925960961,
          0.16240494274238115,
          2.6393400520888766,
          -0.13020916718565867,
          0.5744344399712282,
          1.5968468853373547,
          1.2963028965268193,
          -1.5497733026284977,
          1.7499511118561255,
          0.1658123389337801,
          -0.5975566450648164,
          -1.5403310453187329,
          -2.9969548185667585,
          -1.9577294931542302,
          -3.1441397290442143,
          -2.376053801297177
         ],
         "type": "scatter",
         "xaxis": "x4",
         "yaxis": "y4"
        },
        {
         "marker": {
          "color": "blue",
          "opacity": 0.7
         },
         "mode": "markers",
         "name": "Predicted Points",
         "showlegend": false,
         "x": [
          -1.2,
          -1.0358974358974358,
          -0.8717948717948718,
          -0.7076923076923076,
          -0.5435897435897435,
          -0.37948717948717947,
          -0.21538461538461529,
          -0.05128205128205132,
          0.11282051282051286,
          0.27692307692307705,
          0.441025641025641,
          0.6051282051282052,
          0.7692307692307694,
          0.9333333333333333,
          1.0974358974358973,
          1.2615384615384617,
          1.4256410256410257,
          1.5897435897435896,
          1.753846153846154,
          1.917948717948718
         ],
         "y": [
          4.543809889616801,
          3.313246224090758,
          2.3806532066893693,
          1.7256044478673873,
          1.311914040188776,
          1.091615248818207,
          1.0089392020125627,
          1.0042935816124403,
          1.0182413135336548,
          0.9954792582587384,
          0.8888169013284467,
          0.663155043833259,
          0.2994644929048814,
          -0.20123524779224988,
          -0.8138972875694677,
          -1.4854686582223722,
          -2.13091162353932,
          -2.6292249888099377,
          -2.819465410333599,
          -2.496768704927945
         ],
         "type": "scatter",
         "xaxis": "x4",
         "yaxis": "y4"
        },
        {
         "marker": {
          "color": "black",
          "opacity": 0.7
         },
         "mode": "markers",
         "name": "Real Points",
         "showlegend": false,
         "x": [
          -1.2,
          -1.0358974358974358,
          -0.8717948717948718,
          -0.7076923076923076,
          -0.5435897435897435,
          -0.37948717948717947,
          -0.21538461538461529,
          -0.05128205128205132,
          0.11282051282051286,
          0.27692307692307705,
          0.441025641025641,
          0.6051282051282052,
          0.7692307692307694,
          0.9333333333333333,
          1.0974358974358973,
          1.2615384615384617,
          1.4256410256410257,
          1.5897435897435896,
          1.753846153846154,
          1.917948717948718
         ],
         "y": [
          5.8096,
          3.8381753317244733,
          2.522800884051074,
          1.7092797030916282,
          1.2608197821340592,
          1.058034061642376,
          0.9989404292566787,
          0.9989617197931566,
          0.9909257152440888,
          0.9250651447778439,
          0.7690176847388803,
          0.5078259586477458,
          0.14393753720107805,
          -0.3027950617283952,
          -0.7951143730918573,
          -1.278357984664403,
          -1.6804585370450331,
          -1.911943723656666,
          -1.8659362907461214,
          -1.418154037384138
         ],
         "type": "scatter",
         "xaxis": "x5",
         "yaxis": "y5"
        },
        {
         "marker": {
          "color": "red",
          "opacity": 0.7
         },
         "mode": "markers",
         "name": "Observed Points",
         "showlegend": false,
         "x": [
          -1.2,
          -1.0358974358974358,
          -0.8717948717948718,
          -0.7076923076923076,
          -0.5435897435897435,
          -0.37948717948717947,
          -0.21538461538461529,
          -0.05128205128205132,
          0.11282051282051286,
          0.27692307692307705,
          0.441025641025641,
          0.6051282051282052,
          0.7692307692307694,
          0.9333333333333333,
          1.0974358974358973,
          1.2615384615384617,
          1.4256410256410257,
          1.5897435897435896,
          1.753846153846154,
          1.917948717948718
         ],
         "y": [
          4.39676416798432,
          4.33854707143123,
          0.8922080363894094,
          1.3983340625980065,
          2.750062925960961,
          0.16240494274238115,
          2.6393400520888766,
          -0.13020916718565867,
          0.5744344399712282,
          1.5968468853373547,
          1.2963028965268193,
          -1.5497733026284977,
          1.7499511118561255,
          0.1658123389337801,
          -0.5975566450648164,
          -1.5403310453187329,
          -2.9969548185667585,
          -1.9577294931542302,
          -3.1441397290442143,
          -2.376053801297177
         ],
         "type": "scatter",
         "xaxis": "x5",
         "yaxis": "y5"
        },
        {
         "marker": {
          "color": "blue",
          "opacity": 0.7
         },
         "mode": "markers",
         "name": "Predicted Points",
         "showlegend": false,
         "x": [
          -1.2,
          -1.0358974358974358,
          -0.8717948717948718,
          -0.7076923076923076,
          -0.5435897435897435,
          -0.37948717948717947,
          -0.21538461538461529,
          -0.05128205128205132,
          0.11282051282051286,
          0.27692307692307705,
          0.441025641025641,
          0.6051282051282052,
          0.7692307692307694,
          0.9333333333333333,
          1.0974358974358973,
          1.2615384615384617,
          1.4256410256410257,
          1.5897435897435896,
          1.753846153846154,
          1.917948717948718
         ],
         "y": [
          4.708943952385255,
          3.1133470954763136,
          2.221313321561913,
          1.726115698835709,
          1.4394711567854592,
          1.2561528521236152,
          1.124226295369485,
          1.0209092380829503,
          0.9340553207497373,
          0.8492614813182507,
          0.7425991243879594,
          0.5789690510493424,
          0.3160801493753918,
          -0.0859481544353273,
          -0.649359684264061,
          -1.3579115416256953,
          -2.130400372571013,
          -2.788564873937421,
          -3.019364538948097,
          -2.331634642159584
         ],
         "type": "scatter",
         "xaxis": "x5",
         "yaxis": "y5"
        },
        {
         "marker": {
          "color": "black",
          "opacity": 0.7
         },
         "mode": "markers",
         "name": "Real Points",
         "showlegend": false,
         "x": [
          -1.2,
          -1.0358974358974358,
          -0.8717948717948718,
          -0.7076923076923076,
          -0.5435897435897435,
          -0.37948717948717947,
          -0.21538461538461529,
          -0.05128205128205132,
          0.11282051282051286,
          0.27692307692307705,
          0.441025641025641,
          0.6051282051282052,
          0.7692307692307694,
          0.9333333333333333,
          1.0974358974358973,
          1.2615384615384617,
          1.4256410256410257,
          1.5897435897435896,
          1.753846153846154,
          1.917948717948718
         ],
         "y": [
          5.8096,
          3.8381753317244733,
          2.522800884051074,
          1.7092797030916282,
          1.2608197821340592,
          1.058034061642376,
          0.9989404292566787,
          0.9989617197931566,
          0.9909257152440888,
          0.9250651447778439,
          0.7690176847388803,
          0.5078259586477458,
          0.14393753720107805,
          -0.3027950617283952,
          -0.7951143730918573,
          -1.278357984664403,
          -1.6804585370450331,
          -1.911943723656666,
          -1.8659362907461214,
          -1.418154037384138
         ],
         "type": "scatter",
         "xaxis": "x6",
         "yaxis": "y6"
        },
        {
         "marker": {
          "color": "red",
          "opacity": 0.7
         },
         "mode": "markers",
         "name": "Observed Points",
         "showlegend": false,
         "x": [
          -1.2,
          -1.0358974358974358,
          -0.8717948717948718,
          -0.7076923076923076,
          -0.5435897435897435,
          -0.37948717948717947,
          -0.21538461538461529,
          -0.05128205128205132,
          0.11282051282051286,
          0.27692307692307705,
          0.441025641025641,
          0.6051282051282052,
          0.7692307692307694,
          0.9333333333333333,
          1.0974358974358973,
          1.2615384615384617,
          1.4256410256410257,
          1.5897435897435896,
          1.753846153846154,
          1.917948717948718
         ],
         "y": [
          4.39676416798432,
          4.33854707143123,
          0.8922080363894094,
          1.3983340625980065,
          2.750062925960961,
          0.16240494274238115,
          2.6393400520888766,
          -0.13020916718565867,
          0.5744344399712282,
          1.5968468853373547,
          1.2963028965268193,
          -1.5497733026284977,
          1.7499511118561255,
          0.1658123389337801,
          -0.5975566450648164,
          -1.5403310453187329,
          -2.9969548185667585,
          -1.9577294931542302,
          -3.1441397290442143,
          -2.376053801297177
         ],
         "type": "scatter",
         "xaxis": "x6",
         "yaxis": "y6"
        },
        {
         "marker": {
          "color": "blue",
          "opacity": 0.7
         },
         "mode": "markers",
         "name": "Predicted Points",
         "showlegend": false,
         "x": [
          -1.2,
          -1.0358974358974358,
          -0.8717948717948718,
          -0.7076923076923076,
          -0.5435897435897435,
          -0.37948717948717947,
          -0.21538461538461529,
          -0.05128205128205132,
          0.11282051282051286,
          0.27692307692307705,
          0.441025641025641,
          0.6051282051282052,
          0.7692307692307694,
          0.9333333333333333,
          1.0974358974358973,
          1.2615384615384617,
          1.4256410256410257,
          1.5897435897435896,
          1.753846153846154,
          1.917948717948718
         ],
         "y": [
          4.726117340100695,
          3.0799041825567857,
          2.2131785589598665,
          1.7447778012757025,
          1.4631576714208347,
          1.2664409342379703,
          1.1156927698947878,
          1.000253321279711,
          0.9139576719682072,
          0.8410735503331831,
          0.7507870553730278,
          0.5990666998308738,
          0.3367360661786331,
          -0.07741462896062656,
          -0.6596477663784093,
          -1.381598056261058,
          -2.1490624750109824,
          -2.780430111335332,
          -2.9859216260284995,
          -2.3488080298749026
         ],
         "type": "scatter",
         "xaxis": "x6",
         "yaxis": "y6"
        }
       ],
       "layout": {
        "template": {
         "data": {
          "barpolar": [
           {
            "marker": {
             "line": {
              "color": "white",
              "width": 0.5
             },
             "pattern": {
              "fillmode": "overlay",
              "size": 10,
              "solidity": 0.2
             }
            },
            "type": "barpolar"
           }
          ],
          "bar": [
           {
            "error_x": {
             "color": "rgb(36,36,36)"
            },
            "error_y": {
             "color": "rgb(36,36,36)"
            },
            "marker": {
             "line": {
              "color": "white",
              "width": 0.5
             },
             "pattern": {
              "fillmode": "overlay",
              "size": 10,
              "solidity": 0.2
             }
            },
            "type": "bar"
           }
          ],
          "carpet": [
           {
            "aaxis": {
             "endlinecolor": "rgb(36,36,36)",
             "gridcolor": "white",
             "linecolor": "white",
             "minorgridcolor": "white",
             "startlinecolor": "rgb(36,36,36)"
            },
            "baxis": {
             "endlinecolor": "rgb(36,36,36)",
             "gridcolor": "white",
             "linecolor": "white",
             "minorgridcolor": "white",
             "startlinecolor": "rgb(36,36,36)"
            },
            "type": "carpet"
           }
          ],
          "choropleth": [
           {
            "colorbar": {
             "outlinewidth": 1,
             "tickcolor": "rgb(36,36,36)",
             "ticks": "outside"
            },
            "type": "choropleth"
           }
          ],
          "contourcarpet": [
           {
            "colorbar": {
             "outlinewidth": 1,
             "tickcolor": "rgb(36,36,36)",
             "ticks": "outside"
            },
            "type": "contourcarpet"
           }
          ],
          "contour": [
           {
            "colorbar": {
             "outlinewidth": 1,
             "tickcolor": "rgb(36,36,36)",
             "ticks": "outside"
            },
            "colorscale": [
             [
              0.0,
              "#440154"
             ],
             [
              0.1111111111111111,
              "#482878"
             ],
             [
              0.2222222222222222,
              "#3e4989"
             ],
             [
              0.3333333333333333,
              "#31688e"
             ],
             [
              0.4444444444444444,
              "#26828e"
             ],
             [
              0.5555555555555556,
              "#1f9e89"
             ],
             [
              0.6666666666666666,
              "#35b779"
             ],
             [
              0.7777777777777778,
              "#6ece58"
             ],
             [
              0.8888888888888888,
              "#b5de2b"
             ],
             [
              1.0,
              "#fde725"
             ]
            ],
            "type": "contour"
           }
          ],
          "heatmapgl": [
           {
            "colorbar": {
             "outlinewidth": 1,
             "tickcolor": "rgb(36,36,36)",
             "ticks": "outside"
            },
            "colorscale": [
             [
              0.0,
              "#440154"
             ],
             [
              0.1111111111111111,
              "#482878"
             ],
             [
              0.2222222222222222,
              "#3e4989"
             ],
             [
              0.3333333333333333,
              "#31688e"
             ],
             [
              0.4444444444444444,
              "#26828e"
             ],
             [
              0.5555555555555556,
              "#1f9e89"
             ],
             [
              0.6666666666666666,
              "#35b779"
             ],
             [
              0.7777777777777778,
              "#6ece58"
             ],
             [
              0.8888888888888888,
              "#b5de2b"
             ],
             [
              1.0,
              "#fde725"
             ]
            ],
            "type": "heatmapgl"
           }
          ],
          "heatmap": [
           {
            "colorbar": {
             "outlinewidth": 1,
             "tickcolor": "rgb(36,36,36)",
             "ticks": "outside"
            },
            "colorscale": [
             [
              0.0,
              "#440154"
             ],
             [
              0.1111111111111111,
              "#482878"
             ],
             [
              0.2222222222222222,
              "#3e4989"
             ],
             [
              0.3333333333333333,
              "#31688e"
             ],
             [
              0.4444444444444444,
              "#26828e"
             ],
             [
              0.5555555555555556,
              "#1f9e89"
             ],
             [
              0.6666666666666666,
              "#35b779"
             ],
             [
              0.7777777777777778,
              "#6ece58"
             ],
             [
              0.8888888888888888,
              "#b5de2b"
             ],
             [
              1.0,
              "#fde725"
             ]
            ],
            "type": "heatmap"
           }
          ],
          "histogram2dcontour": [
           {
            "colorbar": {
             "outlinewidth": 1,
             "tickcolor": "rgb(36,36,36)",
             "ticks": "outside"
            },
            "colorscale": [
             [
              0.0,
              "#440154"
             ],
             [
              0.1111111111111111,
              "#482878"
             ],
             [
              0.2222222222222222,
              "#3e4989"
             ],
             [
              0.3333333333333333,
              "#31688e"
             ],
             [
              0.4444444444444444,
              "#26828e"
             ],
             [
              0.5555555555555556,
              "#1f9e89"
             ],
             [
              0.6666666666666666,
              "#35b779"
             ],
             [
              0.7777777777777778,
              "#6ece58"
             ],
             [
              0.8888888888888888,
              "#b5de2b"
             ],
             [
              1.0,
              "#fde725"
             ]
            ],
            "type": "histogram2dcontour"
           }
          ],
          "histogram2d": [
           {
            "colorbar": {
             "outlinewidth": 1,
             "tickcolor": "rgb(36,36,36)",
             "ticks": "outside"
            },
            "colorscale": [
             [
              0.0,
              "#440154"
             ],
             [
              0.1111111111111111,
              "#482878"
             ],
             [
              0.2222222222222222,
              "#3e4989"
             ],
             [
              0.3333333333333333,
              "#31688e"
             ],
             [
              0.4444444444444444,
              "#26828e"
             ],
             [
              0.5555555555555556,
              "#1f9e89"
             ],
             [
              0.6666666666666666,
              "#35b779"
             ],
             [
              0.7777777777777778,
              "#6ece58"
             ],
             [
              0.8888888888888888,
              "#b5de2b"
             ],
             [
              1.0,
              "#fde725"
             ]
            ],
            "type": "histogram2d"
           }
          ],
          "histogram": [
           {
            "marker": {
             "line": {
              "color": "white",
              "width": 0.6
             }
            },
            "type": "histogram"
           }
          ],
          "mesh3d": [
           {
            "colorbar": {
             "outlinewidth": 1,
             "tickcolor": "rgb(36,36,36)",
             "ticks": "outside"
            },
            "type": "mesh3d"
           }
          ],
          "parcoords": [
           {
            "line": {
             "colorbar": {
              "outlinewidth": 1,
              "tickcolor": "rgb(36,36,36)",
              "ticks": "outside"
             }
            },
            "type": "parcoords"
           }
          ],
          "pie": [
           {
            "automargin": true,
            "type": "pie"
           }
          ],
          "scatter3d": [
           {
            "line": {
             "colorbar": {
              "outlinewidth": 1,
              "tickcolor": "rgb(36,36,36)",
              "ticks": "outside"
             }
            },
            "marker": {
             "colorbar": {
              "outlinewidth": 1,
              "tickcolor": "rgb(36,36,36)",
              "ticks": "outside"
             }
            },
            "type": "scatter3d"
           }
          ],
          "scattercarpet": [
           {
            "marker": {
             "colorbar": {
              "outlinewidth": 1,
              "tickcolor": "rgb(36,36,36)",
              "ticks": "outside"
             }
            },
            "type": "scattercarpet"
           }
          ],
          "scattergeo": [
           {
            "marker": {
             "colorbar": {
              "outlinewidth": 1,
              "tickcolor": "rgb(36,36,36)",
              "ticks": "outside"
             }
            },
            "type": "scattergeo"
           }
          ],
          "scattergl": [
           {
            "marker": {
             "colorbar": {
              "outlinewidth": 1,
              "tickcolor": "rgb(36,36,36)",
              "ticks": "outside"
             }
            },
            "type": "scattergl"
           }
          ],
          "scattermapbox": [
           {
            "marker": {
             "colorbar": {
              "outlinewidth": 1,
              "tickcolor": "rgb(36,36,36)",
              "ticks": "outside"
             }
            },
            "type": "scattermapbox"
           }
          ],
          "scatterpolargl": [
           {
            "marker": {
             "colorbar": {
              "outlinewidth": 1,
              "tickcolor": "rgb(36,36,36)",
              "ticks": "outside"
             }
            },
            "type": "scatterpolargl"
           }
          ],
          "scatterpolar": [
           {
            "marker": {
             "colorbar": {
              "outlinewidth": 1,
              "tickcolor": "rgb(36,36,36)",
              "ticks": "outside"
             }
            },
            "type": "scatterpolar"
           }
          ],
          "scatter": [
           {
            "fillpattern": {
             "fillmode": "overlay",
             "size": 10,
             "solidity": 0.2
            },
            "type": "scatter"
           }
          ],
          "scatterternary": [
           {
            "marker": {
             "colorbar": {
              "outlinewidth": 1,
              "tickcolor": "rgb(36,36,36)",
              "ticks": "outside"
             }
            },
            "type": "scatterternary"
           }
          ],
          "surface": [
           {
            "colorbar": {
             "outlinewidth": 1,
             "tickcolor": "rgb(36,36,36)",
             "ticks": "outside"
            },
            "colorscale": [
             [
              0.0,
              "#440154"
             ],
             [
              0.1111111111111111,
              "#482878"
             ],
             [
              0.2222222222222222,
              "#3e4989"
             ],
             [
              0.3333333333333333,
              "#31688e"
             ],
             [
              0.4444444444444444,
              "#26828e"
             ],
             [
              0.5555555555555556,
              "#1f9e89"
             ],
             [
              0.6666666666666666,
              "#35b779"
             ],
             [
              0.7777777777777778,
              "#6ece58"
             ],
             [
              0.8888888888888888,
              "#b5de2b"
             ],
             [
              1.0,
              "#fde725"
             ]
            ],
            "type": "surface"
           }
          ],
          "table": [
           {
            "cells": {
             "fill": {
              "color": "rgb(237,237,237)"
             },
             "line": {
              "color": "white"
             }
            },
            "header": {
             "fill": {
              "color": "rgb(217,217,217)"
             },
             "line": {
              "color": "white"
             }
            },
            "type": "table"
           }
          ]
         },
         "layout": {
          "annotationdefaults": {
           "arrowhead": 0,
           "arrowwidth": 1
          },
          "autotypenumbers": "strict",
          "coloraxis": {
           "colorbar": {
            "outlinewidth": 1,
            "tickcolor": "rgb(36,36,36)",
            "ticks": "outside"
           }
          },
          "colorscale": {
           "diverging": [
            [
             0.0,
             "rgb(103,0,31)"
            ],
            [
             0.1,
             "rgb(178,24,43)"
            ],
            [
             0.2,
             "rgb(214,96,77)"
            ],
            [
             0.3,
             "rgb(244,165,130)"
            ],
            [
             0.4,
             "rgb(253,219,199)"
            ],
            [
             0.5,
             "rgb(247,247,247)"
            ],
            [
             0.6,
             "rgb(209,229,240)"
            ],
            [
             0.7,
             "rgb(146,197,222)"
            ],
            [
             0.8,
             "rgb(67,147,195)"
            ],
            [
             0.9,
             "rgb(33,102,172)"
            ],
            [
             1.0,
             "rgb(5,48,97)"
            ]
           ],
           "sequential": [
            [
             0.0,
             "#440154"
            ],
            [
             0.1111111111111111,
             "#482878"
            ],
            [
             0.2222222222222222,
             "#3e4989"
            ],
            [
             0.3333333333333333,
             "#31688e"
            ],
            [
             0.4444444444444444,
             "#26828e"
            ],
            [
             0.5555555555555556,
             "#1f9e89"
            ],
            [
             0.6666666666666666,
             "#35b779"
            ],
            [
             0.7777777777777778,
             "#6ece58"
            ],
            [
             0.8888888888888888,
             "#b5de2b"
            ],
            [
             1.0,
             "#fde725"
            ]
           ],
           "sequentialminus": [
            [
             0.0,
             "#440154"
            ],
            [
             0.1111111111111111,
             "#482878"
            ],
            [
             0.2222222222222222,
             "#3e4989"
            ],
            [
             0.3333333333333333,
             "#31688e"
            ],
            [
             0.4444444444444444,
             "#26828e"
            ],
            [
             0.5555555555555556,
             "#1f9e89"
            ],
            [
             0.6666666666666666,
             "#35b779"
            ],
            [
             0.7777777777777778,
             "#6ece58"
            ],
            [
             0.8888888888888888,
             "#b5de2b"
            ],
            [
             1.0,
             "#fde725"
            ]
           ]
          },
          "colorway": [
           "#1F77B4",
           "#FF7F0E",
           "#2CA02C",
           "#D62728",
           "#9467BD",
           "#8C564B",
           "#E377C2",
           "#7F7F7F",
           "#BCBD22",
           "#17BECF"
          ],
          "font": {
           "color": "rgb(36,36,36)"
          },
          "geo": {
           "bgcolor": "white",
           "lakecolor": "white",
           "landcolor": "white",
           "showlakes": true,
           "showland": true,
           "subunitcolor": "white"
          },
          "hoverlabel": {
           "align": "left"
          },
          "hovermode": "closest",
          "mapbox": {
           "style": "light"
          },
          "paper_bgcolor": "white",
          "plot_bgcolor": "white",
          "polar": {
           "angularaxis": {
            "gridcolor": "rgb(232,232,232)",
            "linecolor": "rgb(36,36,36)",
            "showgrid": false,
            "showline": true,
            "ticks": "outside"
           },
           "bgcolor": "white",
           "radialaxis": {
            "gridcolor": "rgb(232,232,232)",
            "linecolor": "rgb(36,36,36)",
            "showgrid": false,
            "showline": true,
            "ticks": "outside"
           }
          },
          "scene": {
           "xaxis": {
            "backgroundcolor": "white",
            "gridcolor": "rgb(232,232,232)",
            "gridwidth": 2,
            "linecolor": "rgb(36,36,36)",
            "showbackground": true,
            "showgrid": false,
            "showline": true,
            "ticks": "outside",
            "zeroline": false,
            "zerolinecolor": "rgb(36,36,36)"
           },
           "yaxis": {
            "backgroundcolor": "white",
            "gridcolor": "rgb(232,232,232)",
            "gridwidth": 2,
            "linecolor": "rgb(36,36,36)",
            "showbackground": true,
            "showgrid": false,
            "showline": true,
            "ticks": "outside",
            "zeroline": false,
            "zerolinecolor": "rgb(36,36,36)"
           },
           "zaxis": {
            "backgroundcolor": "white",
            "gridcolor": "rgb(232,232,232)",
            "gridwidth": 2,
            "linecolor": "rgb(36,36,36)",
            "showbackground": true,
            "showgrid": false,
            "showline": true,
            "ticks": "outside",
            "zeroline": false,
            "zerolinecolor": "rgb(36,36,36)"
           }
          },
          "shapedefaults": {
           "fillcolor": "black",
           "line": {
            "width": 0
           },
           "opacity": 0.3
          },
          "ternary": {
           "aaxis": {
            "gridcolor": "rgb(232,232,232)",
            "linecolor": "rgb(36,36,36)",
            "showgrid": false,
            "showline": true,
            "ticks": "outside"
           },
           "baxis": {
            "gridcolor": "rgb(232,232,232)",
            "linecolor": "rgb(36,36,36)",
            "showgrid": false,
            "showline": true,
            "ticks": "outside"
           },
           "bgcolor": "white",
           "caxis": {
            "gridcolor": "rgb(232,232,232)",
            "linecolor": "rgb(36,36,36)",
            "showgrid": false,
            "showline": true,
            "ticks": "outside"
           }
          },
          "title": {
           "x": 0.05
          },
          "xaxis": {
           "automargin": true,
           "gridcolor": "rgb(232,232,232)",
           "linecolor": "rgb(36,36,36)",
           "showgrid": false,
           "showline": true,
           "ticks": "outside",
           "title": {
            "standoff": 15
           },
           "zeroline": false,
           "zerolinecolor": "rgb(36,36,36)"
          },
          "yaxis": {
           "automargin": true,
           "gridcolor": "rgb(232,232,232)",
           "linecolor": "rgb(36,36,36)",
           "showgrid": false,
           "showline": true,
           "ticks": "outside",
           "title": {
            "standoff": 15
           },
           "zeroline": false,
           "zerolinecolor": "rgb(36,36,36)"
          },
          "margin": {
           "b": 0,
           "l": 20,
           "r": 20,
           "t": 40
          }
         }
        },
        "xaxis": {
         "anchor": "y",
         "domain": [
          0.0,
          0.2888888888888889
         ]
        },
        "yaxis": {
         "anchor": "x",
         "domain": [
          0.625,
          1.0
         ]
        },
        "xaxis2": {
         "anchor": "y2",
         "domain": [
          0.35555555555555557,
          0.6444444444444445
         ]
        },
        "yaxis2": {
         "anchor": "x2",
         "domain": [
          0.625,
          1.0
         ]
        },
        "xaxis3": {
         "anchor": "y3",
         "domain": [
          0.7111111111111111,
          1.0
         ]
        },
        "yaxis3": {
         "anchor": "x3",
         "domain": [
          0.625,
          1.0
         ]
        },
        "xaxis4": {
         "anchor": "y4",
         "domain": [
          0.0,
          0.2888888888888889
         ]
        },
        "yaxis4": {
         "anchor": "x4",
         "domain": [
          0.0,
          0.375
         ]
        },
        "xaxis5": {
         "anchor": "y5",
         "domain": [
          0.35555555555555557,
          0.6444444444444445
         ]
        },
        "yaxis5": {
         "anchor": "x5",
         "domain": [
          0.0,
          0.375
         ]
        },
        "xaxis6": {
         "anchor": "y6",
         "domain": [
          0.7111111111111111,
          1.0
         ]
        },
        "yaxis6": {
         "anchor": "x6",
         "domain": [
          0.0,
          0.375
         ]
        },
        "annotations": [
         {
          "font": {
           "size": 16
          },
          "showarrow": false,
          "text": "$k=2, MSE=1.29$",
          "x": 0.14444444444444446,
          "xanchor": "center",
          "xref": "paper",
          "y": 1.0,
          "yanchor": "bottom",
          "yref": "paper"
         },
         {
          "font": {
           "size": 16
          },
          "showarrow": false,
          "text": "$k=3, MSE=1.17$",
          "x": 0.5,
          "xanchor": "center",
          "xref": "paper",
          "y": 1.0,
          "yanchor": "bottom",
          "yref": "paper"
         },
         {
          "font": {
           "size": 16
          },
          "showarrow": false,
          "text": "$k=4, MSE=0.99$",
          "x": 0.8555555555555556,
          "xanchor": "center",
          "xref": "paper",
          "y": 1.0,
          "yanchor": "bottom",
          "yref": "paper"
         },
         {
          "font": {
           "size": 16
          },
          "showarrow": false,
          "text": "$k=5, MSE=0.98$",
          "x": 0.14444444444444446,
          "xanchor": "center",
          "xref": "paper",
          "y": 0.375,
          "yanchor": "bottom",
          "yref": "paper"
         },
         {
          "font": {
           "size": 16
          },
          "showarrow": false,
          "text": "$k=6, MSE=0.96$",
          "x": 0.5,
          "xanchor": "center",
          "xref": "paper",
          "y": 0.375,
          "yanchor": "bottom",
          "yref": "paper"
         },
         {
          "font": {
           "size": 16
          },
          "showarrow": false,
          "text": "$k=7, MSE=0.96$",
          "x": 0.8555555555555556,
          "xanchor": "center",
          "xref": "paper",
          "y": 0.375,
          "yanchor": "bottom",
          "yref": "paper"
         }
        ],
        "margin": {
         "t": 80
        },
        "title": {
         "text": "$\\text{(4) Simulated Data With Noise - Fitting Polynomials of Different Degrees}$"
        }
       },
       "config": {
        "plotlyServerURL": "https://plot.ly"
       }
      },
      "text/html": "<div>                            <div id=\"264fd45d-4c15-4f90-aed4-bb09b5ba2d9a\" class=\"plotly-graph-div\" style=\"height:525px; width:100%;\"></div>            <script type=\"text/javascript\">                require([\"plotly\"], function(Plotly) {                    window.PLOTLYENV=window.PLOTLYENV || {};                                    if (document.getElementById(\"264fd45d-4c15-4f90-aed4-bb09b5ba2d9a\")) {                    Plotly.newPlot(                        \"264fd45d-4c15-4f90-aed4-bb09b5ba2d9a\",                        [{\"marker\":{\"color\":\"black\",\"opacity\":0.7},\"mode\":\"markers\",\"name\":\"Real Points\",\"showlegend\":false,\"x\":[-1.2,-1.0358974358974358,-0.8717948717948718,-0.7076923076923076,-0.5435897435897435,-0.37948717948717947,-0.21538461538461529,-0.05128205128205132,0.11282051282051286,0.27692307692307705,0.441025641025641,0.6051282051282052,0.7692307692307694,0.9333333333333333,1.0974358974358973,1.2615384615384617,1.4256410256410257,1.5897435897435896,1.753846153846154,1.917948717948718],\"y\":[5.8096,3.8381753317244733,2.522800884051074,1.7092797030916282,1.2608197821340592,1.058034061642376,0.9989404292566787,0.9989617197931566,0.9909257152440888,0.9250651447778439,0.7690176847388803,0.5078259586477458,0.14393753720107805,-0.3027950617283952,-0.7951143730918573,-1.278357984664403,-1.6804585370450331,-1.911943723656666,-1.8659362907461214,-1.418154037384138],\"type\":\"scatter\",\"xaxis\":\"x\",\"yaxis\":\"y\"},{\"marker\":{\"color\":\"red\",\"opacity\":0.7},\"mode\":\"markers\",\"name\":\"Observed Points\",\"showlegend\":false,\"x\":[-1.2,-1.0358974358974358,-0.8717948717948718,-0.7076923076923076,-0.5435897435897435,-0.37948717948717947,-0.21538461538461529,-0.05128205128205132,0.11282051282051286,0.27692307692307705,0.441025641025641,0.6051282051282052,0.7692307692307694,0.9333333333333333,1.0974358974358973,1.2615384615384617,1.4256410256410257,1.5897435897435896,1.753846153846154,1.917948717948718],\"y\":[4.39676416798432,4.33854707143123,0.8922080363894094,1.3983340625980065,2.750062925960961,0.16240494274238115,2.6393400520888766,-0.13020916718565867,0.5744344399712282,1.5968468853373547,1.2963028965268193,-1.5497733026284977,1.7499511118561255,0.1658123389337801,-0.5975566450648164,-1.5403310453187329,-2.9969548185667585,-1.9577294931542302,-3.1441397290442143,-2.376053801297177],\"type\":\"scatter\",\"xaxis\":\"x\",\"yaxis\":\"y\"},{\"marker\":{\"color\":\"blue\",\"opacity\":0.7},\"mode\":\"markers\",\"name\":\"Predicted Points\",\"showlegend\":false,\"x\":[-1.2,-1.0358974358974358,-0.8717948717948718,-0.7076923076923076,-0.5435897435897435,-0.37948717948717947,-0.21538461538461529,-0.05128205128205132,0.11282051282051286,0.27692307692307705,0.441025641025641,0.6051282051282052,0.7692307692307694,0.9333333333333333,1.0974358974358973,1.2615384615384617,1.4256410256410257,1.5897435897435896,1.753846153846154,1.917948717948718],\"y\":[3.275269168944634,3.0002440523921026,2.720322137326982,2.4355034237492728,2.1457879116589744,1.8511756010560874,1.5516664919406113,1.247260584312547,0.9379578781718934,0.623758373518651,0.3046620703528201,-0.0193310313256001,-0.34822093151660916,-0.6820076302202063,-1.0206911274363926,-1.3642714231651685,-1.7127485174065324,-2.066122410160485,-2.4243931014270275,-2.787560591206158],\"type\":\"scatter\",\"xaxis\":\"x\",\"yaxis\":\"y\"},{\"marker\":{\"color\":\"black\",\"opacity\":0.7},\"mode\":\"markers\",\"name\":\"Real Points\",\"showlegend\":false,\"x\":[-1.2,-1.0358974358974358,-0.8717948717948718,-0.7076923076923076,-0.5435897435897435,-0.37948717948717947,-0.21538461538461529,-0.05128205128205132,0.11282051282051286,0.27692307692307705,0.441025641025641,0.6051282051282052,0.7692307692307694,0.9333333333333333,1.0974358974358973,1.2615384615384617,1.4256410256410257,1.5897435897435896,1.753846153846154,1.917948717948718],\"y\":[5.8096,3.8381753317244733,2.522800884051074,1.7092797030916282,1.2608197821340592,1.058034061642376,0.9989404292566787,0.9989617197931566,0.9909257152440888,0.9250651447778439,0.7690176847388803,0.5078259586477458,0.14393753720107805,-0.3027950617283952,-0.7951143730918573,-1.278357984664403,-1.6804585370450331,-1.911943723656666,-1.8659362907461214,-1.418154037384138],\"type\":\"scatter\",\"xaxis\":\"x2\",\"yaxis\":\"y2\"},{\"marker\":{\"color\":\"red\",\"opacity\":0.7},\"mode\":\"markers\",\"name\":\"Observed Points\",\"showlegend\":false,\"x\":[-1.2,-1.0358974358974358,-0.8717948717948718,-0.7076923076923076,-0.5435897435897435,-0.37948717948717947,-0.21538461538461529,-0.05128205128205132,0.11282051282051286,0.27692307692307705,0.441025641025641,0.6051282051282052,0.7692307692307694,0.9333333333333333,1.0974358974358973,1.2615384615384617,1.4256410256410257,1.5897435897435896,1.753846153846154,1.917948717948718],\"y\":[4.39676416798432,4.33854707143123,0.8922080363894094,1.3983340625980065,2.750062925960961,0.16240494274238115,2.6393400520888766,-0.13020916718565867,0.5744344399712282,1.5968468853373547,1.2963028965268193,-1.5497733026284977,1.7499511118561255,0.1658123389337801,-0.5975566450648164,-1.5403310453187329,-2.9969548185667585,-1.9577294931542302,-3.1441397290442143,-2.376053801297177],\"type\":\"scatter\",\"xaxis\":\"x2\",\"yaxis\":\"y2\"},{\"marker\":{\"color\":\"blue\",\"opacity\":0.7},\"mode\":\"markers\",\"name\":\"Predicted Points\",\"showlegend\":false,\"x\":[-1.2,-1.0358974358974358,-0.8717948717948718,-0.7076923076923076,-0.5435897435897435,-0.37948717948717947,-0.21538461538461529,-0.05128205128205132,0.11282051282051286,0.27692307692307705,0.441025641025641,0.6051282051282052,0.7692307692307694,0.9333333333333333,1.0974358974358973,1.2615384615384617,1.4256410256410257,1.5897435897435896,1.753846153846154,1.917948717948718],\"y\":[3.9477317331066564,3.2479934181360055,2.661334193102244,2.173874541717197,1.771734947692691,1.441035894740552,1.167897866572606,0.9384413469006804,0.7387868194366,0.5550547678921913,0.37336567597928105,0.1798400274096948,-0.03940169410474109,-0.29823900485219995,-0.6105514211208559,-0.9902184591988842,-1.451119635374456,-2.0071344659357466,-2.672142467170931,-3.46002315536818],\"type\":\"scatter\",\"xaxis\":\"x2\",\"yaxis\":\"y2\"},{\"marker\":{\"color\":\"black\",\"opacity\":0.7},\"mode\":\"markers\",\"name\":\"Real Points\",\"showlegend\":false,\"x\":[-1.2,-1.0358974358974358,-0.8717948717948718,-0.7076923076923076,-0.5435897435897435,-0.37948717948717947,-0.21538461538461529,-0.05128205128205132,0.11282051282051286,0.27692307692307705,0.441025641025641,0.6051282051282052,0.7692307692307694,0.9333333333333333,1.0974358974358973,1.2615384615384617,1.4256410256410257,1.5897435897435896,1.753846153846154,1.917948717948718],\"y\":[5.8096,3.8381753317244733,2.522800884051074,1.7092797030916282,1.2608197821340592,1.058034061642376,0.9989404292566787,0.9989617197931566,0.9909257152440888,0.9250651447778439,0.7690176847388803,0.5078259586477458,0.14393753720107805,-0.3027950617283952,-0.7951143730918573,-1.278357984664403,-1.6804585370450331,-1.911943723656666,-1.8659362907461214,-1.418154037384138],\"type\":\"scatter\",\"xaxis\":\"x3\",\"yaxis\":\"y3\"},{\"marker\":{\"color\":\"red\",\"opacity\":0.7},\"mode\":\"markers\",\"name\":\"Observed Points\",\"showlegend\":false,\"x\":[-1.2,-1.0358974358974358,-0.8717948717948718,-0.7076923076923076,-0.5435897435897435,-0.37948717948717947,-0.21538461538461529,-0.05128205128205132,0.11282051282051286,0.27692307692307705,0.441025641025641,0.6051282051282052,0.7692307692307694,0.9333333333333333,1.0974358974358973,1.2615384615384617,1.4256410256410257,1.5897435897435896,1.753846153846154,1.917948717948718],\"y\":[4.39676416798432,4.33854707143123,0.8922080363894094,1.3983340625980065,2.750062925960961,0.16240494274238115,2.6393400520888766,-0.13020916718565867,0.5744344399712282,1.5968468853373547,1.2963028965268193,-1.5497733026284977,1.7499511118561255,0.1658123389337801,-0.5975566450648164,-1.5403310453187329,-2.9969548185667585,-1.9577294931542302,-3.1441397290442143,-2.376053801297177],\"type\":\"scatter\",\"xaxis\":\"x3\",\"yaxis\":\"y3\"},{\"marker\":{\"color\":\"blue\",\"opacity\":0.7},\"mode\":\"markers\",\"name\":\"Predicted Points\",\"showlegend\":false,\"x\":[-1.2,-1.0358974358974358,-0.8717948717948718,-0.7076923076923076,-0.5435897435897435,-0.37948717948717947,-0.21538461538461529,-0.05128205128205132,0.11282051282051286,0.27692307692307705,0.441025641025641,0.6051282051282052,0.7692307692307694,0.9333333333333333,1.0974358974358973,1.2615384615384617,1.4256410256410257,1.5897435897435896,1.753846153846154,1.917948717948718],\"y\":[4.7273980365818495,3.206958349532049,2.2099484384587145,1.609843500709862,1.2941993944289918,1.1646526385550753,1.136920412822561,1.140800557761373,1.1201715746969108,1.0329926257500492,0.8513035338371386,0.5612247826700053,0.16295751675595094,-0.32921645860224635,-0.8869346773063342,-1.4677540124625854,-2.0151506763817935,-2.45852022057928,-2.7131775357748893,-2.6803568518929914],\"type\":\"scatter\",\"xaxis\":\"x3\",\"yaxis\":\"y3\"},{\"marker\":{\"color\":\"black\",\"opacity\":0.7},\"mode\":\"markers\",\"name\":\"Real Points\",\"showlegend\":false,\"x\":[-1.2,-1.0358974358974358,-0.8717948717948718,-0.7076923076923076,-0.5435897435897435,-0.37948717948717947,-0.21538461538461529,-0.05128205128205132,0.11282051282051286,0.27692307692307705,0.441025641025641,0.6051282051282052,0.7692307692307694,0.9333333333333333,1.0974358974358973,1.2615384615384617,1.4256410256410257,1.5897435897435896,1.753846153846154,1.917948717948718],\"y\":[5.8096,3.8381753317244733,2.522800884051074,1.7092797030916282,1.2608197821340592,1.058034061642376,0.9989404292566787,0.9989617197931566,0.9909257152440888,0.9250651447778439,0.7690176847388803,0.5078259586477458,0.14393753720107805,-0.3027950617283952,-0.7951143730918573,-1.278357984664403,-1.6804585370450331,-1.911943723656666,-1.8659362907461214,-1.418154037384138],\"type\":\"scatter\",\"xaxis\":\"x4\",\"yaxis\":\"y4\"},{\"marker\":{\"color\":\"red\",\"opacity\":0.7},\"mode\":\"markers\",\"name\":\"Observed Points\",\"showlegend\":false,\"x\":[-1.2,-1.0358974358974358,-0.8717948717948718,-0.7076923076923076,-0.5435897435897435,-0.37948717948717947,-0.21538461538461529,-0.05128205128205132,0.11282051282051286,0.27692307692307705,0.441025641025641,0.6051282051282052,0.7692307692307694,0.9333333333333333,1.0974358974358973,1.2615384615384617,1.4256410256410257,1.5897435897435896,1.753846153846154,1.917948717948718],\"y\":[4.39676416798432,4.33854707143123,0.8922080363894094,1.3983340625980065,2.750062925960961,0.16240494274238115,2.6393400520888766,-0.13020916718565867,0.5744344399712282,1.5968468853373547,1.2963028965268193,-1.5497733026284977,1.7499511118561255,0.1658123389337801,-0.5975566450648164,-1.5403310453187329,-2.9969548185667585,-1.9577294931542302,-3.1441397290442143,-2.376053801297177],\"type\":\"scatter\",\"xaxis\":\"x4\",\"yaxis\":\"y4\"},{\"marker\":{\"color\":\"blue\",\"opacity\":0.7},\"mode\":\"markers\",\"name\":\"Predicted Points\",\"showlegend\":false,\"x\":[-1.2,-1.0358974358974358,-0.8717948717948718,-0.7076923076923076,-0.5435897435897435,-0.37948717948717947,-0.21538461538461529,-0.05128205128205132,0.11282051282051286,0.27692307692307705,0.441025641025641,0.6051282051282052,0.7692307692307694,0.9333333333333333,1.0974358974358973,1.2615384615384617,1.4256410256410257,1.5897435897435896,1.753846153846154,1.917948717948718],\"y\":[4.543809889616801,3.313246224090758,2.3806532066893693,1.7256044478673873,1.311914040188776,1.091615248818207,1.0089392020125627,1.0042935816124403,1.0182413135336548,0.9954792582587384,0.8888169013284467,0.663155043833259,0.2994644929048814,-0.20123524779224988,-0.8138972875694677,-1.4854686582223722,-2.13091162353932,-2.6292249888099377,-2.819465410333599,-2.496768704927945],\"type\":\"scatter\",\"xaxis\":\"x4\",\"yaxis\":\"y4\"},{\"marker\":{\"color\":\"black\",\"opacity\":0.7},\"mode\":\"markers\",\"name\":\"Real Points\",\"showlegend\":false,\"x\":[-1.2,-1.0358974358974358,-0.8717948717948718,-0.7076923076923076,-0.5435897435897435,-0.37948717948717947,-0.21538461538461529,-0.05128205128205132,0.11282051282051286,0.27692307692307705,0.441025641025641,0.6051282051282052,0.7692307692307694,0.9333333333333333,1.0974358974358973,1.2615384615384617,1.4256410256410257,1.5897435897435896,1.753846153846154,1.917948717948718],\"y\":[5.8096,3.8381753317244733,2.522800884051074,1.7092797030916282,1.2608197821340592,1.058034061642376,0.9989404292566787,0.9989617197931566,0.9909257152440888,0.9250651447778439,0.7690176847388803,0.5078259586477458,0.14393753720107805,-0.3027950617283952,-0.7951143730918573,-1.278357984664403,-1.6804585370450331,-1.911943723656666,-1.8659362907461214,-1.418154037384138],\"type\":\"scatter\",\"xaxis\":\"x5\",\"yaxis\":\"y5\"},{\"marker\":{\"color\":\"red\",\"opacity\":0.7},\"mode\":\"markers\",\"name\":\"Observed Points\",\"showlegend\":false,\"x\":[-1.2,-1.0358974358974358,-0.8717948717948718,-0.7076923076923076,-0.5435897435897435,-0.37948717948717947,-0.21538461538461529,-0.05128205128205132,0.11282051282051286,0.27692307692307705,0.441025641025641,0.6051282051282052,0.7692307692307694,0.9333333333333333,1.0974358974358973,1.2615384615384617,1.4256410256410257,1.5897435897435896,1.753846153846154,1.917948717948718],\"y\":[4.39676416798432,4.33854707143123,0.8922080363894094,1.3983340625980065,2.750062925960961,0.16240494274238115,2.6393400520888766,-0.13020916718565867,0.5744344399712282,1.5968468853373547,1.2963028965268193,-1.5497733026284977,1.7499511118561255,0.1658123389337801,-0.5975566450648164,-1.5403310453187329,-2.9969548185667585,-1.9577294931542302,-3.1441397290442143,-2.376053801297177],\"type\":\"scatter\",\"xaxis\":\"x5\",\"yaxis\":\"y5\"},{\"marker\":{\"color\":\"blue\",\"opacity\":0.7},\"mode\":\"markers\",\"name\":\"Predicted Points\",\"showlegend\":false,\"x\":[-1.2,-1.0358974358974358,-0.8717948717948718,-0.7076923076923076,-0.5435897435897435,-0.37948717948717947,-0.21538461538461529,-0.05128205128205132,0.11282051282051286,0.27692307692307705,0.441025641025641,0.6051282051282052,0.7692307692307694,0.9333333333333333,1.0974358974358973,1.2615384615384617,1.4256410256410257,1.5897435897435896,1.753846153846154,1.917948717948718],\"y\":[4.708943952385255,3.1133470954763136,2.221313321561913,1.726115698835709,1.4394711567854592,1.2561528521236152,1.124226295369485,1.0209092380829503,0.9340553207497373,0.8492614813182507,0.7425991243879594,0.5789690510493424,0.3160801493753918,-0.0859481544353273,-0.649359684264061,-1.3579115416256953,-2.130400372571013,-2.788564873937421,-3.019364538948097,-2.331634642159584],\"type\":\"scatter\",\"xaxis\":\"x5\",\"yaxis\":\"y5\"},{\"marker\":{\"color\":\"black\",\"opacity\":0.7},\"mode\":\"markers\",\"name\":\"Real Points\",\"showlegend\":false,\"x\":[-1.2,-1.0358974358974358,-0.8717948717948718,-0.7076923076923076,-0.5435897435897435,-0.37948717948717947,-0.21538461538461529,-0.05128205128205132,0.11282051282051286,0.27692307692307705,0.441025641025641,0.6051282051282052,0.7692307692307694,0.9333333333333333,1.0974358974358973,1.2615384615384617,1.4256410256410257,1.5897435897435896,1.753846153846154,1.917948717948718],\"y\":[5.8096,3.8381753317244733,2.522800884051074,1.7092797030916282,1.2608197821340592,1.058034061642376,0.9989404292566787,0.9989617197931566,0.9909257152440888,0.9250651447778439,0.7690176847388803,0.5078259586477458,0.14393753720107805,-0.3027950617283952,-0.7951143730918573,-1.278357984664403,-1.6804585370450331,-1.911943723656666,-1.8659362907461214,-1.418154037384138],\"type\":\"scatter\",\"xaxis\":\"x6\",\"yaxis\":\"y6\"},{\"marker\":{\"color\":\"red\",\"opacity\":0.7},\"mode\":\"markers\",\"name\":\"Observed Points\",\"showlegend\":false,\"x\":[-1.2,-1.0358974358974358,-0.8717948717948718,-0.7076923076923076,-0.5435897435897435,-0.37948717948717947,-0.21538461538461529,-0.05128205128205132,0.11282051282051286,0.27692307692307705,0.441025641025641,0.6051282051282052,0.7692307692307694,0.9333333333333333,1.0974358974358973,1.2615384615384617,1.4256410256410257,1.5897435897435896,1.753846153846154,1.917948717948718],\"y\":[4.39676416798432,4.33854707143123,0.8922080363894094,1.3983340625980065,2.750062925960961,0.16240494274238115,2.6393400520888766,-0.13020916718565867,0.5744344399712282,1.5968468853373547,1.2963028965268193,-1.5497733026284977,1.7499511118561255,0.1658123389337801,-0.5975566450648164,-1.5403310453187329,-2.9969548185667585,-1.9577294931542302,-3.1441397290442143,-2.376053801297177],\"type\":\"scatter\",\"xaxis\":\"x6\",\"yaxis\":\"y6\"},{\"marker\":{\"color\":\"blue\",\"opacity\":0.7},\"mode\":\"markers\",\"name\":\"Predicted Points\",\"showlegend\":false,\"x\":[-1.2,-1.0358974358974358,-0.8717948717948718,-0.7076923076923076,-0.5435897435897435,-0.37948717948717947,-0.21538461538461529,-0.05128205128205132,0.11282051282051286,0.27692307692307705,0.441025641025641,0.6051282051282052,0.7692307692307694,0.9333333333333333,1.0974358974358973,1.2615384615384617,1.4256410256410257,1.5897435897435896,1.753846153846154,1.917948717948718],\"y\":[4.726117340100695,3.0799041825567857,2.2131785589598665,1.7447778012757025,1.4631576714208347,1.2664409342379703,1.1156927698947878,1.000253321279711,0.9139576719682072,0.8410735503331831,0.7507870553730278,0.5990666998308738,0.3367360661786331,-0.07741462896062656,-0.6596477663784093,-1.381598056261058,-2.1490624750109824,-2.780430111335332,-2.9859216260284995,-2.3488080298749026],\"type\":\"scatter\",\"xaxis\":\"x6\",\"yaxis\":\"y6\"}],                        {\"template\":{\"data\":{\"barpolar\":[{\"marker\":{\"line\":{\"color\":\"white\",\"width\":0.5},\"pattern\":{\"fillmode\":\"overlay\",\"size\":10,\"solidity\":0.2}},\"type\":\"barpolar\"}],\"bar\":[{\"error_x\":{\"color\":\"rgb(36,36,36)\"},\"error_y\":{\"color\":\"rgb(36,36,36)\"},\"marker\":{\"line\":{\"color\":\"white\",\"width\":0.5},\"pattern\":{\"fillmode\":\"overlay\",\"size\":10,\"solidity\":0.2}},\"type\":\"bar\"}],\"carpet\":[{\"aaxis\":{\"endlinecolor\":\"rgb(36,36,36)\",\"gridcolor\":\"white\",\"linecolor\":\"white\",\"minorgridcolor\":\"white\",\"startlinecolor\":\"rgb(36,36,36)\"},\"baxis\":{\"endlinecolor\":\"rgb(36,36,36)\",\"gridcolor\":\"white\",\"linecolor\":\"white\",\"minorgridcolor\":\"white\",\"startlinecolor\":\"rgb(36,36,36)\"},\"type\":\"carpet\"}],\"choropleth\":[{\"colorbar\":{\"outlinewidth\":1,\"tickcolor\":\"rgb(36,36,36)\",\"ticks\":\"outside\"},\"type\":\"choropleth\"}],\"contourcarpet\":[{\"colorbar\":{\"outlinewidth\":1,\"tickcolor\":\"rgb(36,36,36)\",\"ticks\":\"outside\"},\"type\":\"contourcarpet\"}],\"contour\":[{\"colorbar\":{\"outlinewidth\":1,\"tickcolor\":\"rgb(36,36,36)\",\"ticks\":\"outside\"},\"colorscale\":[[0.0,\"#440154\"],[0.1111111111111111,\"#482878\"],[0.2222222222222222,\"#3e4989\"],[0.3333333333333333,\"#31688e\"],[0.4444444444444444,\"#26828e\"],[0.5555555555555556,\"#1f9e89\"],[0.6666666666666666,\"#35b779\"],[0.7777777777777778,\"#6ece58\"],[0.8888888888888888,\"#b5de2b\"],[1.0,\"#fde725\"]],\"type\":\"contour\"}],\"heatmapgl\":[{\"colorbar\":{\"outlinewidth\":1,\"tickcolor\":\"rgb(36,36,36)\",\"ticks\":\"outside\"},\"colorscale\":[[0.0,\"#440154\"],[0.1111111111111111,\"#482878\"],[0.2222222222222222,\"#3e4989\"],[0.3333333333333333,\"#31688e\"],[0.4444444444444444,\"#26828e\"],[0.5555555555555556,\"#1f9e89\"],[0.6666666666666666,\"#35b779\"],[0.7777777777777778,\"#6ece58\"],[0.8888888888888888,\"#b5de2b\"],[1.0,\"#fde725\"]],\"type\":\"heatmapgl\"}],\"heatmap\":[{\"colorbar\":{\"outlinewidth\":1,\"tickcolor\":\"rgb(36,36,36)\",\"ticks\":\"outside\"},\"colorscale\":[[0.0,\"#440154\"],[0.1111111111111111,\"#482878\"],[0.2222222222222222,\"#3e4989\"],[0.3333333333333333,\"#31688e\"],[0.4444444444444444,\"#26828e\"],[0.5555555555555556,\"#1f9e89\"],[0.6666666666666666,\"#35b779\"],[0.7777777777777778,\"#6ece58\"],[0.8888888888888888,\"#b5de2b\"],[1.0,\"#fde725\"]],\"type\":\"heatmap\"}],\"histogram2dcontour\":[{\"colorbar\":{\"outlinewidth\":1,\"tickcolor\":\"rgb(36,36,36)\",\"ticks\":\"outside\"},\"colorscale\":[[0.0,\"#440154\"],[0.1111111111111111,\"#482878\"],[0.2222222222222222,\"#3e4989\"],[0.3333333333333333,\"#31688e\"],[0.4444444444444444,\"#26828e\"],[0.5555555555555556,\"#1f9e89\"],[0.6666666666666666,\"#35b779\"],[0.7777777777777778,\"#6ece58\"],[0.8888888888888888,\"#b5de2b\"],[1.0,\"#fde725\"]],\"type\":\"histogram2dcontour\"}],\"histogram2d\":[{\"colorbar\":{\"outlinewidth\":1,\"tickcolor\":\"rgb(36,36,36)\",\"ticks\":\"outside\"},\"colorscale\":[[0.0,\"#440154\"],[0.1111111111111111,\"#482878\"],[0.2222222222222222,\"#3e4989\"],[0.3333333333333333,\"#31688e\"],[0.4444444444444444,\"#26828e\"],[0.5555555555555556,\"#1f9e89\"],[0.6666666666666666,\"#35b779\"],[0.7777777777777778,\"#6ece58\"],[0.8888888888888888,\"#b5de2b\"],[1.0,\"#fde725\"]],\"type\":\"histogram2d\"}],\"histogram\":[{\"marker\":{\"line\":{\"color\":\"white\",\"width\":0.6}},\"type\":\"histogram\"}],\"mesh3d\":[{\"colorbar\":{\"outlinewidth\":1,\"tickcolor\":\"rgb(36,36,36)\",\"ticks\":\"outside\"},\"type\":\"mesh3d\"}],\"parcoords\":[{\"line\":{\"colorbar\":{\"outlinewidth\":1,\"tickcolor\":\"rgb(36,36,36)\",\"ticks\":\"outside\"}},\"type\":\"parcoords\"}],\"pie\":[{\"automargin\":true,\"type\":\"pie\"}],\"scatter3d\":[{\"line\":{\"colorbar\":{\"outlinewidth\":1,\"tickcolor\":\"rgb(36,36,36)\",\"ticks\":\"outside\"}},\"marker\":{\"colorbar\":{\"outlinewidth\":1,\"tickcolor\":\"rgb(36,36,36)\",\"ticks\":\"outside\"}},\"type\":\"scatter3d\"}],\"scattercarpet\":[{\"marker\":{\"colorbar\":{\"outlinewidth\":1,\"tickcolor\":\"rgb(36,36,36)\",\"ticks\":\"outside\"}},\"type\":\"scattercarpet\"}],\"scattergeo\":[{\"marker\":{\"colorbar\":{\"outlinewidth\":1,\"tickcolor\":\"rgb(36,36,36)\",\"ticks\":\"outside\"}},\"type\":\"scattergeo\"}],\"scattergl\":[{\"marker\":{\"colorbar\":{\"outlinewidth\":1,\"tickcolor\":\"rgb(36,36,36)\",\"ticks\":\"outside\"}},\"type\":\"scattergl\"}],\"scattermapbox\":[{\"marker\":{\"colorbar\":{\"outlinewidth\":1,\"tickcolor\":\"rgb(36,36,36)\",\"ticks\":\"outside\"}},\"type\":\"scattermapbox\"}],\"scatterpolargl\":[{\"marker\":{\"colorbar\":{\"outlinewidth\":1,\"tickcolor\":\"rgb(36,36,36)\",\"ticks\":\"outside\"}},\"type\":\"scatterpolargl\"}],\"scatterpolar\":[{\"marker\":{\"colorbar\":{\"outlinewidth\":1,\"tickcolor\":\"rgb(36,36,36)\",\"ticks\":\"outside\"}},\"type\":\"scatterpolar\"}],\"scatter\":[{\"fillpattern\":{\"fillmode\":\"overlay\",\"size\":10,\"solidity\":0.2},\"type\":\"scatter\"}],\"scatterternary\":[{\"marker\":{\"colorbar\":{\"outlinewidth\":1,\"tickcolor\":\"rgb(36,36,36)\",\"ticks\":\"outside\"}},\"type\":\"scatterternary\"}],\"surface\":[{\"colorbar\":{\"outlinewidth\":1,\"tickcolor\":\"rgb(36,36,36)\",\"ticks\":\"outside\"},\"colorscale\":[[0.0,\"#440154\"],[0.1111111111111111,\"#482878\"],[0.2222222222222222,\"#3e4989\"],[0.3333333333333333,\"#31688e\"],[0.4444444444444444,\"#26828e\"],[0.5555555555555556,\"#1f9e89\"],[0.6666666666666666,\"#35b779\"],[0.7777777777777778,\"#6ece58\"],[0.8888888888888888,\"#b5de2b\"],[1.0,\"#fde725\"]],\"type\":\"surface\"}],\"table\":[{\"cells\":{\"fill\":{\"color\":\"rgb(237,237,237)\"},\"line\":{\"color\":\"white\"}},\"header\":{\"fill\":{\"color\":\"rgb(217,217,217)\"},\"line\":{\"color\":\"white\"}},\"type\":\"table\"}]},\"layout\":{\"annotationdefaults\":{\"arrowhead\":0,\"arrowwidth\":1},\"autotypenumbers\":\"strict\",\"coloraxis\":{\"colorbar\":{\"outlinewidth\":1,\"tickcolor\":\"rgb(36,36,36)\",\"ticks\":\"outside\"}},\"colorscale\":{\"diverging\":[[0.0,\"rgb(103,0,31)\"],[0.1,\"rgb(178,24,43)\"],[0.2,\"rgb(214,96,77)\"],[0.3,\"rgb(244,165,130)\"],[0.4,\"rgb(253,219,199)\"],[0.5,\"rgb(247,247,247)\"],[0.6,\"rgb(209,229,240)\"],[0.7,\"rgb(146,197,222)\"],[0.8,\"rgb(67,147,195)\"],[0.9,\"rgb(33,102,172)\"],[1.0,\"rgb(5,48,97)\"]],\"sequential\":[[0.0,\"#440154\"],[0.1111111111111111,\"#482878\"],[0.2222222222222222,\"#3e4989\"],[0.3333333333333333,\"#31688e\"],[0.4444444444444444,\"#26828e\"],[0.5555555555555556,\"#1f9e89\"],[0.6666666666666666,\"#35b779\"],[0.7777777777777778,\"#6ece58\"],[0.8888888888888888,\"#b5de2b\"],[1.0,\"#fde725\"]],\"sequentialminus\":[[0.0,\"#440154\"],[0.1111111111111111,\"#482878\"],[0.2222222222222222,\"#3e4989\"],[0.3333333333333333,\"#31688e\"],[0.4444444444444444,\"#26828e\"],[0.5555555555555556,\"#1f9e89\"],[0.6666666666666666,\"#35b779\"],[0.7777777777777778,\"#6ece58\"],[0.8888888888888888,\"#b5de2b\"],[1.0,\"#fde725\"]]},\"colorway\":[\"#1F77B4\",\"#FF7F0E\",\"#2CA02C\",\"#D62728\",\"#9467BD\",\"#8C564B\",\"#E377C2\",\"#7F7F7F\",\"#BCBD22\",\"#17BECF\"],\"font\":{\"color\":\"rgb(36,36,36)\"},\"geo\":{\"bgcolor\":\"white\",\"lakecolor\":\"white\",\"landcolor\":\"white\",\"showlakes\":true,\"showland\":true,\"subunitcolor\":\"white\"},\"hoverlabel\":{\"align\":\"left\"},\"hovermode\":\"closest\",\"mapbox\":{\"style\":\"light\"},\"paper_bgcolor\":\"white\",\"plot_bgcolor\":\"white\",\"polar\":{\"angularaxis\":{\"gridcolor\":\"rgb(232,232,232)\",\"linecolor\":\"rgb(36,36,36)\",\"showgrid\":false,\"showline\":true,\"ticks\":\"outside\"},\"bgcolor\":\"white\",\"radialaxis\":{\"gridcolor\":\"rgb(232,232,232)\",\"linecolor\":\"rgb(36,36,36)\",\"showgrid\":false,\"showline\":true,\"ticks\":\"outside\"}},\"scene\":{\"xaxis\":{\"backgroundcolor\":\"white\",\"gridcolor\":\"rgb(232,232,232)\",\"gridwidth\":2,\"linecolor\":\"rgb(36,36,36)\",\"showbackground\":true,\"showgrid\":false,\"showline\":true,\"ticks\":\"outside\",\"zeroline\":false,\"zerolinecolor\":\"rgb(36,36,36)\"},\"yaxis\":{\"backgroundcolor\":\"white\",\"gridcolor\":\"rgb(232,232,232)\",\"gridwidth\":2,\"linecolor\":\"rgb(36,36,36)\",\"showbackground\":true,\"showgrid\":false,\"showline\":true,\"ticks\":\"outside\",\"zeroline\":false,\"zerolinecolor\":\"rgb(36,36,36)\"},\"zaxis\":{\"backgroundcolor\":\"white\",\"gridcolor\":\"rgb(232,232,232)\",\"gridwidth\":2,\"linecolor\":\"rgb(36,36,36)\",\"showbackground\":true,\"showgrid\":false,\"showline\":true,\"ticks\":\"outside\",\"zeroline\":false,\"zerolinecolor\":\"rgb(36,36,36)\"}},\"shapedefaults\":{\"fillcolor\":\"black\",\"line\":{\"width\":0},\"opacity\":0.3},\"ternary\":{\"aaxis\":{\"gridcolor\":\"rgb(232,232,232)\",\"linecolor\":\"rgb(36,36,36)\",\"showgrid\":false,\"showline\":true,\"ticks\":\"outside\"},\"baxis\":{\"gridcolor\":\"rgb(232,232,232)\",\"linecolor\":\"rgb(36,36,36)\",\"showgrid\":false,\"showline\":true,\"ticks\":\"outside\"},\"bgcolor\":\"white\",\"caxis\":{\"gridcolor\":\"rgb(232,232,232)\",\"linecolor\":\"rgb(36,36,36)\",\"showgrid\":false,\"showline\":true,\"ticks\":\"outside\"}},\"title\":{\"x\":0.05},\"xaxis\":{\"automargin\":true,\"gridcolor\":\"rgb(232,232,232)\",\"linecolor\":\"rgb(36,36,36)\",\"showgrid\":false,\"showline\":true,\"ticks\":\"outside\",\"title\":{\"standoff\":15},\"zeroline\":false,\"zerolinecolor\":\"rgb(36,36,36)\"},\"yaxis\":{\"automargin\":true,\"gridcolor\":\"rgb(232,232,232)\",\"linecolor\":\"rgb(36,36,36)\",\"showgrid\":false,\"showline\":true,\"ticks\":\"outside\",\"title\":{\"standoff\":15},\"zeroline\":false,\"zerolinecolor\":\"rgb(36,36,36)\"},\"margin\":{\"b\":0,\"l\":20,\"r\":20,\"t\":40}}},\"xaxis\":{\"anchor\":\"y\",\"domain\":[0.0,0.2888888888888889]},\"yaxis\":{\"anchor\":\"x\",\"domain\":[0.625,1.0]},\"xaxis2\":{\"anchor\":\"y2\",\"domain\":[0.35555555555555557,0.6444444444444445]},\"yaxis2\":{\"anchor\":\"x2\",\"domain\":[0.625,1.0]},\"xaxis3\":{\"anchor\":\"y3\",\"domain\":[0.7111111111111111,1.0]},\"yaxis3\":{\"anchor\":\"x3\",\"domain\":[0.625,1.0]},\"xaxis4\":{\"anchor\":\"y4\",\"domain\":[0.0,0.2888888888888889]},\"yaxis4\":{\"anchor\":\"x4\",\"domain\":[0.0,0.375]},\"xaxis5\":{\"anchor\":\"y5\",\"domain\":[0.35555555555555557,0.6444444444444445]},\"yaxis5\":{\"anchor\":\"x5\",\"domain\":[0.0,0.375]},\"xaxis6\":{\"anchor\":\"y6\",\"domain\":[0.7111111111111111,1.0]},\"yaxis6\":{\"anchor\":\"x6\",\"domain\":[0.0,0.375]},\"annotations\":[{\"font\":{\"size\":16},\"showarrow\":false,\"text\":\"$k=2, MSE=1.29$\",\"x\":0.14444444444444446,\"xanchor\":\"center\",\"xref\":\"paper\",\"y\":1.0,\"yanchor\":\"bottom\",\"yref\":\"paper\"},{\"font\":{\"size\":16},\"showarrow\":false,\"text\":\"$k=3, MSE=1.17$\",\"x\":0.5,\"xanchor\":\"center\",\"xref\":\"paper\",\"y\":1.0,\"yanchor\":\"bottom\",\"yref\":\"paper\"},{\"font\":{\"size\":16},\"showarrow\":false,\"text\":\"$k=4, MSE=0.99$\",\"x\":0.8555555555555556,\"xanchor\":\"center\",\"xref\":\"paper\",\"y\":1.0,\"yanchor\":\"bottom\",\"yref\":\"paper\"},{\"font\":{\"size\":16},\"showarrow\":false,\"text\":\"$k=5, MSE=0.98$\",\"x\":0.14444444444444446,\"xanchor\":\"center\",\"xref\":\"paper\",\"y\":0.375,\"yanchor\":\"bottom\",\"yref\":\"paper\"},{\"font\":{\"size\":16},\"showarrow\":false,\"text\":\"$k=6, MSE=0.96$\",\"x\":0.5,\"xanchor\":\"center\",\"xref\":\"paper\",\"y\":0.375,\"yanchor\":\"bottom\",\"yref\":\"paper\"},{\"font\":{\"size\":16},\"showarrow\":false,\"text\":\"$k=7, MSE=0.96$\",\"x\":0.8555555555555556,\"xanchor\":\"center\",\"xref\":\"paper\",\"y\":0.375,\"yanchor\":\"bottom\",\"yref\":\"paper\"}],\"margin\":{\"t\":80},\"title\":{\"text\":\"$\\\\text{(4) Simulated Data With Noise - Fitting Polynomials of Different Degrees}$\"}},                        {\"responsive\": true}                    ).then(function(){\n                            \nvar gd = document.getElementById('264fd45d-4c15-4f90-aed4-bb09b5ba2d9a');\nvar x = new MutationObserver(function (mutations, observer) {{\n        var display = window.getComputedStyle(gd).display;\n        if (!display || display === 'none') {{\n            console.log([gd, 'removed!']);\n            Plotly.purge(gd);\n            observer.disconnect();\n        }}\n}});\n\n// Listen for the removal of the full notebook cells\nvar notebookContainer = gd.closest('#notebook-container');\nif (notebookContainer) {{\n    x.observe(notebookContainer, {childList: true});\n}}\n\n// Listen for the clearing of the current output cell\nvar outputEl = gd.closest('.output');\nif (outputEl) {{\n    x.observe(outputEl, {childList: true});\n}}\n\n                        })                };                });            </script>        </div>"
     },
     "metadata": {},
     "output_type": "display_data"
    }
   ],
   "source": [
    "y = y_ + np.random.normal(size=len(y_))\n",
    "\n",
    "ks = range(2, 8)\n",
    "fig = make_subplots(2, 3, subplot_titles=list(ks))\n",
    "for i, k in enumerate(ks):\n",
    "    r,c = i//3+1, i%3+1 \n",
    "    \n",
    "    y_hat = make_pipeline(PolynomialFeatures(k), LinearRegression(fit_intercept=False)).fit(X, y).predict(X)\n",
    "    fig.add_traces([go.Scatter(x=x, y=y_, mode=\"markers\", name=\"Real Points\",  marker=dict(color=\"black\", opacity=.7), showlegend=False),\n",
    "                    go.Scatter(x=x, y=y, mode=\"markers\", name=\"Observed Points\",  marker=dict(color=\"red\", opacity=.7), showlegend=False), \n",
    "                    go.Scatter(x=x, y=y_hat, mode=\"markers\", name=\"Predicted Points\",  marker=dict(color=\"blue\", opacity=.7), showlegend=False)], rows=r, cols=c)\n",
    "    fig[\"layout\"][\"annotations\"][i][\"text\"] = rf\"$k={{0}}, MSE={{1}}$\".format(k, round(np.mean((y-y_hat)**2), 2))\n",
    "\n",
    "fig.update_layout(title=r\"$\\text{(4) Simulated Data With Noise - Fitting Polynomials of Different Degrees}$\", margin=dict(t=80)).show()"
   ]
  },
  {
   "cell_type": "markdown",
   "metadata": {
    "pycharm": {
     "name": "#%% md\n"
    }
   },
   "source": [
    "How is it that we are able to fit \"better\" models for $k$s larger than the true one? As we increase $k$ we enable the model\n",
    "more \"degrees of freedom\" to try and adapt itself to the observed data. The higher $k$ the more the learner will \"go after\n",
    "the noise\" and miss the real signal of the data. In other words, what we have just observed is what is known as **overfitting**.\n",
    "\n",
    "Later in the course we will learn methods for detection and avoidance of overfitting.\n",
    "\n",
    "\n",
    "## Fitting Polynomial Over Different Sample Noise Levels\n",
    "\n",
    "Next, let us set $k=4$ (the true values) and study the outputted models when training over different noise levels. Though\n",
    "we will only be changing the scale of the noise (i.e. the variance, $\\sigma^2$), changing other properties such as its\n",
    "distribution is interesting too. As we would expect, as we increase the scale of the noise our error increases. We can\n",
    "observe this also in a visual manner, where the fitted polynomial (in blue) less and less resembles the actual model (in black)."
   ]
  },
  {
   "cell_type": "code",
   "execution_count": 13,
   "metadata": {
    "pycharm": {
     "name": "#%%\n"
    }
   },
   "outputs": [
    {
     "data": {
      "application/vnd.plotly.v1+json": {
       "data": [
        {
         "marker": {
          "color": "black",
          "opacity": 0.7
         },
         "mode": "markers",
         "name": "Real Points",
         "showlegend": false,
         "x": [
          -1.2,
          -1.0358974358974358,
          -0.8717948717948718,
          -0.7076923076923076,
          -0.5435897435897435,
          -0.37948717948717947,
          -0.21538461538461529,
          -0.05128205128205132,
          0.11282051282051286,
          0.27692307692307705,
          0.441025641025641,
          0.6051282051282052,
          0.7692307692307694,
          0.9333333333333333,
          1.0974358974358973,
          1.2615384615384617,
          1.4256410256410257,
          1.5897435897435896,
          1.753846153846154,
          1.917948717948718
         ],
         "y": [
          5.8096,
          3.8381753317244733,
          2.522800884051074,
          1.7092797030916282,
          1.2608197821340592,
          1.058034061642376,
          0.9989404292566787,
          0.9989617197931566,
          0.9909257152440888,
          0.9250651447778439,
          0.7690176847388803,
          0.5078259586477458,
          0.14393753720107805,
          -0.3027950617283952,
          -0.7951143730918573,
          -1.278357984664403,
          -1.6804585370450331,
          -1.911943723656666,
          -1.8659362907461214,
          -1.418154037384138
         ],
         "type": "scatter",
         "xaxis": "x",
         "yaxis": "y"
        },
        {
         "marker": {
          "color": "red",
          "opacity": 0.7
         },
         "mode": "markers",
         "name": "Observed Points",
         "showlegend": false,
         "x": [
          -1.2,
          -1.0358974358974358,
          -0.8717948717948718,
          -0.7076923076923076,
          -0.5435897435897435,
          -0.37948717948717947,
          -0.21538461538461529,
          -0.05128205128205132,
          0.11282051282051286,
          0.27692307692307705,
          0.441025641025641,
          0.6051282051282052,
          0.7692307692307694,
          0.9333333333333333,
          1.0974358974358973,
          1.2615384615384617,
          1.4256410256410257,
          1.5897435897435896,
          1.753846153846154,
          1.917948717948718
         ],
         "y": [
          5.8096,
          3.8381753317244733,
          2.522800884051074,
          1.7092797030916282,
          1.2608197821340592,
          1.058034061642376,
          0.9989404292566787,
          0.9989617197931566,
          0.9909257152440888,
          0.9250651447778439,
          0.7690176847388803,
          0.5078259586477458,
          0.14393753720107805,
          -0.3027950617283952,
          -0.7951143730918573,
          -1.278357984664403,
          -1.6804585370450331,
          -1.911943723656666,
          -1.8659362907461214,
          -1.418154037384138
         ],
         "type": "scatter",
         "xaxis": "x",
         "yaxis": "y"
        },
        {
         "marker": {
          "color": "blue",
          "opacity": 0.7
         },
         "mode": "markers",
         "name": "Predicted Points",
         "showlegend": false,
         "x": [
          -1.2,
          -1.0358974358974358,
          -0.8717948717948718,
          -0.7076923076923076,
          -0.5435897435897435,
          -0.37948717948717947,
          -0.21538461538461529,
          -0.05128205128205132,
          0.11282051282051286,
          0.27692307692307705,
          0.441025641025641,
          0.6051282051282052,
          0.7692307692307694,
          0.9333333333333333,
          1.0974358974358973,
          1.2615384615384617,
          1.4256410256410257,
          1.5897435897435896,
          1.753846153846154,
          1.917948717948718
         ],
         "y": [
          5.8096,
          3.8381753317244733,
          2.5228008840510743,
          1.7092797030916294,
          1.2608197821340605,
          1.0580340616423776,
          0.9989404292566803,
          0.9989617197931581,
          0.9909257152440905,
          0.9250651447778455,
          0.769017684738882,
          0.5078259586477474,
          0.1439375372010796,
          -0.3027950617283939,
          -0.795114373091856,
          -1.2783579846644018,
          -1.6804585370450331,
          -1.911943723656666,
          -1.8659362907461254,
          -1.4181540373841433
         ],
         "type": "scatter",
         "xaxis": "x",
         "yaxis": "y"
        },
        {
         "marker": {
          "color": "black",
          "opacity": 0.7
         },
         "mode": "markers",
         "name": "Real Points",
         "showlegend": false,
         "x": [
          -1.2,
          -1.0358974358974358,
          -0.8717948717948718,
          -0.7076923076923076,
          -0.5435897435897435,
          -0.37948717948717947,
          -0.21538461538461529,
          -0.05128205128205132,
          0.11282051282051286,
          0.27692307692307705,
          0.441025641025641,
          0.6051282051282052,
          0.7692307692307694,
          0.9333333333333333,
          1.0974358974358973,
          1.2615384615384617,
          1.4256410256410257,
          1.5897435897435896,
          1.753846153846154,
          1.917948717948718
         ],
         "y": [
          5.8096,
          3.8381753317244733,
          2.522800884051074,
          1.7092797030916282,
          1.2608197821340592,
          1.058034061642376,
          0.9989404292566787,
          0.9989617197931566,
          0.9909257152440888,
          0.9250651447778439,
          0.7690176847388803,
          0.5078259586477458,
          0.14393753720107805,
          -0.3027950617283952,
          -0.7951143730918573,
          -1.278357984664403,
          -1.6804585370450331,
          -1.911943723656666,
          -1.8659362907461214,
          -1.418154037384138
         ],
         "type": "scatter",
         "xaxis": "x2",
         "yaxis": "y2"
        },
        {
         "marker": {
          "color": "red",
          "opacity": 0.7
         },
         "mode": "markers",
         "name": "Observed Points",
         "showlegend": false,
         "x": [
          -1.2,
          -1.0358974358974358,
          -0.8717948717948718,
          -0.7076923076923076,
          -0.5435897435897435,
          -0.37948717948717947,
          -0.21538461538461529,
          -0.05128205128205132,
          0.11282051282051286,
          0.27692307692307705,
          0.441025641025641,
          0.6051282051282052,
          0.7692307692307694,
          0.9333333333333333,
          1.0974358974358973,
          1.2615384615384617,
          1.4256410256410257,
          1.5897435897435896,
          1.753846153846154,
          1.917948717948718
         ],
         "y": [
          5.592966634840701,
          3.3950483209364335,
          0.4975622409138105,
          1.9887162989449392,
          -0.447204447960041,
          0.37415655426530714,
          1.3566279851974277,
          0.6118326088979744,
          0.1939860066624336,
          -1.0686347698809682,
          1.1652501655923357,
          1.8844391100102307,
          0.38425797345742496,
          -1.192839565810997,
          0.13000951951366302,
          -0.970475261190407,
          -1.5996617304268912,
          -2.222191592457783,
          -4.112875520597102,
          -2.7929956676362924
         ],
         "type": "scatter",
         "xaxis": "x2",
         "yaxis": "y2"
        },
        {
         "marker": {
          "color": "blue",
          "opacity": 0.7
         },
         "mode": "markers",
         "name": "Predicted Points",
         "showlegend": false,
         "x": [
          -1.2,
          -1.0358974358974358,
          -0.8717948717948718,
          -0.7076923076923076,
          -0.5435897435897435,
          -0.37948717948717947,
          -0.21538461538461529,
          -0.05128205128205132,
          0.11282051282051286,
          0.27692307692307705,
          0.441025641025641,
          0.6051282051282052,
          0.7692307692307694,
          0.9333333333333333,
          1.0974358974358973,
          1.2615384615384617,
          1.4256410256410257,
          1.5897435897435896,
          1.753846153846154,
          1.917948717948718
         ],
         "y": [
          5.451318397792938,
          3.1997362066412576,
          1.7060741292865127,
          0.8055866212599302,
          0.35004680788434134,
          0.20774648427416936,
          0.2634961153354356,
          0.41862483576575743,
          0.5909804500543492,
          0.7149294324820211,
          0.7413569271211803,
          0.6376667478358301,
          0.3877813782815702,
          -0.007858028094402503,
          -0.5322916480532935,
          -1.1520409885647185,
          -1.8171088868066851,
          -2.4609795101656147,
          -3.0006183562363287,
          -3.3364722528220483
         ],
         "type": "scatter",
         "xaxis": "x2",
         "yaxis": "y2"
        },
        {
         "marker": {
          "color": "black",
          "opacity": 0.7
         },
         "mode": "markers",
         "name": "Real Points",
         "showlegend": false,
         "x": [
          -1.2,
          -1.0358974358974358,
          -0.8717948717948718,
          -0.7076923076923076,
          -0.5435897435897435,
          -0.37948717948717947,
          -0.21538461538461529,
          -0.05128205128205132,
          0.11282051282051286,
          0.27692307692307705,
          0.441025641025641,
          0.6051282051282052,
          0.7692307692307694,
          0.9333333333333333,
          1.0974358974358973,
          1.2615384615384617,
          1.4256410256410257,
          1.5897435897435896,
          1.753846153846154,
          1.917948717948718
         ],
         "y": [
          5.8096,
          3.8381753317244733,
          2.522800884051074,
          1.7092797030916282,
          1.2608197821340592,
          1.058034061642376,
          0.9989404292566787,
          0.9989617197931566,
          0.9909257152440888,
          0.9250651447778439,
          0.7690176847388803,
          0.5078259586477458,
          0.14393753720107805,
          -0.3027950617283952,
          -0.7951143730918573,
          -1.278357984664403,
          -1.6804585370450331,
          -1.911943723656666,
          -1.8659362907461214,
          -1.418154037384138
         ],
         "type": "scatter",
         "xaxis": "x3",
         "yaxis": "y3"
        },
        {
         "marker": {
          "color": "red",
          "opacity": 0.7
         },
         "mode": "markers",
         "name": "Observed Points",
         "showlegend": false,
         "x": [
          -1.2,
          -1.0358974358974358,
          -0.8717948717948718,
          -0.7076923076923076,
          -0.5435897435897435,
          -0.37948717948717947,
          -0.21538461538461529,
          -0.05128205128205132,
          0.11282051282051286,
          0.27692307692307705,
          0.441025641025641,
          0.6051282051282052,
          0.7692307692307694,
          0.9333333333333333,
          1.0974358974358973,
          1.2615384615384617,
          1.4256410256410257,
          1.5897435897435896,
          1.753846153846154,
          1.917948717948718
         ],
         "y": [
          4.456716753106322,
          2.807048838881048,
          3.806825061226515,
          4.961987851852257,
          0.35422972813640663,
          -1.373977909831191,
          3.354895612666022,
          -0.19140647656246657,
          -1.1689099804451946,
          -0.30026865902124056,
          -1.2431050452807406,
          2.8238191163416575,
          1.2247110526169196,
          1.1562962119786115,
          0.14551619733465126,
          -0.9168432504752897,
          -0.9756053088495931,
          -5.728888688268615,
          -1.205385897831506,
          0.8684649214236155
         ],
         "type": "scatter",
         "xaxis": "x3",
         "yaxis": "y3"
        },
        {
         "marker": {
          "color": "blue",
          "opacity": 0.7
         },
         "mode": "markers",
         "name": "Predicted Points",
         "showlegend": false,
         "x": [
          -1.2,
          -1.0358974358974358,
          -0.8717948717948718,
          -0.7076923076923076,
          -0.5435897435897435,
          -0.37948717948717947,
          -0.21538461538461529,
          -0.05128205128205132,
          0.11282051282051286,
          0.27692307692307705,
          0.441025641025641,
          0.6051282051282052,
          0.7692307692307694,
          0.9333333333333333,
          1.0974358974358973,
          1.2615384615384617,
          1.4256410256410257,
          1.5897435897435896,
          1.753846153846154,
          1.917948717948718
         ],
         "y": [
          5.183796524804375,
          3.615627649883601,
          2.5273200954662967,
          1.808853781264861,
          1.3626659063703965,
          1.1036509492526976,
          0.9591606677602574,
          0.8690040991202655,
          0.7854475599386076,
          0.6732146461998665,
          0.5094862332673218,
          0.283900475882949,
          -0.001447191832578798,
          -0.33200405637989205,
          -0.6807601248809245,
          -1.0082481250789148,
          -1.2625435053384022,
          -1.379264434645231,
          -1.281571802606548,
          -0.8801692194508046
         ],
         "type": "scatter",
         "xaxis": "x3",
         "yaxis": "y3"
        },
        {
         "marker": {
          "color": "black",
          "opacity": 0.7
         },
         "mode": "markers",
         "name": "Real Points",
         "showlegend": false,
         "x": [
          -1.2,
          -1.0358974358974358,
          -0.8717948717948718,
          -0.7076923076923076,
          -0.5435897435897435,
          -0.37948717948717947,
          -0.21538461538461529,
          -0.05128205128205132,
          0.11282051282051286,
          0.27692307692307705,
          0.441025641025641,
          0.6051282051282052,
          0.7692307692307694,
          0.9333333333333333,
          1.0974358974358973,
          1.2615384615384617,
          1.4256410256410257,
          1.5897435897435896,
          1.753846153846154,
          1.917948717948718
         ],
         "y": [
          5.8096,
          3.8381753317244733,
          2.522800884051074,
          1.7092797030916282,
          1.2608197821340592,
          1.058034061642376,
          0.9989404292566787,
          0.9989617197931566,
          0.9909257152440888,
          0.9250651447778439,
          0.7690176847388803,
          0.5078259586477458,
          0.14393753720107805,
          -0.3027950617283952,
          -0.7951143730918573,
          -1.278357984664403,
          -1.6804585370450331,
          -1.911943723656666,
          -1.8659362907461214,
          -1.418154037384138
         ],
         "type": "scatter",
         "xaxis": "x4",
         "yaxis": "y4"
        },
        {
         "marker": {
          "color": "red",
          "opacity": 0.7
         },
         "mode": "markers",
         "name": "Observed Points",
         "showlegend": false,
         "x": [
          -1.2,
          -1.0358974358974358,
          -0.8717948717948718,
          -0.7076923076923076,
          -0.5435897435897435,
          -0.37948717948717947,
          -0.21538461538461529,
          -0.05128205128205132,
          0.11282051282051286,
          0.27692307692307705,
          0.441025641025641,
          0.6051282051282052,
          0.7692307692307694,
          0.9333333333333333,
          1.0974358974358973,
          1.2615384615384617,
          1.4256410256410257,
          1.5897435897435896,
          1.753846153846154,
          1.917948717948718
         ],
         "y": [
          5.6236459291738905,
          5.423230736184172,
          -0.9217301081262419,
          6.655163840851474,
          0.39044414242055936,
          1.2239836648759588,
          0.09150089717161103,
          1.1672059499281353,
          1.2860832260967503,
          3.107010192700404,
          2.9264881276392467,
          -1.7134039066400868,
          -1.9935429000988982,
          -0.8024908582980708,
          1.4930659750517785,
          -0.049592788377457175,
          1.3052183070241803,
          -5.904152416935073,
          0.4243228480503638,
          -0.9101527444900757
         ],
         "type": "scatter",
         "xaxis": "x4",
         "yaxis": "y4"
        },
        {
         "marker": {
          "color": "blue",
          "opacity": 0.7
         },
         "mode": "markers",
         "name": "Predicted Points",
         "showlegend": false,
         "x": [
          -1.2,
          -1.0358974358974358,
          -0.8717948717948718,
          -0.7076923076923076,
          -0.5435897435897435,
          -0.37948717948717947,
          -0.21538461538461529,
          -0.05128205128205132,
          0.11282051282051286,
          0.27692307692307705,
          0.441025641025641,
          0.6051282051282052,
          0.7692307692307694,
          0.9333333333333333,
          1.0974358974358973,
          1.2615384615384617,
          1.4256410256410257,
          1.5897435897435896,
          1.753846153846154,
          1.917948717948718
         ],
         "y": [
          5.774268735282147,
          4.082113831915968,
          2.9220925963696107,
          2.1705338190771633,
          1.717788541767892,
          1.4682300574662335,
          1.3402539104917988,
          1.2662778964593728,
          1.1927420622789129,
          1.080108706155551,
          0.9028623775895905,
          0.6495098773765103,
          0.32258025760696163,
          -0.06137517833323036,
          -0.4717828757630682,
          -0.8640470287063802,
          -1.17954957989182,
          -1.345650220752872,
          -1.2756863914278416,
          -0.868973280759862
         ],
         "type": "scatter",
         "xaxis": "x4",
         "yaxis": "y4"
        },
        {
         "marker": {
          "color": "black",
          "opacity": 0.7
         },
         "mode": "markers",
         "name": "Real Points",
         "showlegend": false,
         "x": [
          -1.2,
          -1.0358974358974358,
          -0.8717948717948718,
          -0.7076923076923076,
          -0.5435897435897435,
          -0.37948717948717947,
          -0.21538461538461529,
          -0.05128205128205132,
          0.11282051282051286,
          0.27692307692307705,
          0.441025641025641,
          0.6051282051282052,
          0.7692307692307694,
          0.9333333333333333,
          1.0974358974358973,
          1.2615384615384617,
          1.4256410256410257,
          1.5897435897435896,
          1.753846153846154,
          1.917948717948718
         ],
         "y": [
          5.8096,
          3.8381753317244733,
          2.522800884051074,
          1.7092797030916282,
          1.2608197821340592,
          1.058034061642376,
          0.9989404292566787,
          0.9989617197931566,
          0.9909257152440888,
          0.9250651447778439,
          0.7690176847388803,
          0.5078259586477458,
          0.14393753720107805,
          -0.3027950617283952,
          -0.7951143730918573,
          -1.278357984664403,
          -1.6804585370450331,
          -1.911943723656666,
          -1.8659362907461214,
          -1.418154037384138
         ],
         "type": "scatter",
         "xaxis": "x5",
         "yaxis": "y5"
        },
        {
         "marker": {
          "color": "red",
          "opacity": 0.7
         },
         "mode": "markers",
         "name": "Observed Points",
         "showlegend": false,
         "x": [
          -1.2,
          -1.0358974358974358,
          -0.8717948717948718,
          -0.7076923076923076,
          -0.5435897435897435,
          -0.37948717948717947,
          -0.21538461538461529,
          -0.05128205128205132,
          0.11282051282051286,
          0.27692307692307705,
          0.441025641025641,
          0.6051282051282052,
          0.7692307692307694,
          0.9333333333333333,
          1.0974358974358973,
          1.2615384615384617,
          1.4256410256410257,
          1.5897435897435896,
          1.753846153846154,
          1.917948717948718
         ],
         "y": [
          6.136403126724,
          6.024996180555291,
          1.1784262498857336,
          1.4774972518899867,
          3.8589952949224466,
          -1.8532935987377657,
          6.520012114377121,
          2.2897882161486915,
          1.3407610400544718,
          0.7428821707335096,
          -1.9467606314788444,
          1.8907372527887127,
          0.2014529025424206,
          1.1768073624440563,
          3.430853396962666,
          1.7277927182378754,
          -1.5339845250006179,
          0.7293452576356119,
          1.2974568199859617,
          0.3319310053612572
         ],
         "type": "scatter",
         "xaxis": "x5",
         "yaxis": "y5"
        },
        {
         "marker": {
          "color": "blue",
          "opacity": 0.7
         },
         "mode": "markers",
         "name": "Predicted Points",
         "showlegend": false,
         "x": [
          -1.2,
          -1.0358974358974358,
          -0.8717948717948718,
          -0.7076923076923076,
          -0.5435897435897435,
          -0.37948717948717947,
          -0.21538461538461529,
          -0.05128205128205132,
          0.11282051282051286,
          0.27692307692307705,
          0.441025641025641,
          0.6051282051282052,
          0.7692307692307694,
          0.9333333333333333,
          1.0974358974358973,
          1.2615384615384617,
          1.4256410256410257,
          1.5897435897435896,
          1.753846153846154,
          1.917948717948718
         ],
         "y": [
          6.001237097209566,
          4.526161134104516,
          3.4281593175684386,
          2.6377338649361377,
          2.0919732951791636,
          1.7345524289058059,
          1.5157323883610947,
          1.3923605974268014,
          1.3278707816214386,
          1.2922829681002594,
          1.2622034856552578,
          1.2208249647151685,
          1.1579263373454678,
          1.0698728372483717,
          0.9596159997628386,
          0.836693661864566,
          0.7172299621659946,
          0.6239353409163031,
          0.5861065400014138,
          0.6396266029439888
         ],
         "type": "scatter",
         "xaxis": "x5",
         "yaxis": "y5"
        },
        {
         "marker": {
          "color": "black",
          "opacity": 0.7
         },
         "mode": "markers",
         "name": "Real Points",
         "showlegend": false,
         "x": [
          -1.2,
          -1.0358974358974358,
          -0.8717948717948718,
          -0.7076923076923076,
          -0.5435897435897435,
          -0.37948717948717947,
          -0.21538461538461529,
          -0.05128205128205132,
          0.11282051282051286,
          0.27692307692307705,
          0.441025641025641,
          0.6051282051282052,
          0.7692307692307694,
          0.9333333333333333,
          1.0974358974358973,
          1.2615384615384617,
          1.4256410256410257,
          1.5897435897435896,
          1.753846153846154,
          1.917948717948718
         ],
         "y": [
          5.8096,
          3.8381753317244733,
          2.522800884051074,
          1.7092797030916282,
          1.2608197821340592,
          1.058034061642376,
          0.9989404292566787,
          0.9989617197931566,
          0.9909257152440888,
          0.9250651447778439,
          0.7690176847388803,
          0.5078259586477458,
          0.14393753720107805,
          -0.3027950617283952,
          -0.7951143730918573,
          -1.278357984664403,
          -1.6804585370450331,
          -1.911943723656666,
          -1.8659362907461214,
          -1.418154037384138
         ],
         "type": "scatter",
         "xaxis": "x6",
         "yaxis": "y6"
        },
        {
         "marker": {
          "color": "red",
          "opacity": 0.7
         },
         "mode": "markers",
         "name": "Observed Points",
         "showlegend": false,
         "x": [
          -1.2,
          -1.0358974358974358,
          -0.8717948717948718,
          -0.7076923076923076,
          -0.5435897435897435,
          -0.37948717948717947,
          -0.21538461538461529,
          -0.05128205128205132,
          0.11282051282051286,
          0.27692307692307705,
          0.441025641025641,
          0.6051282051282052,
          0.7692307692307694,
          0.9333333333333333,
          1.0974358974358973,
          1.2615384615384617,
          1.4256410256410257,
          1.5897435897435896,
          1.753846153846154,
          1.917948717948718
         ],
         "y": [
          9.308098761487102,
          -3.91933622755053,
          3.716485711604734,
          2.1059344263712365,
          9.211003964891825,
          -1.7946077872447315,
          0.9884128412105397,
          -2.8866689455793657,
          5.286607229628696,
          5.376959451618411,
          7.8247650501556,
          11.359184680253147,
          -4.397552395626693,
          6.536625283385648,
          -2.34194998405703,
          -9.116509187345853,
          3.5382925672660877,
          -4.074054241412316,
          3.204867202072372,
          -2.7179482031148927
         ],
         "type": "scatter",
         "xaxis": "x6",
         "yaxis": "y6"
        },
        {
         "marker": {
          "color": "blue",
          "opacity": 0.7
         },
         "mode": "markers",
         "name": "Predicted Points",
         "showlegend": false,
         "x": [
          -1.2,
          -1.0358974358974358,
          -0.8717948717948718,
          -0.7076923076923076,
          -0.5435897435897435,
          -0.37948717948717947,
          -0.21538461538461529,
          -0.05128205128205132,
          0.11282051282051286,
          0.27692307692307705,
          0.441025641025641,
          0.6051282051282052,
          0.7692307692307694,
          0.9333333333333333,
          1.0974358974358973,
          1.2615384615384617,
          1.4256410256410257,
          1.5897435897435896,
          1.753846153846154,
          1.917948717948718
         ],
         "y": [
          6.5241513956716926,
          3.1934671249112654,
          1.4919526661377902,
          0.9749348181726611,
          1.2517099146524417,
          1.9855438240288554,
          2.8936719495687875,
          3.7472992293542786,
          4.371600136282537,
          4.6457186780659265,
          4.502768397231974,
          3.9298323711233656,
          2.967963211897949,
          1.7121830665287359,
          0.31148361680389414,
          -1.031173920673254,
          -2.058858794484209,
          -2.460670718395317,
          -1.871739871357775,
          0.12677310249239326
         ],
         "type": "scatter",
         "xaxis": "x6",
         "yaxis": "y6"
        }
       ],
       "layout": {
        "template": {
         "data": {
          "barpolar": [
           {
            "marker": {
             "line": {
              "color": "white",
              "width": 0.5
             },
             "pattern": {
              "fillmode": "overlay",
              "size": 10,
              "solidity": 0.2
             }
            },
            "type": "barpolar"
           }
          ],
          "bar": [
           {
            "error_x": {
             "color": "rgb(36,36,36)"
            },
            "error_y": {
             "color": "rgb(36,36,36)"
            },
            "marker": {
             "line": {
              "color": "white",
              "width": 0.5
             },
             "pattern": {
              "fillmode": "overlay",
              "size": 10,
              "solidity": 0.2
             }
            },
            "type": "bar"
           }
          ],
          "carpet": [
           {
            "aaxis": {
             "endlinecolor": "rgb(36,36,36)",
             "gridcolor": "white",
             "linecolor": "white",
             "minorgridcolor": "white",
             "startlinecolor": "rgb(36,36,36)"
            },
            "baxis": {
             "endlinecolor": "rgb(36,36,36)",
             "gridcolor": "white",
             "linecolor": "white",
             "minorgridcolor": "white",
             "startlinecolor": "rgb(36,36,36)"
            },
            "type": "carpet"
           }
          ],
          "choropleth": [
           {
            "colorbar": {
             "outlinewidth": 1,
             "tickcolor": "rgb(36,36,36)",
             "ticks": "outside"
            },
            "type": "choropleth"
           }
          ],
          "contourcarpet": [
           {
            "colorbar": {
             "outlinewidth": 1,
             "tickcolor": "rgb(36,36,36)",
             "ticks": "outside"
            },
            "type": "contourcarpet"
           }
          ],
          "contour": [
           {
            "colorbar": {
             "outlinewidth": 1,
             "tickcolor": "rgb(36,36,36)",
             "ticks": "outside"
            },
            "colorscale": [
             [
              0.0,
              "#440154"
             ],
             [
              0.1111111111111111,
              "#482878"
             ],
             [
              0.2222222222222222,
              "#3e4989"
             ],
             [
              0.3333333333333333,
              "#31688e"
             ],
             [
              0.4444444444444444,
              "#26828e"
             ],
             [
              0.5555555555555556,
              "#1f9e89"
             ],
             [
              0.6666666666666666,
              "#35b779"
             ],
             [
              0.7777777777777778,
              "#6ece58"
             ],
             [
              0.8888888888888888,
              "#b5de2b"
             ],
             [
              1.0,
              "#fde725"
             ]
            ],
            "type": "contour"
           }
          ],
          "heatmapgl": [
           {
            "colorbar": {
             "outlinewidth": 1,
             "tickcolor": "rgb(36,36,36)",
             "ticks": "outside"
            },
            "colorscale": [
             [
              0.0,
              "#440154"
             ],
             [
              0.1111111111111111,
              "#482878"
             ],
             [
              0.2222222222222222,
              "#3e4989"
             ],
             [
              0.3333333333333333,
              "#31688e"
             ],
             [
              0.4444444444444444,
              "#26828e"
             ],
             [
              0.5555555555555556,
              "#1f9e89"
             ],
             [
              0.6666666666666666,
              "#35b779"
             ],
             [
              0.7777777777777778,
              "#6ece58"
             ],
             [
              0.8888888888888888,
              "#b5de2b"
             ],
             [
              1.0,
              "#fde725"
             ]
            ],
            "type": "heatmapgl"
           }
          ],
          "heatmap": [
           {
            "colorbar": {
             "outlinewidth": 1,
             "tickcolor": "rgb(36,36,36)",
             "ticks": "outside"
            },
            "colorscale": [
             [
              0.0,
              "#440154"
             ],
             [
              0.1111111111111111,
              "#482878"
             ],
             [
              0.2222222222222222,
              "#3e4989"
             ],
             [
              0.3333333333333333,
              "#31688e"
             ],
             [
              0.4444444444444444,
              "#26828e"
             ],
             [
              0.5555555555555556,
              "#1f9e89"
             ],
             [
              0.6666666666666666,
              "#35b779"
             ],
             [
              0.7777777777777778,
              "#6ece58"
             ],
             [
              0.8888888888888888,
              "#b5de2b"
             ],
             [
              1.0,
              "#fde725"
             ]
            ],
            "type": "heatmap"
           }
          ],
          "histogram2dcontour": [
           {
            "colorbar": {
             "outlinewidth": 1,
             "tickcolor": "rgb(36,36,36)",
             "ticks": "outside"
            },
            "colorscale": [
             [
              0.0,
              "#440154"
             ],
             [
              0.1111111111111111,
              "#482878"
             ],
             [
              0.2222222222222222,
              "#3e4989"
             ],
             [
              0.3333333333333333,
              "#31688e"
             ],
             [
              0.4444444444444444,
              "#26828e"
             ],
             [
              0.5555555555555556,
              "#1f9e89"
             ],
             [
              0.6666666666666666,
              "#35b779"
             ],
             [
              0.7777777777777778,
              "#6ece58"
             ],
             [
              0.8888888888888888,
              "#b5de2b"
             ],
             [
              1.0,
              "#fde725"
             ]
            ],
            "type": "histogram2dcontour"
           }
          ],
          "histogram2d": [
           {
            "colorbar": {
             "outlinewidth": 1,
             "tickcolor": "rgb(36,36,36)",
             "ticks": "outside"
            },
            "colorscale": [
             [
              0.0,
              "#440154"
             ],
             [
              0.1111111111111111,
              "#482878"
             ],
             [
              0.2222222222222222,
              "#3e4989"
             ],
             [
              0.3333333333333333,
              "#31688e"
             ],
             [
              0.4444444444444444,
              "#26828e"
             ],
             [
              0.5555555555555556,
              "#1f9e89"
             ],
             [
              0.6666666666666666,
              "#35b779"
             ],
             [
              0.7777777777777778,
              "#6ece58"
             ],
             [
              0.8888888888888888,
              "#b5de2b"
             ],
             [
              1.0,
              "#fde725"
             ]
            ],
            "type": "histogram2d"
           }
          ],
          "histogram": [
           {
            "marker": {
             "line": {
              "color": "white",
              "width": 0.6
             }
            },
            "type": "histogram"
           }
          ],
          "mesh3d": [
           {
            "colorbar": {
             "outlinewidth": 1,
             "tickcolor": "rgb(36,36,36)",
             "ticks": "outside"
            },
            "type": "mesh3d"
           }
          ],
          "parcoords": [
           {
            "line": {
             "colorbar": {
              "outlinewidth": 1,
              "tickcolor": "rgb(36,36,36)",
              "ticks": "outside"
             }
            },
            "type": "parcoords"
           }
          ],
          "pie": [
           {
            "automargin": true,
            "type": "pie"
           }
          ],
          "scatter3d": [
           {
            "line": {
             "colorbar": {
              "outlinewidth": 1,
              "tickcolor": "rgb(36,36,36)",
              "ticks": "outside"
             }
            },
            "marker": {
             "colorbar": {
              "outlinewidth": 1,
              "tickcolor": "rgb(36,36,36)",
              "ticks": "outside"
             }
            },
            "type": "scatter3d"
           }
          ],
          "scattercarpet": [
           {
            "marker": {
             "colorbar": {
              "outlinewidth": 1,
              "tickcolor": "rgb(36,36,36)",
              "ticks": "outside"
             }
            },
            "type": "scattercarpet"
           }
          ],
          "scattergeo": [
           {
            "marker": {
             "colorbar": {
              "outlinewidth": 1,
              "tickcolor": "rgb(36,36,36)",
              "ticks": "outside"
             }
            },
            "type": "scattergeo"
           }
          ],
          "scattergl": [
           {
            "marker": {
             "colorbar": {
              "outlinewidth": 1,
              "tickcolor": "rgb(36,36,36)",
              "ticks": "outside"
             }
            },
            "type": "scattergl"
           }
          ],
          "scattermapbox": [
           {
            "marker": {
             "colorbar": {
              "outlinewidth": 1,
              "tickcolor": "rgb(36,36,36)",
              "ticks": "outside"
             }
            },
            "type": "scattermapbox"
           }
          ],
          "scatterpolargl": [
           {
            "marker": {
             "colorbar": {
              "outlinewidth": 1,
              "tickcolor": "rgb(36,36,36)",
              "ticks": "outside"
             }
            },
            "type": "scatterpolargl"
           }
          ],
          "scatterpolar": [
           {
            "marker": {
             "colorbar": {
              "outlinewidth": 1,
              "tickcolor": "rgb(36,36,36)",
              "ticks": "outside"
             }
            },
            "type": "scatterpolar"
           }
          ],
          "scatter": [
           {
            "fillpattern": {
             "fillmode": "overlay",
             "size": 10,
             "solidity": 0.2
            },
            "type": "scatter"
           }
          ],
          "scatterternary": [
           {
            "marker": {
             "colorbar": {
              "outlinewidth": 1,
              "tickcolor": "rgb(36,36,36)",
              "ticks": "outside"
             }
            },
            "type": "scatterternary"
           }
          ],
          "surface": [
           {
            "colorbar": {
             "outlinewidth": 1,
             "tickcolor": "rgb(36,36,36)",
             "ticks": "outside"
            },
            "colorscale": [
             [
              0.0,
              "#440154"
             ],
             [
              0.1111111111111111,
              "#482878"
             ],
             [
              0.2222222222222222,
              "#3e4989"
             ],
             [
              0.3333333333333333,
              "#31688e"
             ],
             [
              0.4444444444444444,
              "#26828e"
             ],
             [
              0.5555555555555556,
              "#1f9e89"
             ],
             [
              0.6666666666666666,
              "#35b779"
             ],
             [
              0.7777777777777778,
              "#6ece58"
             ],
             [
              0.8888888888888888,
              "#b5de2b"
             ],
             [
              1.0,
              "#fde725"
             ]
            ],
            "type": "surface"
           }
          ],
          "table": [
           {
            "cells": {
             "fill": {
              "color": "rgb(237,237,237)"
             },
             "line": {
              "color": "white"
             }
            },
            "header": {
             "fill": {
              "color": "rgb(217,217,217)"
             },
             "line": {
              "color": "white"
             }
            },
            "type": "table"
           }
          ]
         },
         "layout": {
          "annotationdefaults": {
           "arrowhead": 0,
           "arrowwidth": 1
          },
          "autotypenumbers": "strict",
          "coloraxis": {
           "colorbar": {
            "outlinewidth": 1,
            "tickcolor": "rgb(36,36,36)",
            "ticks": "outside"
           }
          },
          "colorscale": {
           "diverging": [
            [
             0.0,
             "rgb(103,0,31)"
            ],
            [
             0.1,
             "rgb(178,24,43)"
            ],
            [
             0.2,
             "rgb(214,96,77)"
            ],
            [
             0.3,
             "rgb(244,165,130)"
            ],
            [
             0.4,
             "rgb(253,219,199)"
            ],
            [
             0.5,
             "rgb(247,247,247)"
            ],
            [
             0.6,
             "rgb(209,229,240)"
            ],
            [
             0.7,
             "rgb(146,197,222)"
            ],
            [
             0.8,
             "rgb(67,147,195)"
            ],
            [
             0.9,
             "rgb(33,102,172)"
            ],
            [
             1.0,
             "rgb(5,48,97)"
            ]
           ],
           "sequential": [
            [
             0.0,
             "#440154"
            ],
            [
             0.1111111111111111,
             "#482878"
            ],
            [
             0.2222222222222222,
             "#3e4989"
            ],
            [
             0.3333333333333333,
             "#31688e"
            ],
            [
             0.4444444444444444,
             "#26828e"
            ],
            [
             0.5555555555555556,
             "#1f9e89"
            ],
            [
             0.6666666666666666,
             "#35b779"
            ],
            [
             0.7777777777777778,
             "#6ece58"
            ],
            [
             0.8888888888888888,
             "#b5de2b"
            ],
            [
             1.0,
             "#fde725"
            ]
           ],
           "sequentialminus": [
            [
             0.0,
             "#440154"
            ],
            [
             0.1111111111111111,
             "#482878"
            ],
            [
             0.2222222222222222,
             "#3e4989"
            ],
            [
             0.3333333333333333,
             "#31688e"
            ],
            [
             0.4444444444444444,
             "#26828e"
            ],
            [
             0.5555555555555556,
             "#1f9e89"
            ],
            [
             0.6666666666666666,
             "#35b779"
            ],
            [
             0.7777777777777778,
             "#6ece58"
            ],
            [
             0.8888888888888888,
             "#b5de2b"
            ],
            [
             1.0,
             "#fde725"
            ]
           ]
          },
          "colorway": [
           "#1F77B4",
           "#FF7F0E",
           "#2CA02C",
           "#D62728",
           "#9467BD",
           "#8C564B",
           "#E377C2",
           "#7F7F7F",
           "#BCBD22",
           "#17BECF"
          ],
          "font": {
           "color": "rgb(36,36,36)"
          },
          "geo": {
           "bgcolor": "white",
           "lakecolor": "white",
           "landcolor": "white",
           "showlakes": true,
           "showland": true,
           "subunitcolor": "white"
          },
          "hoverlabel": {
           "align": "left"
          },
          "hovermode": "closest",
          "mapbox": {
           "style": "light"
          },
          "paper_bgcolor": "white",
          "plot_bgcolor": "white",
          "polar": {
           "angularaxis": {
            "gridcolor": "rgb(232,232,232)",
            "linecolor": "rgb(36,36,36)",
            "showgrid": false,
            "showline": true,
            "ticks": "outside"
           },
           "bgcolor": "white",
           "radialaxis": {
            "gridcolor": "rgb(232,232,232)",
            "linecolor": "rgb(36,36,36)",
            "showgrid": false,
            "showline": true,
            "ticks": "outside"
           }
          },
          "scene": {
           "xaxis": {
            "backgroundcolor": "white",
            "gridcolor": "rgb(232,232,232)",
            "gridwidth": 2,
            "linecolor": "rgb(36,36,36)",
            "showbackground": true,
            "showgrid": false,
            "showline": true,
            "ticks": "outside",
            "zeroline": false,
            "zerolinecolor": "rgb(36,36,36)"
           },
           "yaxis": {
            "backgroundcolor": "white",
            "gridcolor": "rgb(232,232,232)",
            "gridwidth": 2,
            "linecolor": "rgb(36,36,36)",
            "showbackground": true,
            "showgrid": false,
            "showline": true,
            "ticks": "outside",
            "zeroline": false,
            "zerolinecolor": "rgb(36,36,36)"
           },
           "zaxis": {
            "backgroundcolor": "white",
            "gridcolor": "rgb(232,232,232)",
            "gridwidth": 2,
            "linecolor": "rgb(36,36,36)",
            "showbackground": true,
            "showgrid": false,
            "showline": true,
            "ticks": "outside",
            "zeroline": false,
            "zerolinecolor": "rgb(36,36,36)"
           }
          },
          "shapedefaults": {
           "fillcolor": "black",
           "line": {
            "width": 0
           },
           "opacity": 0.3
          },
          "ternary": {
           "aaxis": {
            "gridcolor": "rgb(232,232,232)",
            "linecolor": "rgb(36,36,36)",
            "showgrid": false,
            "showline": true,
            "ticks": "outside"
           },
           "baxis": {
            "gridcolor": "rgb(232,232,232)",
            "linecolor": "rgb(36,36,36)",
            "showgrid": false,
            "showline": true,
            "ticks": "outside"
           },
           "bgcolor": "white",
           "caxis": {
            "gridcolor": "rgb(232,232,232)",
            "linecolor": "rgb(36,36,36)",
            "showgrid": false,
            "showline": true,
            "ticks": "outside"
           }
          },
          "title": {
           "x": 0.05
          },
          "xaxis": {
           "automargin": true,
           "gridcolor": "rgb(232,232,232)",
           "linecolor": "rgb(36,36,36)",
           "showgrid": false,
           "showline": true,
           "ticks": "outside",
           "title": {
            "standoff": 15
           },
           "zeroline": false,
           "zerolinecolor": "rgb(36,36,36)"
          },
          "yaxis": {
           "automargin": true,
           "gridcolor": "rgb(232,232,232)",
           "linecolor": "rgb(36,36,36)",
           "showgrid": false,
           "showline": true,
           "ticks": "outside",
           "title": {
            "standoff": 15
           },
           "zeroline": false,
           "zerolinecolor": "rgb(36,36,36)"
          },
          "margin": {
           "b": 0,
           "l": 20,
           "r": 20,
           "t": 40
          }
         }
        },
        "xaxis": {
         "anchor": "y",
         "domain": [
          0.0,
          0.2888888888888889
         ]
        },
        "yaxis": {
         "anchor": "x",
         "domain": [
          0.625,
          1.0
         ]
        },
        "xaxis2": {
         "anchor": "y2",
         "domain": [
          0.35555555555555557,
          0.6444444444444445
         ]
        },
        "yaxis2": {
         "anchor": "x2",
         "domain": [
          0.625,
          1.0
         ]
        },
        "xaxis3": {
         "anchor": "y3",
         "domain": [
          0.7111111111111111,
          1.0
         ]
        },
        "yaxis3": {
         "anchor": "x3",
         "domain": [
          0.625,
          1.0
         ]
        },
        "xaxis4": {
         "anchor": "y4",
         "domain": [
          0.0,
          0.2888888888888889
         ]
        },
        "yaxis4": {
         "anchor": "x4",
         "domain": [
          0.0,
          0.375
         ]
        },
        "xaxis5": {
         "anchor": "y5",
         "domain": [
          0.35555555555555557,
          0.6444444444444445
         ]
        },
        "yaxis5": {
         "anchor": "x5",
         "domain": [
          0.0,
          0.375
         ]
        },
        "xaxis6": {
         "anchor": "y6",
         "domain": [
          0.7111111111111111,
          1.0
         ]
        },
        "yaxis6": {
         "anchor": "x6",
         "domain": [
          0.0,
          0.375
         ]
        },
        "annotations": [
         {
          "font": {
           "size": 16
          },
          "showarrow": false,
          "text": "$\\sigma^2=0, MSE=0.0$",
          "x": 0.14444444444444446,
          "xanchor": "center",
          "xref": "paper",
          "y": 1.0,
          "yanchor": "bottom",
          "yref": "paper"
         },
         {
          "font": {
           "size": 16
          },
          "showarrow": false,
          "text": "$\\sigma^2=1, MSE=0.67$",
          "x": 0.5,
          "xanchor": "center",
          "xref": "paper",
          "y": 1.0,
          "yanchor": "bottom",
          "yref": "paper"
         },
         {
          "font": {
           "size": 16
          },
          "showarrow": false,
          "text": "$\\sigma^2=2, MSE=3.38$",
          "x": 0.8555555555555556,
          "xanchor": "center",
          "xref": "paper",
          "y": 1.0,
          "yanchor": "bottom",
          "yref": "paper"
         },
         {
          "font": {
           "size": 16
          },
          "showarrow": false,
          "text": "$\\sigma^2=3, MSE=4.71$",
          "x": 0.14444444444444446,
          "xanchor": "center",
          "xref": "paper",
          "y": 0.375,
          "yanchor": "bottom",
          "yref": "paper"
         },
         {
          "font": {
           "size": 16
          },
          "showarrow": false,
          "text": "$\\sigma^2=4, MSE=3.75$",
          "x": 0.5,
          "xanchor": "center",
          "xref": "paper",
          "y": 0.375,
          "yanchor": "bottom",
          "yref": "paper"
         },
         {
          "font": {
           "size": 16
          },
          "showarrow": false,
          "text": "$\\sigma^2=5, MSE=23.76$",
          "x": 0.8555555555555556,
          "xanchor": "center",
          "xref": "paper",
          "y": 0.375,
          "yanchor": "bottom",
          "yref": "paper"
         }
        ],
        "margin": {
         "t": 80
        },
        "title": {
         "text": "$\\text{(5) Simulated Data - Different Noise Scales}$"
        }
       },
       "config": {
        "plotlyServerURL": "https://plot.ly"
       }
      },
      "text/html": "<div>                            <div id=\"29a550cf-e197-43f1-9cc5-5ab16495f6cd\" class=\"plotly-graph-div\" style=\"height:525px; width:100%;\"></div>            <script type=\"text/javascript\">                require([\"plotly\"], function(Plotly) {                    window.PLOTLYENV=window.PLOTLYENV || {};                                    if (document.getElementById(\"29a550cf-e197-43f1-9cc5-5ab16495f6cd\")) {                    Plotly.newPlot(                        \"29a550cf-e197-43f1-9cc5-5ab16495f6cd\",                        [{\"marker\":{\"color\":\"black\",\"opacity\":0.7},\"mode\":\"markers\",\"name\":\"Real Points\",\"showlegend\":false,\"x\":[-1.2,-1.0358974358974358,-0.8717948717948718,-0.7076923076923076,-0.5435897435897435,-0.37948717948717947,-0.21538461538461529,-0.05128205128205132,0.11282051282051286,0.27692307692307705,0.441025641025641,0.6051282051282052,0.7692307692307694,0.9333333333333333,1.0974358974358973,1.2615384615384617,1.4256410256410257,1.5897435897435896,1.753846153846154,1.917948717948718],\"y\":[5.8096,3.8381753317244733,2.522800884051074,1.7092797030916282,1.2608197821340592,1.058034061642376,0.9989404292566787,0.9989617197931566,0.9909257152440888,0.9250651447778439,0.7690176847388803,0.5078259586477458,0.14393753720107805,-0.3027950617283952,-0.7951143730918573,-1.278357984664403,-1.6804585370450331,-1.911943723656666,-1.8659362907461214,-1.418154037384138],\"type\":\"scatter\",\"xaxis\":\"x\",\"yaxis\":\"y\"},{\"marker\":{\"color\":\"red\",\"opacity\":0.7},\"mode\":\"markers\",\"name\":\"Observed Points\",\"showlegend\":false,\"x\":[-1.2,-1.0358974358974358,-0.8717948717948718,-0.7076923076923076,-0.5435897435897435,-0.37948717948717947,-0.21538461538461529,-0.05128205128205132,0.11282051282051286,0.27692307692307705,0.441025641025641,0.6051282051282052,0.7692307692307694,0.9333333333333333,1.0974358974358973,1.2615384615384617,1.4256410256410257,1.5897435897435896,1.753846153846154,1.917948717948718],\"y\":[5.8096,3.8381753317244733,2.522800884051074,1.7092797030916282,1.2608197821340592,1.058034061642376,0.9989404292566787,0.9989617197931566,0.9909257152440888,0.9250651447778439,0.7690176847388803,0.5078259586477458,0.14393753720107805,-0.3027950617283952,-0.7951143730918573,-1.278357984664403,-1.6804585370450331,-1.911943723656666,-1.8659362907461214,-1.418154037384138],\"type\":\"scatter\",\"xaxis\":\"x\",\"yaxis\":\"y\"},{\"marker\":{\"color\":\"blue\",\"opacity\":0.7},\"mode\":\"markers\",\"name\":\"Predicted Points\",\"showlegend\":false,\"x\":[-1.2,-1.0358974358974358,-0.8717948717948718,-0.7076923076923076,-0.5435897435897435,-0.37948717948717947,-0.21538461538461529,-0.05128205128205132,0.11282051282051286,0.27692307692307705,0.441025641025641,0.6051282051282052,0.7692307692307694,0.9333333333333333,1.0974358974358973,1.2615384615384617,1.4256410256410257,1.5897435897435896,1.753846153846154,1.917948717948718],\"y\":[5.8096,3.8381753317244733,2.5228008840510743,1.7092797030916294,1.2608197821340605,1.0580340616423776,0.9989404292566803,0.9989617197931581,0.9909257152440905,0.9250651447778455,0.769017684738882,0.5078259586477474,0.1439375372010796,-0.3027950617283939,-0.795114373091856,-1.2783579846644018,-1.6804585370450331,-1.911943723656666,-1.8659362907461254,-1.4181540373841433],\"type\":\"scatter\",\"xaxis\":\"x\",\"yaxis\":\"y\"},{\"marker\":{\"color\":\"black\",\"opacity\":0.7},\"mode\":\"markers\",\"name\":\"Real Points\",\"showlegend\":false,\"x\":[-1.2,-1.0358974358974358,-0.8717948717948718,-0.7076923076923076,-0.5435897435897435,-0.37948717948717947,-0.21538461538461529,-0.05128205128205132,0.11282051282051286,0.27692307692307705,0.441025641025641,0.6051282051282052,0.7692307692307694,0.9333333333333333,1.0974358974358973,1.2615384615384617,1.4256410256410257,1.5897435897435896,1.753846153846154,1.917948717948718],\"y\":[5.8096,3.8381753317244733,2.522800884051074,1.7092797030916282,1.2608197821340592,1.058034061642376,0.9989404292566787,0.9989617197931566,0.9909257152440888,0.9250651447778439,0.7690176847388803,0.5078259586477458,0.14393753720107805,-0.3027950617283952,-0.7951143730918573,-1.278357984664403,-1.6804585370450331,-1.911943723656666,-1.8659362907461214,-1.418154037384138],\"type\":\"scatter\",\"xaxis\":\"x2\",\"yaxis\":\"y2\"},{\"marker\":{\"color\":\"red\",\"opacity\":0.7},\"mode\":\"markers\",\"name\":\"Observed Points\",\"showlegend\":false,\"x\":[-1.2,-1.0358974358974358,-0.8717948717948718,-0.7076923076923076,-0.5435897435897435,-0.37948717948717947,-0.21538461538461529,-0.05128205128205132,0.11282051282051286,0.27692307692307705,0.441025641025641,0.6051282051282052,0.7692307692307694,0.9333333333333333,1.0974358974358973,1.2615384615384617,1.4256410256410257,1.5897435897435896,1.753846153846154,1.917948717948718],\"y\":[5.592966634840701,3.3950483209364335,0.4975622409138105,1.9887162989449392,-0.447204447960041,0.37415655426530714,1.3566279851974277,0.6118326088979744,0.1939860066624336,-1.0686347698809682,1.1652501655923357,1.8844391100102307,0.38425797345742496,-1.192839565810997,0.13000951951366302,-0.970475261190407,-1.5996617304268912,-2.222191592457783,-4.112875520597102,-2.7929956676362924],\"type\":\"scatter\",\"xaxis\":\"x2\",\"yaxis\":\"y2\"},{\"marker\":{\"color\":\"blue\",\"opacity\":0.7},\"mode\":\"markers\",\"name\":\"Predicted Points\",\"showlegend\":false,\"x\":[-1.2,-1.0358974358974358,-0.8717948717948718,-0.7076923076923076,-0.5435897435897435,-0.37948717948717947,-0.21538461538461529,-0.05128205128205132,0.11282051282051286,0.27692307692307705,0.441025641025641,0.6051282051282052,0.7692307692307694,0.9333333333333333,1.0974358974358973,1.2615384615384617,1.4256410256410257,1.5897435897435896,1.753846153846154,1.917948717948718],\"y\":[5.451318397792938,3.1997362066412576,1.7060741292865127,0.8055866212599302,0.35004680788434134,0.20774648427416936,0.2634961153354356,0.41862483576575743,0.5909804500543492,0.7149294324820211,0.7413569271211803,0.6376667478358301,0.3877813782815702,-0.007858028094402503,-0.5322916480532935,-1.1520409885647185,-1.8171088868066851,-2.4609795101656147,-3.0006183562363287,-3.3364722528220483],\"type\":\"scatter\",\"xaxis\":\"x2\",\"yaxis\":\"y2\"},{\"marker\":{\"color\":\"black\",\"opacity\":0.7},\"mode\":\"markers\",\"name\":\"Real Points\",\"showlegend\":false,\"x\":[-1.2,-1.0358974358974358,-0.8717948717948718,-0.7076923076923076,-0.5435897435897435,-0.37948717948717947,-0.21538461538461529,-0.05128205128205132,0.11282051282051286,0.27692307692307705,0.441025641025641,0.6051282051282052,0.7692307692307694,0.9333333333333333,1.0974358974358973,1.2615384615384617,1.4256410256410257,1.5897435897435896,1.753846153846154,1.917948717948718],\"y\":[5.8096,3.8381753317244733,2.522800884051074,1.7092797030916282,1.2608197821340592,1.058034061642376,0.9989404292566787,0.9989617197931566,0.9909257152440888,0.9250651447778439,0.7690176847388803,0.5078259586477458,0.14393753720107805,-0.3027950617283952,-0.7951143730918573,-1.278357984664403,-1.6804585370450331,-1.911943723656666,-1.8659362907461214,-1.418154037384138],\"type\":\"scatter\",\"xaxis\":\"x3\",\"yaxis\":\"y3\"},{\"marker\":{\"color\":\"red\",\"opacity\":0.7},\"mode\":\"markers\",\"name\":\"Observed Points\",\"showlegend\":false,\"x\":[-1.2,-1.0358974358974358,-0.8717948717948718,-0.7076923076923076,-0.5435897435897435,-0.37948717948717947,-0.21538461538461529,-0.05128205128205132,0.11282051282051286,0.27692307692307705,0.441025641025641,0.6051282051282052,0.7692307692307694,0.9333333333333333,1.0974358974358973,1.2615384615384617,1.4256410256410257,1.5897435897435896,1.753846153846154,1.917948717948718],\"y\":[4.456716753106322,2.807048838881048,3.806825061226515,4.961987851852257,0.35422972813640663,-1.373977909831191,3.354895612666022,-0.19140647656246657,-1.1689099804451946,-0.30026865902124056,-1.2431050452807406,2.8238191163416575,1.2247110526169196,1.1562962119786115,0.14551619733465126,-0.9168432504752897,-0.9756053088495931,-5.728888688268615,-1.205385897831506,0.8684649214236155],\"type\":\"scatter\",\"xaxis\":\"x3\",\"yaxis\":\"y3\"},{\"marker\":{\"color\":\"blue\",\"opacity\":0.7},\"mode\":\"markers\",\"name\":\"Predicted Points\",\"showlegend\":false,\"x\":[-1.2,-1.0358974358974358,-0.8717948717948718,-0.7076923076923076,-0.5435897435897435,-0.37948717948717947,-0.21538461538461529,-0.05128205128205132,0.11282051282051286,0.27692307692307705,0.441025641025641,0.6051282051282052,0.7692307692307694,0.9333333333333333,1.0974358974358973,1.2615384615384617,1.4256410256410257,1.5897435897435896,1.753846153846154,1.917948717948718],\"y\":[5.183796524804375,3.615627649883601,2.5273200954662967,1.808853781264861,1.3626659063703965,1.1036509492526976,0.9591606677602574,0.8690040991202655,0.7854475599386076,0.6732146461998665,0.5094862332673218,0.283900475882949,-0.001447191832578798,-0.33200405637989205,-0.6807601248809245,-1.0082481250789148,-1.2625435053384022,-1.379264434645231,-1.281571802606548,-0.8801692194508046],\"type\":\"scatter\",\"xaxis\":\"x3\",\"yaxis\":\"y3\"},{\"marker\":{\"color\":\"black\",\"opacity\":0.7},\"mode\":\"markers\",\"name\":\"Real Points\",\"showlegend\":false,\"x\":[-1.2,-1.0358974358974358,-0.8717948717948718,-0.7076923076923076,-0.5435897435897435,-0.37948717948717947,-0.21538461538461529,-0.05128205128205132,0.11282051282051286,0.27692307692307705,0.441025641025641,0.6051282051282052,0.7692307692307694,0.9333333333333333,1.0974358974358973,1.2615384615384617,1.4256410256410257,1.5897435897435896,1.753846153846154,1.917948717948718],\"y\":[5.8096,3.8381753317244733,2.522800884051074,1.7092797030916282,1.2608197821340592,1.058034061642376,0.9989404292566787,0.9989617197931566,0.9909257152440888,0.9250651447778439,0.7690176847388803,0.5078259586477458,0.14393753720107805,-0.3027950617283952,-0.7951143730918573,-1.278357984664403,-1.6804585370450331,-1.911943723656666,-1.8659362907461214,-1.418154037384138],\"type\":\"scatter\",\"xaxis\":\"x4\",\"yaxis\":\"y4\"},{\"marker\":{\"color\":\"red\",\"opacity\":0.7},\"mode\":\"markers\",\"name\":\"Observed Points\",\"showlegend\":false,\"x\":[-1.2,-1.0358974358974358,-0.8717948717948718,-0.7076923076923076,-0.5435897435897435,-0.37948717948717947,-0.21538461538461529,-0.05128205128205132,0.11282051282051286,0.27692307692307705,0.441025641025641,0.6051282051282052,0.7692307692307694,0.9333333333333333,1.0974358974358973,1.2615384615384617,1.4256410256410257,1.5897435897435896,1.753846153846154,1.917948717948718],\"y\":[5.6236459291738905,5.423230736184172,-0.9217301081262419,6.655163840851474,0.39044414242055936,1.2239836648759588,0.09150089717161103,1.1672059499281353,1.2860832260967503,3.107010192700404,2.9264881276392467,-1.7134039066400868,-1.9935429000988982,-0.8024908582980708,1.4930659750517785,-0.049592788377457175,1.3052183070241803,-5.904152416935073,0.4243228480503638,-0.9101527444900757],\"type\":\"scatter\",\"xaxis\":\"x4\",\"yaxis\":\"y4\"},{\"marker\":{\"color\":\"blue\",\"opacity\":0.7},\"mode\":\"markers\",\"name\":\"Predicted Points\",\"showlegend\":false,\"x\":[-1.2,-1.0358974358974358,-0.8717948717948718,-0.7076923076923076,-0.5435897435897435,-0.37948717948717947,-0.21538461538461529,-0.05128205128205132,0.11282051282051286,0.27692307692307705,0.441025641025641,0.6051282051282052,0.7692307692307694,0.9333333333333333,1.0974358974358973,1.2615384615384617,1.4256410256410257,1.5897435897435896,1.753846153846154,1.917948717948718],\"y\":[5.774268735282147,4.082113831915968,2.9220925963696107,2.1705338190771633,1.717788541767892,1.4682300574662335,1.3402539104917988,1.2662778964593728,1.1927420622789129,1.080108706155551,0.9028623775895905,0.6495098773765103,0.32258025760696163,-0.06137517833323036,-0.4717828757630682,-0.8640470287063802,-1.17954957989182,-1.345650220752872,-1.2756863914278416,-0.868973280759862],\"type\":\"scatter\",\"xaxis\":\"x4\",\"yaxis\":\"y4\"},{\"marker\":{\"color\":\"black\",\"opacity\":0.7},\"mode\":\"markers\",\"name\":\"Real Points\",\"showlegend\":false,\"x\":[-1.2,-1.0358974358974358,-0.8717948717948718,-0.7076923076923076,-0.5435897435897435,-0.37948717948717947,-0.21538461538461529,-0.05128205128205132,0.11282051282051286,0.27692307692307705,0.441025641025641,0.6051282051282052,0.7692307692307694,0.9333333333333333,1.0974358974358973,1.2615384615384617,1.4256410256410257,1.5897435897435896,1.753846153846154,1.917948717948718],\"y\":[5.8096,3.8381753317244733,2.522800884051074,1.7092797030916282,1.2608197821340592,1.058034061642376,0.9989404292566787,0.9989617197931566,0.9909257152440888,0.9250651447778439,0.7690176847388803,0.5078259586477458,0.14393753720107805,-0.3027950617283952,-0.7951143730918573,-1.278357984664403,-1.6804585370450331,-1.911943723656666,-1.8659362907461214,-1.418154037384138],\"type\":\"scatter\",\"xaxis\":\"x5\",\"yaxis\":\"y5\"},{\"marker\":{\"color\":\"red\",\"opacity\":0.7},\"mode\":\"markers\",\"name\":\"Observed Points\",\"showlegend\":false,\"x\":[-1.2,-1.0358974358974358,-0.8717948717948718,-0.7076923076923076,-0.5435897435897435,-0.37948717948717947,-0.21538461538461529,-0.05128205128205132,0.11282051282051286,0.27692307692307705,0.441025641025641,0.6051282051282052,0.7692307692307694,0.9333333333333333,1.0974358974358973,1.2615384615384617,1.4256410256410257,1.5897435897435896,1.753846153846154,1.917948717948718],\"y\":[6.136403126724,6.024996180555291,1.1784262498857336,1.4774972518899867,3.8589952949224466,-1.8532935987377657,6.520012114377121,2.2897882161486915,1.3407610400544718,0.7428821707335096,-1.9467606314788444,1.8907372527887127,0.2014529025424206,1.1768073624440563,3.430853396962666,1.7277927182378754,-1.5339845250006179,0.7293452576356119,1.2974568199859617,0.3319310053612572],\"type\":\"scatter\",\"xaxis\":\"x5\",\"yaxis\":\"y5\"},{\"marker\":{\"color\":\"blue\",\"opacity\":0.7},\"mode\":\"markers\",\"name\":\"Predicted Points\",\"showlegend\":false,\"x\":[-1.2,-1.0358974358974358,-0.8717948717948718,-0.7076923076923076,-0.5435897435897435,-0.37948717948717947,-0.21538461538461529,-0.05128205128205132,0.11282051282051286,0.27692307692307705,0.441025641025641,0.6051282051282052,0.7692307692307694,0.9333333333333333,1.0974358974358973,1.2615384615384617,1.4256410256410257,1.5897435897435896,1.753846153846154,1.917948717948718],\"y\":[6.001237097209566,4.526161134104516,3.4281593175684386,2.6377338649361377,2.0919732951791636,1.7345524289058059,1.5157323883610947,1.3923605974268014,1.3278707816214386,1.2922829681002594,1.2622034856552578,1.2208249647151685,1.1579263373454678,1.0698728372483717,0.9596159997628386,0.836693661864566,0.7172299621659946,0.6239353409163031,0.5861065400014138,0.6396266029439888],\"type\":\"scatter\",\"xaxis\":\"x5\",\"yaxis\":\"y5\"},{\"marker\":{\"color\":\"black\",\"opacity\":0.7},\"mode\":\"markers\",\"name\":\"Real Points\",\"showlegend\":false,\"x\":[-1.2,-1.0358974358974358,-0.8717948717948718,-0.7076923076923076,-0.5435897435897435,-0.37948717948717947,-0.21538461538461529,-0.05128205128205132,0.11282051282051286,0.27692307692307705,0.441025641025641,0.6051282051282052,0.7692307692307694,0.9333333333333333,1.0974358974358973,1.2615384615384617,1.4256410256410257,1.5897435897435896,1.753846153846154,1.917948717948718],\"y\":[5.8096,3.8381753317244733,2.522800884051074,1.7092797030916282,1.2608197821340592,1.058034061642376,0.9989404292566787,0.9989617197931566,0.9909257152440888,0.9250651447778439,0.7690176847388803,0.5078259586477458,0.14393753720107805,-0.3027950617283952,-0.7951143730918573,-1.278357984664403,-1.6804585370450331,-1.911943723656666,-1.8659362907461214,-1.418154037384138],\"type\":\"scatter\",\"xaxis\":\"x6\",\"yaxis\":\"y6\"},{\"marker\":{\"color\":\"red\",\"opacity\":0.7},\"mode\":\"markers\",\"name\":\"Observed Points\",\"showlegend\":false,\"x\":[-1.2,-1.0358974358974358,-0.8717948717948718,-0.7076923076923076,-0.5435897435897435,-0.37948717948717947,-0.21538461538461529,-0.05128205128205132,0.11282051282051286,0.27692307692307705,0.441025641025641,0.6051282051282052,0.7692307692307694,0.9333333333333333,1.0974358974358973,1.2615384615384617,1.4256410256410257,1.5897435897435896,1.753846153846154,1.917948717948718],\"y\":[9.308098761487102,-3.91933622755053,3.716485711604734,2.1059344263712365,9.211003964891825,-1.7946077872447315,0.9884128412105397,-2.8866689455793657,5.286607229628696,5.376959451618411,7.8247650501556,11.359184680253147,-4.397552395626693,6.536625283385648,-2.34194998405703,-9.116509187345853,3.5382925672660877,-4.074054241412316,3.204867202072372,-2.7179482031148927],\"type\":\"scatter\",\"xaxis\":\"x6\",\"yaxis\":\"y6\"},{\"marker\":{\"color\":\"blue\",\"opacity\":0.7},\"mode\":\"markers\",\"name\":\"Predicted Points\",\"showlegend\":false,\"x\":[-1.2,-1.0358974358974358,-0.8717948717948718,-0.7076923076923076,-0.5435897435897435,-0.37948717948717947,-0.21538461538461529,-0.05128205128205132,0.11282051282051286,0.27692307692307705,0.441025641025641,0.6051282051282052,0.7692307692307694,0.9333333333333333,1.0974358974358973,1.2615384615384617,1.4256410256410257,1.5897435897435896,1.753846153846154,1.917948717948718],\"y\":[6.5241513956716926,3.1934671249112654,1.4919526661377902,0.9749348181726611,1.2517099146524417,1.9855438240288554,2.8936719495687875,3.7472992293542786,4.371600136282537,4.6457186780659265,4.502768397231974,3.9298323711233656,2.967963211897949,1.7121830665287359,0.31148361680389414,-1.031173920673254,-2.058858794484209,-2.460670718395317,-1.871739871357775,0.12677310249239326],\"type\":\"scatter\",\"xaxis\":\"x6\",\"yaxis\":\"y6\"}],                        {\"template\":{\"data\":{\"barpolar\":[{\"marker\":{\"line\":{\"color\":\"white\",\"width\":0.5},\"pattern\":{\"fillmode\":\"overlay\",\"size\":10,\"solidity\":0.2}},\"type\":\"barpolar\"}],\"bar\":[{\"error_x\":{\"color\":\"rgb(36,36,36)\"},\"error_y\":{\"color\":\"rgb(36,36,36)\"},\"marker\":{\"line\":{\"color\":\"white\",\"width\":0.5},\"pattern\":{\"fillmode\":\"overlay\",\"size\":10,\"solidity\":0.2}},\"type\":\"bar\"}],\"carpet\":[{\"aaxis\":{\"endlinecolor\":\"rgb(36,36,36)\",\"gridcolor\":\"white\",\"linecolor\":\"white\",\"minorgridcolor\":\"white\",\"startlinecolor\":\"rgb(36,36,36)\"},\"baxis\":{\"endlinecolor\":\"rgb(36,36,36)\",\"gridcolor\":\"white\",\"linecolor\":\"white\",\"minorgridcolor\":\"white\",\"startlinecolor\":\"rgb(36,36,36)\"},\"type\":\"carpet\"}],\"choropleth\":[{\"colorbar\":{\"outlinewidth\":1,\"tickcolor\":\"rgb(36,36,36)\",\"ticks\":\"outside\"},\"type\":\"choropleth\"}],\"contourcarpet\":[{\"colorbar\":{\"outlinewidth\":1,\"tickcolor\":\"rgb(36,36,36)\",\"ticks\":\"outside\"},\"type\":\"contourcarpet\"}],\"contour\":[{\"colorbar\":{\"outlinewidth\":1,\"tickcolor\":\"rgb(36,36,36)\",\"ticks\":\"outside\"},\"colorscale\":[[0.0,\"#440154\"],[0.1111111111111111,\"#482878\"],[0.2222222222222222,\"#3e4989\"],[0.3333333333333333,\"#31688e\"],[0.4444444444444444,\"#26828e\"],[0.5555555555555556,\"#1f9e89\"],[0.6666666666666666,\"#35b779\"],[0.7777777777777778,\"#6ece58\"],[0.8888888888888888,\"#b5de2b\"],[1.0,\"#fde725\"]],\"type\":\"contour\"}],\"heatmapgl\":[{\"colorbar\":{\"outlinewidth\":1,\"tickcolor\":\"rgb(36,36,36)\",\"ticks\":\"outside\"},\"colorscale\":[[0.0,\"#440154\"],[0.1111111111111111,\"#482878\"],[0.2222222222222222,\"#3e4989\"],[0.3333333333333333,\"#31688e\"],[0.4444444444444444,\"#26828e\"],[0.5555555555555556,\"#1f9e89\"],[0.6666666666666666,\"#35b779\"],[0.7777777777777778,\"#6ece58\"],[0.8888888888888888,\"#b5de2b\"],[1.0,\"#fde725\"]],\"type\":\"heatmapgl\"}],\"heatmap\":[{\"colorbar\":{\"outlinewidth\":1,\"tickcolor\":\"rgb(36,36,36)\",\"ticks\":\"outside\"},\"colorscale\":[[0.0,\"#440154\"],[0.1111111111111111,\"#482878\"],[0.2222222222222222,\"#3e4989\"],[0.3333333333333333,\"#31688e\"],[0.4444444444444444,\"#26828e\"],[0.5555555555555556,\"#1f9e89\"],[0.6666666666666666,\"#35b779\"],[0.7777777777777778,\"#6ece58\"],[0.8888888888888888,\"#b5de2b\"],[1.0,\"#fde725\"]],\"type\":\"heatmap\"}],\"histogram2dcontour\":[{\"colorbar\":{\"outlinewidth\":1,\"tickcolor\":\"rgb(36,36,36)\",\"ticks\":\"outside\"},\"colorscale\":[[0.0,\"#440154\"],[0.1111111111111111,\"#482878\"],[0.2222222222222222,\"#3e4989\"],[0.3333333333333333,\"#31688e\"],[0.4444444444444444,\"#26828e\"],[0.5555555555555556,\"#1f9e89\"],[0.6666666666666666,\"#35b779\"],[0.7777777777777778,\"#6ece58\"],[0.8888888888888888,\"#b5de2b\"],[1.0,\"#fde725\"]],\"type\":\"histogram2dcontour\"}],\"histogram2d\":[{\"colorbar\":{\"outlinewidth\":1,\"tickcolor\":\"rgb(36,36,36)\",\"ticks\":\"outside\"},\"colorscale\":[[0.0,\"#440154\"],[0.1111111111111111,\"#482878\"],[0.2222222222222222,\"#3e4989\"],[0.3333333333333333,\"#31688e\"],[0.4444444444444444,\"#26828e\"],[0.5555555555555556,\"#1f9e89\"],[0.6666666666666666,\"#35b779\"],[0.7777777777777778,\"#6ece58\"],[0.8888888888888888,\"#b5de2b\"],[1.0,\"#fde725\"]],\"type\":\"histogram2d\"}],\"histogram\":[{\"marker\":{\"line\":{\"color\":\"white\",\"width\":0.6}},\"type\":\"histogram\"}],\"mesh3d\":[{\"colorbar\":{\"outlinewidth\":1,\"tickcolor\":\"rgb(36,36,36)\",\"ticks\":\"outside\"},\"type\":\"mesh3d\"}],\"parcoords\":[{\"line\":{\"colorbar\":{\"outlinewidth\":1,\"tickcolor\":\"rgb(36,36,36)\",\"ticks\":\"outside\"}},\"type\":\"parcoords\"}],\"pie\":[{\"automargin\":true,\"type\":\"pie\"}],\"scatter3d\":[{\"line\":{\"colorbar\":{\"outlinewidth\":1,\"tickcolor\":\"rgb(36,36,36)\",\"ticks\":\"outside\"}},\"marker\":{\"colorbar\":{\"outlinewidth\":1,\"tickcolor\":\"rgb(36,36,36)\",\"ticks\":\"outside\"}},\"type\":\"scatter3d\"}],\"scattercarpet\":[{\"marker\":{\"colorbar\":{\"outlinewidth\":1,\"tickcolor\":\"rgb(36,36,36)\",\"ticks\":\"outside\"}},\"type\":\"scattercarpet\"}],\"scattergeo\":[{\"marker\":{\"colorbar\":{\"outlinewidth\":1,\"tickcolor\":\"rgb(36,36,36)\",\"ticks\":\"outside\"}},\"type\":\"scattergeo\"}],\"scattergl\":[{\"marker\":{\"colorbar\":{\"outlinewidth\":1,\"tickcolor\":\"rgb(36,36,36)\",\"ticks\":\"outside\"}},\"type\":\"scattergl\"}],\"scattermapbox\":[{\"marker\":{\"colorbar\":{\"outlinewidth\":1,\"tickcolor\":\"rgb(36,36,36)\",\"ticks\":\"outside\"}},\"type\":\"scattermapbox\"}],\"scatterpolargl\":[{\"marker\":{\"colorbar\":{\"outlinewidth\":1,\"tickcolor\":\"rgb(36,36,36)\",\"ticks\":\"outside\"}},\"type\":\"scatterpolargl\"}],\"scatterpolar\":[{\"marker\":{\"colorbar\":{\"outlinewidth\":1,\"tickcolor\":\"rgb(36,36,36)\",\"ticks\":\"outside\"}},\"type\":\"scatterpolar\"}],\"scatter\":[{\"fillpattern\":{\"fillmode\":\"overlay\",\"size\":10,\"solidity\":0.2},\"type\":\"scatter\"}],\"scatterternary\":[{\"marker\":{\"colorbar\":{\"outlinewidth\":1,\"tickcolor\":\"rgb(36,36,36)\",\"ticks\":\"outside\"}},\"type\":\"scatterternary\"}],\"surface\":[{\"colorbar\":{\"outlinewidth\":1,\"tickcolor\":\"rgb(36,36,36)\",\"ticks\":\"outside\"},\"colorscale\":[[0.0,\"#440154\"],[0.1111111111111111,\"#482878\"],[0.2222222222222222,\"#3e4989\"],[0.3333333333333333,\"#31688e\"],[0.4444444444444444,\"#26828e\"],[0.5555555555555556,\"#1f9e89\"],[0.6666666666666666,\"#35b779\"],[0.7777777777777778,\"#6ece58\"],[0.8888888888888888,\"#b5de2b\"],[1.0,\"#fde725\"]],\"type\":\"surface\"}],\"table\":[{\"cells\":{\"fill\":{\"color\":\"rgb(237,237,237)\"},\"line\":{\"color\":\"white\"}},\"header\":{\"fill\":{\"color\":\"rgb(217,217,217)\"},\"line\":{\"color\":\"white\"}},\"type\":\"table\"}]},\"layout\":{\"annotationdefaults\":{\"arrowhead\":0,\"arrowwidth\":1},\"autotypenumbers\":\"strict\",\"coloraxis\":{\"colorbar\":{\"outlinewidth\":1,\"tickcolor\":\"rgb(36,36,36)\",\"ticks\":\"outside\"}},\"colorscale\":{\"diverging\":[[0.0,\"rgb(103,0,31)\"],[0.1,\"rgb(178,24,43)\"],[0.2,\"rgb(214,96,77)\"],[0.3,\"rgb(244,165,130)\"],[0.4,\"rgb(253,219,199)\"],[0.5,\"rgb(247,247,247)\"],[0.6,\"rgb(209,229,240)\"],[0.7,\"rgb(146,197,222)\"],[0.8,\"rgb(67,147,195)\"],[0.9,\"rgb(33,102,172)\"],[1.0,\"rgb(5,48,97)\"]],\"sequential\":[[0.0,\"#440154\"],[0.1111111111111111,\"#482878\"],[0.2222222222222222,\"#3e4989\"],[0.3333333333333333,\"#31688e\"],[0.4444444444444444,\"#26828e\"],[0.5555555555555556,\"#1f9e89\"],[0.6666666666666666,\"#35b779\"],[0.7777777777777778,\"#6ece58\"],[0.8888888888888888,\"#b5de2b\"],[1.0,\"#fde725\"]],\"sequentialminus\":[[0.0,\"#440154\"],[0.1111111111111111,\"#482878\"],[0.2222222222222222,\"#3e4989\"],[0.3333333333333333,\"#31688e\"],[0.4444444444444444,\"#26828e\"],[0.5555555555555556,\"#1f9e89\"],[0.6666666666666666,\"#35b779\"],[0.7777777777777778,\"#6ece58\"],[0.8888888888888888,\"#b5de2b\"],[1.0,\"#fde725\"]]},\"colorway\":[\"#1F77B4\",\"#FF7F0E\",\"#2CA02C\",\"#D62728\",\"#9467BD\",\"#8C564B\",\"#E377C2\",\"#7F7F7F\",\"#BCBD22\",\"#17BECF\"],\"font\":{\"color\":\"rgb(36,36,36)\"},\"geo\":{\"bgcolor\":\"white\",\"lakecolor\":\"white\",\"landcolor\":\"white\",\"showlakes\":true,\"showland\":true,\"subunitcolor\":\"white\"},\"hoverlabel\":{\"align\":\"left\"},\"hovermode\":\"closest\",\"mapbox\":{\"style\":\"light\"},\"paper_bgcolor\":\"white\",\"plot_bgcolor\":\"white\",\"polar\":{\"angularaxis\":{\"gridcolor\":\"rgb(232,232,232)\",\"linecolor\":\"rgb(36,36,36)\",\"showgrid\":false,\"showline\":true,\"ticks\":\"outside\"},\"bgcolor\":\"white\",\"radialaxis\":{\"gridcolor\":\"rgb(232,232,232)\",\"linecolor\":\"rgb(36,36,36)\",\"showgrid\":false,\"showline\":true,\"ticks\":\"outside\"}},\"scene\":{\"xaxis\":{\"backgroundcolor\":\"white\",\"gridcolor\":\"rgb(232,232,232)\",\"gridwidth\":2,\"linecolor\":\"rgb(36,36,36)\",\"showbackground\":true,\"showgrid\":false,\"showline\":true,\"ticks\":\"outside\",\"zeroline\":false,\"zerolinecolor\":\"rgb(36,36,36)\"},\"yaxis\":{\"backgroundcolor\":\"white\",\"gridcolor\":\"rgb(232,232,232)\",\"gridwidth\":2,\"linecolor\":\"rgb(36,36,36)\",\"showbackground\":true,\"showgrid\":false,\"showline\":true,\"ticks\":\"outside\",\"zeroline\":false,\"zerolinecolor\":\"rgb(36,36,36)\"},\"zaxis\":{\"backgroundcolor\":\"white\",\"gridcolor\":\"rgb(232,232,232)\",\"gridwidth\":2,\"linecolor\":\"rgb(36,36,36)\",\"showbackground\":true,\"showgrid\":false,\"showline\":true,\"ticks\":\"outside\",\"zeroline\":false,\"zerolinecolor\":\"rgb(36,36,36)\"}},\"shapedefaults\":{\"fillcolor\":\"black\",\"line\":{\"width\":0},\"opacity\":0.3},\"ternary\":{\"aaxis\":{\"gridcolor\":\"rgb(232,232,232)\",\"linecolor\":\"rgb(36,36,36)\",\"showgrid\":false,\"showline\":true,\"ticks\":\"outside\"},\"baxis\":{\"gridcolor\":\"rgb(232,232,232)\",\"linecolor\":\"rgb(36,36,36)\",\"showgrid\":false,\"showline\":true,\"ticks\":\"outside\"},\"bgcolor\":\"white\",\"caxis\":{\"gridcolor\":\"rgb(232,232,232)\",\"linecolor\":\"rgb(36,36,36)\",\"showgrid\":false,\"showline\":true,\"ticks\":\"outside\"}},\"title\":{\"x\":0.05},\"xaxis\":{\"automargin\":true,\"gridcolor\":\"rgb(232,232,232)\",\"linecolor\":\"rgb(36,36,36)\",\"showgrid\":false,\"showline\":true,\"ticks\":\"outside\",\"title\":{\"standoff\":15},\"zeroline\":false,\"zerolinecolor\":\"rgb(36,36,36)\"},\"yaxis\":{\"automargin\":true,\"gridcolor\":\"rgb(232,232,232)\",\"linecolor\":\"rgb(36,36,36)\",\"showgrid\":false,\"showline\":true,\"ticks\":\"outside\",\"title\":{\"standoff\":15},\"zeroline\":false,\"zerolinecolor\":\"rgb(36,36,36)\"},\"margin\":{\"b\":0,\"l\":20,\"r\":20,\"t\":40}}},\"xaxis\":{\"anchor\":\"y\",\"domain\":[0.0,0.2888888888888889]},\"yaxis\":{\"anchor\":\"x\",\"domain\":[0.625,1.0]},\"xaxis2\":{\"anchor\":\"y2\",\"domain\":[0.35555555555555557,0.6444444444444445]},\"yaxis2\":{\"anchor\":\"x2\",\"domain\":[0.625,1.0]},\"xaxis3\":{\"anchor\":\"y3\",\"domain\":[0.7111111111111111,1.0]},\"yaxis3\":{\"anchor\":\"x3\",\"domain\":[0.625,1.0]},\"xaxis4\":{\"anchor\":\"y4\",\"domain\":[0.0,0.2888888888888889]},\"yaxis4\":{\"anchor\":\"x4\",\"domain\":[0.0,0.375]},\"xaxis5\":{\"anchor\":\"y5\",\"domain\":[0.35555555555555557,0.6444444444444445]},\"yaxis5\":{\"anchor\":\"x5\",\"domain\":[0.0,0.375]},\"xaxis6\":{\"anchor\":\"y6\",\"domain\":[0.7111111111111111,1.0]},\"yaxis6\":{\"anchor\":\"x6\",\"domain\":[0.0,0.375]},\"annotations\":[{\"font\":{\"size\":16},\"showarrow\":false,\"text\":\"$\\\\sigma^2=0, MSE=0.0$\",\"x\":0.14444444444444446,\"xanchor\":\"center\",\"xref\":\"paper\",\"y\":1.0,\"yanchor\":\"bottom\",\"yref\":\"paper\"},{\"font\":{\"size\":16},\"showarrow\":false,\"text\":\"$\\\\sigma^2=1, MSE=0.67$\",\"x\":0.5,\"xanchor\":\"center\",\"xref\":\"paper\",\"y\":1.0,\"yanchor\":\"bottom\",\"yref\":\"paper\"},{\"font\":{\"size\":16},\"showarrow\":false,\"text\":\"$\\\\sigma^2=2, MSE=3.38$\",\"x\":0.8555555555555556,\"xanchor\":\"center\",\"xref\":\"paper\",\"y\":1.0,\"yanchor\":\"bottom\",\"yref\":\"paper\"},{\"font\":{\"size\":16},\"showarrow\":false,\"text\":\"$\\\\sigma^2=3, MSE=4.71$\",\"x\":0.14444444444444446,\"xanchor\":\"center\",\"xref\":\"paper\",\"y\":0.375,\"yanchor\":\"bottom\",\"yref\":\"paper\"},{\"font\":{\"size\":16},\"showarrow\":false,\"text\":\"$\\\\sigma^2=4, MSE=3.75$\",\"x\":0.5,\"xanchor\":\"center\",\"xref\":\"paper\",\"y\":0.375,\"yanchor\":\"bottom\",\"yref\":\"paper\"},{\"font\":{\"size\":16},\"showarrow\":false,\"text\":\"$\\\\sigma^2=5, MSE=23.76$\",\"x\":0.8555555555555556,\"xanchor\":\"center\",\"xref\":\"paper\",\"y\":0.375,\"yanchor\":\"bottom\",\"yref\":\"paper\"}],\"margin\":{\"t\":80},\"title\":{\"text\":\"$\\\\text{(5) Simulated Data - Different Noise Scales}$\"}},                        {\"responsive\": true}                    ).then(function(){\n                            \nvar gd = document.getElementById('29a550cf-e197-43f1-9cc5-5ab16495f6cd');\nvar x = new MutationObserver(function (mutations, observer) {{\n        var display = window.getComputedStyle(gd).display;\n        if (!display || display === 'none') {{\n            console.log([gd, 'removed!']);\n            Plotly.purge(gd);\n            observer.disconnect();\n        }}\n}});\n\n// Listen for the removal of the full notebook cells\nvar notebookContainer = gd.closest('#notebook-container');\nif (notebookContainer) {{\n    x.observe(notebookContainer, {childList: true});\n}}\n\n// Listen for the clearing of the current output cell\nvar outputEl = gd.closest('.output');\nif (outputEl) {{\n    x.observe(outputEl, {childList: true});\n}}\n\n                        })                };                });            </script>        </div>"
     },
     "metadata": {},
     "output_type": "display_data"
    }
   ],
   "source": [
    "scales = range(6)\n",
    "fig = make_subplots(2, 3, subplot_titles=list(map(str, scales)))\n",
    "for i, s in enumerate(scales):\n",
    "    r,c = i//3+1, i%3+1\n",
    "    \n",
    "    y = y_ + np.random.normal(scale=s, size=len(y_))\n",
    "    y_hat = make_pipeline(PolynomialFeatures(4), LinearRegression(fit_intercept=False)).fit(X, y).predict(X)\n",
    "\n",
    "    fig.add_traces([go.Scatter(x=x, y=y_, mode=\"markers\", name=\"Real Points\",  marker=dict(color=\"black\", opacity=.7), showlegend=False),\n",
    "                    go.Scatter(x=x, y=y, mode=\"markers\", name=\"Observed Points\",  marker=dict(color=\"red\", opacity=.7), showlegend=False),\n",
    "                    go.Scatter(x=x, y=y_hat, mode=\"markers\", name=\"Predicted Points\",  marker=dict(color=\"blue\", opacity=.7), showlegend=False)], rows=r, cols=c)\n",
    "    fig[\"layout\"][\"annotations\"][i][\"text\"] = rf\"$\\sigma^2={{0}}, MSE={{1}}$\".format(s, round(np.mean((y-y_hat)**2), 2))\n",
    "\n",
    "fig.update_layout(title=r\"$\\text{(5) Simulated Data - Different Noise Scales}$\", margin=dict(t=80)).show()"
   ]
  },
  {
   "cell_type": "markdown",
   "metadata": {
    "pycharm": {
     "name": "#%% md\n"
    }
   },
   "source": [
    "## The Influence Of $k$ And $\\sigma^2$ On Error\n",
    "\n",
    "Lastly, let us check how the error is influenced by both $k$ and $\\sigma^2$. For each value of $k$ and $\\sigma^2$ we will\n",
    "add noise drawn from $\\mathcal{N}\\left(0,\\sigma^2\\right)$ and then, based on the noisy data, let the learner select an\n",
    "hypothesis from $\\mathcal{H}_{poly}^k$. We repeat the process for each set of $\\left(k,\\sigma^2\\right)$ 10 times and report\n",
    "the mean MSE value. Results are seen in heatmap below: \n"
   ]
  },
  {
   "cell_type": "code",
   "execution_count": 14,
   "metadata": {
    "pycharm": {
     "name": "#%%\n"
    }
   },
   "outputs": [
    {
     "data": {
      "application/vnd.plotly.v1+json": {
       "data": [
        {
         "colorscale": [
          [
           0.0,
           "rgb(241, 236, 236)"
          ],
          [
           0.09090909090909091,
           "rgb(230, 209, 203)"
          ],
          [
           0.18181818181818182,
           "rgb(221, 182, 170)"
          ],
          [
           0.2727272727272727,
           "rgb(213, 156, 137)"
          ],
          [
           0.36363636363636365,
           "rgb(205, 129, 103)"
          ],
          [
           0.45454545454545453,
           "rgb(196, 102, 73)"
          ],
          [
           0.5454545454545454,
           "rgb(186, 74, 47)"
          ],
          [
           0.6363636363636364,
           "rgb(172, 44, 36)"
          ],
          [
           0.7272727272727273,
           "rgb(149, 19, 39)"
          ],
          [
           0.8181818181818182,
           "rgb(120, 14, 40)"
          ],
          [
           0.9090909090909091,
           "rgb(89, 13, 31)"
          ],
          [
           1.0,
           "rgb(60, 9, 17)"
          ]
         ],
         "x": [
          0,
          0,
          0,
          0,
          0,
          0,
          0,
          0,
          0,
          0,
          1,
          1,
          1,
          1,
          1,
          1,
          1,
          1,
          1,
          1,
          2,
          2,
          2,
          2,
          2,
          2,
          2,
          2,
          2,
          2,
          3,
          3,
          3,
          3,
          3,
          3,
          3,
          3,
          3,
          3,
          4,
          4,
          4,
          4,
          4,
          4,
          4,
          4,
          4,
          4,
          5,
          5,
          5,
          5,
          5,
          5,
          5,
          5,
          5,
          5,
          6,
          6,
          6,
          6,
          6,
          6,
          6,
          6,
          6,
          6,
          7,
          7,
          7,
          7,
          7,
          7,
          7,
          7,
          7,
          7,
          8,
          8,
          8,
          8,
          8,
          8,
          8,
          8,
          8,
          8,
          9,
          9,
          9,
          9,
          9,
          9,
          9,
          9,
          9,
          9
         ],
         "y": [
          0.0,
          0.5555555555555556,
          1.1111111111111112,
          1.6666666666666667,
          2.2222222222222223,
          2.7777777777777777,
          3.3333333333333335,
          3.8888888888888893,
          4.444444444444445,
          5.0,
          0.0,
          0.5555555555555556,
          1.1111111111111112,
          1.6666666666666667,
          2.2222222222222223,
          2.7777777777777777,
          3.3333333333333335,
          3.8888888888888893,
          4.444444444444445,
          5.0,
          0.0,
          0.5555555555555556,
          1.1111111111111112,
          1.6666666666666667,
          2.2222222222222223,
          2.7777777777777777,
          3.3333333333333335,
          3.8888888888888893,
          4.444444444444445,
          5.0,
          0.0,
          0.5555555555555556,
          1.1111111111111112,
          1.6666666666666667,
          2.2222222222222223,
          2.7777777777777777,
          3.3333333333333335,
          3.8888888888888893,
          4.444444444444445,
          5.0,
          0.0,
          0.5555555555555556,
          1.1111111111111112,
          1.6666666666666667,
          2.2222222222222223,
          2.7777777777777777,
          3.3333333333333335,
          3.8888888888888893,
          4.444444444444445,
          5.0,
          0.0,
          0.5555555555555556,
          1.1111111111111112,
          1.6666666666666667,
          2.2222222222222223,
          2.7777777777777777,
          3.3333333333333335,
          3.8888888888888893,
          4.444444444444445,
          5.0,
          0.0,
          0.5555555555555556,
          1.1111111111111112,
          1.6666666666666667,
          2.2222222222222223,
          2.7777777777777777,
          3.3333333333333335,
          3.8888888888888893,
          4.444444444444445,
          5.0,
          0.0,
          0.5555555555555556,
          1.1111111111111112,
          1.6666666666666667,
          2.2222222222222223,
          2.7777777777777777,
          3.3333333333333335,
          3.8888888888888893,
          4.444444444444445,
          5.0,
          0.0,
          0.5555555555555556,
          1.1111111111111112,
          1.6666666666666667,
          2.2222222222222223,
          2.7777777777777777,
          3.3333333333333335,
          3.8888888888888893,
          4.444444444444445,
          5.0,
          0.0,
          0.5555555555555556,
          1.1111111111111112,
          1.6666666666666667,
          2.2222222222222223,
          2.7777777777777777,
          3.3333333333333335,
          3.8888888888888893,
          4.444444444444445,
          5.0
         ],
         "z": [
          3.598576934700836,
          4.150673590940603,
          4.852448282816576,
          6.6642121155273015,
          7.896396280075192,
          10.751358847303013,
          13.558317162397064,
          22.24302034532091,
          22.068043324693804,
          26.285846668050073,
          0.5232075621691131,
          0.7215520445333393,
          1.7338682585674525,
          3.5526032554883464,
          4.583075532026231,
          7.050790212832989,
          9.707298820512396,
          13.185811714775673,
          17.340026853826433,
          21.327345406369727,
          0.4200361063196551,
          0.608843501841829,
          1.239635162051424,
          2.744903803664047,
          4.397440170157702,
          7.249418895371301,
          7.209609687683502,
          12.460687368083606,
          16.687820512967576,
          25.178150687989138,
          0.2829178894203396,
          0.5512815130376376,
          1.3479547491217951,
          2.125806726203296,
          4.598919821348029,
          6.699504147563628,
          10.202631168377254,
          11.254085642592615,
          18.75778776738766,
          18.757551703865715,
          3.6484816866471796E-30,
          0.28410199989713414,
          1.11190685599049,
          2.2587068280434055,
          4.459914769860534,
          6.1620398154935225,
          9.205548318215607,
          11.486065295730102,
          13.815795894153652,
          17.5663684783559,
          3.5048843499936676E-30,
          0.21401444115601898,
          0.9192782252213026,
          1.7249104756716847,
          3.6107297350023737,
          5.948627895250078,
          8.160823214227783,
          12.491810741054506,
          12.501466551216549,
          19.027564543544813,
          1.4269587818002263E-27,
          0.20952112391405428,
          0.6871324161797003,
          1.6660100319091289,
          2.8273269106818697,
          4.8755489207979394,
          7.909266803898467,
          9.663012375610757,
          12.003192565472318,
          14.296630295035149,
          2.723172496726221E-29,
          0.1623967450631782,
          0.8329716828303338,
          1.7384816468192237,
          2.805526102830262,
          4.015992266988384,
          7.129928429479262,
          8.74374369791082,
          11.480226738317107,
          17.62765425498212,
          2.2119833578315354E-26,
          0.19709831515935952,
          0.7480152564981257,
          1.405380630119391,
          2.4666892414809043,
          4.368560826007302,
          5.870362324578193,
          5.493123589419294,
          10.0293842783239,
          19.74890218998507,
          1.6378724544651258E-28,
          0.17366318602839165,
          0.6568339874319409,
          1.5378239879793942,
          2.387980790414294,
          3.044758845600085,
          4.902735410774159,
          7.196102922037701,
          7.076441699259895,
          12.209009298013708
         ],
         "type": "heatmap"
        }
       ],
       "layout": {
        "title": {
         "text": "$\\text{(6) Average Train } MSE \\text{ As Function of } \\left(k,\\sigma^2\\right)$"
        },
        "xaxis": {
         "title": {
          "text": "$k$ - Fitted Polynomial Degree"
         }
        },
        "yaxis": {
         "title": {
          "text": "$\\sigma^2$ - Noise Levels"
         }
        },
        "template": {
         "data": {
          "barpolar": [
           {
            "marker": {
             "line": {
              "color": "white",
              "width": 0.5
             },
             "pattern": {
              "fillmode": "overlay",
              "size": 10,
              "solidity": 0.2
             }
            },
            "type": "barpolar"
           }
          ],
          "bar": [
           {
            "error_x": {
             "color": "rgb(36,36,36)"
            },
            "error_y": {
             "color": "rgb(36,36,36)"
            },
            "marker": {
             "line": {
              "color": "white",
              "width": 0.5
             },
             "pattern": {
              "fillmode": "overlay",
              "size": 10,
              "solidity": 0.2
             }
            },
            "type": "bar"
           }
          ],
          "carpet": [
           {
            "aaxis": {
             "endlinecolor": "rgb(36,36,36)",
             "gridcolor": "white",
             "linecolor": "white",
             "minorgridcolor": "white",
             "startlinecolor": "rgb(36,36,36)"
            },
            "baxis": {
             "endlinecolor": "rgb(36,36,36)",
             "gridcolor": "white",
             "linecolor": "white",
             "minorgridcolor": "white",
             "startlinecolor": "rgb(36,36,36)"
            },
            "type": "carpet"
           }
          ],
          "choropleth": [
           {
            "colorbar": {
             "outlinewidth": 1,
             "tickcolor": "rgb(36,36,36)",
             "ticks": "outside"
            },
            "type": "choropleth"
           }
          ],
          "contourcarpet": [
           {
            "colorbar": {
             "outlinewidth": 1,
             "tickcolor": "rgb(36,36,36)",
             "ticks": "outside"
            },
            "type": "contourcarpet"
           }
          ],
          "contour": [
           {
            "colorbar": {
             "outlinewidth": 1,
             "tickcolor": "rgb(36,36,36)",
             "ticks": "outside"
            },
            "colorscale": [
             [
              0.0,
              "#440154"
             ],
             [
              0.1111111111111111,
              "#482878"
             ],
             [
              0.2222222222222222,
              "#3e4989"
             ],
             [
              0.3333333333333333,
              "#31688e"
             ],
             [
              0.4444444444444444,
              "#26828e"
             ],
             [
              0.5555555555555556,
              "#1f9e89"
             ],
             [
              0.6666666666666666,
              "#35b779"
             ],
             [
              0.7777777777777778,
              "#6ece58"
             ],
             [
              0.8888888888888888,
              "#b5de2b"
             ],
             [
              1.0,
              "#fde725"
             ]
            ],
            "type": "contour"
           }
          ],
          "heatmapgl": [
           {
            "colorbar": {
             "outlinewidth": 1,
             "tickcolor": "rgb(36,36,36)",
             "ticks": "outside"
            },
            "colorscale": [
             [
              0.0,
              "#440154"
             ],
             [
              0.1111111111111111,
              "#482878"
             ],
             [
              0.2222222222222222,
              "#3e4989"
             ],
             [
              0.3333333333333333,
              "#31688e"
             ],
             [
              0.4444444444444444,
              "#26828e"
             ],
             [
              0.5555555555555556,
              "#1f9e89"
             ],
             [
              0.6666666666666666,
              "#35b779"
             ],
             [
              0.7777777777777778,
              "#6ece58"
             ],
             [
              0.8888888888888888,
              "#b5de2b"
             ],
             [
              1.0,
              "#fde725"
             ]
            ],
            "type": "heatmapgl"
           }
          ],
          "heatmap": [
           {
            "colorbar": {
             "outlinewidth": 1,
             "tickcolor": "rgb(36,36,36)",
             "ticks": "outside"
            },
            "colorscale": [
             [
              0.0,
              "#440154"
             ],
             [
              0.1111111111111111,
              "#482878"
             ],
             [
              0.2222222222222222,
              "#3e4989"
             ],
             [
              0.3333333333333333,
              "#31688e"
             ],
             [
              0.4444444444444444,
              "#26828e"
             ],
             [
              0.5555555555555556,
              "#1f9e89"
             ],
             [
              0.6666666666666666,
              "#35b779"
             ],
             [
              0.7777777777777778,
              "#6ece58"
             ],
             [
              0.8888888888888888,
              "#b5de2b"
             ],
             [
              1.0,
              "#fde725"
             ]
            ],
            "type": "heatmap"
           }
          ],
          "histogram2dcontour": [
           {
            "colorbar": {
             "outlinewidth": 1,
             "tickcolor": "rgb(36,36,36)",
             "ticks": "outside"
            },
            "colorscale": [
             [
              0.0,
              "#440154"
             ],
             [
              0.1111111111111111,
              "#482878"
             ],
             [
              0.2222222222222222,
              "#3e4989"
             ],
             [
              0.3333333333333333,
              "#31688e"
             ],
             [
              0.4444444444444444,
              "#26828e"
             ],
             [
              0.5555555555555556,
              "#1f9e89"
             ],
             [
              0.6666666666666666,
              "#35b779"
             ],
             [
              0.7777777777777778,
              "#6ece58"
             ],
             [
              0.8888888888888888,
              "#b5de2b"
             ],
             [
              1.0,
              "#fde725"
             ]
            ],
            "type": "histogram2dcontour"
           }
          ],
          "histogram2d": [
           {
            "colorbar": {
             "outlinewidth": 1,
             "tickcolor": "rgb(36,36,36)",
             "ticks": "outside"
            },
            "colorscale": [
             [
              0.0,
              "#440154"
             ],
             [
              0.1111111111111111,
              "#482878"
             ],
             [
              0.2222222222222222,
              "#3e4989"
             ],
             [
              0.3333333333333333,
              "#31688e"
             ],
             [
              0.4444444444444444,
              "#26828e"
             ],
             [
              0.5555555555555556,
              "#1f9e89"
             ],
             [
              0.6666666666666666,
              "#35b779"
             ],
             [
              0.7777777777777778,
              "#6ece58"
             ],
             [
              0.8888888888888888,
              "#b5de2b"
             ],
             [
              1.0,
              "#fde725"
             ]
            ],
            "type": "histogram2d"
           }
          ],
          "histogram": [
           {
            "marker": {
             "line": {
              "color": "white",
              "width": 0.6
             }
            },
            "type": "histogram"
           }
          ],
          "mesh3d": [
           {
            "colorbar": {
             "outlinewidth": 1,
             "tickcolor": "rgb(36,36,36)",
             "ticks": "outside"
            },
            "type": "mesh3d"
           }
          ],
          "parcoords": [
           {
            "line": {
             "colorbar": {
              "outlinewidth": 1,
              "tickcolor": "rgb(36,36,36)",
              "ticks": "outside"
             }
            },
            "type": "parcoords"
           }
          ],
          "pie": [
           {
            "automargin": true,
            "type": "pie"
           }
          ],
          "scatter3d": [
           {
            "line": {
             "colorbar": {
              "outlinewidth": 1,
              "tickcolor": "rgb(36,36,36)",
              "ticks": "outside"
             }
            },
            "marker": {
             "colorbar": {
              "outlinewidth": 1,
              "tickcolor": "rgb(36,36,36)",
              "ticks": "outside"
             }
            },
            "type": "scatter3d"
           }
          ],
          "scattercarpet": [
           {
            "marker": {
             "colorbar": {
              "outlinewidth": 1,
              "tickcolor": "rgb(36,36,36)",
              "ticks": "outside"
             }
            },
            "type": "scattercarpet"
           }
          ],
          "scattergeo": [
           {
            "marker": {
             "colorbar": {
              "outlinewidth": 1,
              "tickcolor": "rgb(36,36,36)",
              "ticks": "outside"
             }
            },
            "type": "scattergeo"
           }
          ],
          "scattergl": [
           {
            "marker": {
             "colorbar": {
              "outlinewidth": 1,
              "tickcolor": "rgb(36,36,36)",
              "ticks": "outside"
             }
            },
            "type": "scattergl"
           }
          ],
          "scattermapbox": [
           {
            "marker": {
             "colorbar": {
              "outlinewidth": 1,
              "tickcolor": "rgb(36,36,36)",
              "ticks": "outside"
             }
            },
            "type": "scattermapbox"
           }
          ],
          "scatterpolargl": [
           {
            "marker": {
             "colorbar": {
              "outlinewidth": 1,
              "tickcolor": "rgb(36,36,36)",
              "ticks": "outside"
             }
            },
            "type": "scatterpolargl"
           }
          ],
          "scatterpolar": [
           {
            "marker": {
             "colorbar": {
              "outlinewidth": 1,
              "tickcolor": "rgb(36,36,36)",
              "ticks": "outside"
             }
            },
            "type": "scatterpolar"
           }
          ],
          "scatter": [
           {
            "fillpattern": {
             "fillmode": "overlay",
             "size": 10,
             "solidity": 0.2
            },
            "type": "scatter"
           }
          ],
          "scatterternary": [
           {
            "marker": {
             "colorbar": {
              "outlinewidth": 1,
              "tickcolor": "rgb(36,36,36)",
              "ticks": "outside"
             }
            },
            "type": "scatterternary"
           }
          ],
          "surface": [
           {
            "colorbar": {
             "outlinewidth": 1,
             "tickcolor": "rgb(36,36,36)",
             "ticks": "outside"
            },
            "colorscale": [
             [
              0.0,
              "#440154"
             ],
             [
              0.1111111111111111,
              "#482878"
             ],
             [
              0.2222222222222222,
              "#3e4989"
             ],
             [
              0.3333333333333333,
              "#31688e"
             ],
             [
              0.4444444444444444,
              "#26828e"
             ],
             [
              0.5555555555555556,
              "#1f9e89"
             ],
             [
              0.6666666666666666,
              "#35b779"
             ],
             [
              0.7777777777777778,
              "#6ece58"
             ],
             [
              0.8888888888888888,
              "#b5de2b"
             ],
             [
              1.0,
              "#fde725"
             ]
            ],
            "type": "surface"
           }
          ],
          "table": [
           {
            "cells": {
             "fill": {
              "color": "rgb(237,237,237)"
             },
             "line": {
              "color": "white"
             }
            },
            "header": {
             "fill": {
              "color": "rgb(217,217,217)"
             },
             "line": {
              "color": "white"
             }
            },
            "type": "table"
           }
          ]
         },
         "layout": {
          "annotationdefaults": {
           "arrowhead": 0,
           "arrowwidth": 1
          },
          "autotypenumbers": "strict",
          "coloraxis": {
           "colorbar": {
            "outlinewidth": 1,
            "tickcolor": "rgb(36,36,36)",
            "ticks": "outside"
           }
          },
          "colorscale": {
           "diverging": [
            [
             0.0,
             "rgb(103,0,31)"
            ],
            [
             0.1,
             "rgb(178,24,43)"
            ],
            [
             0.2,
             "rgb(214,96,77)"
            ],
            [
             0.3,
             "rgb(244,165,130)"
            ],
            [
             0.4,
             "rgb(253,219,199)"
            ],
            [
             0.5,
             "rgb(247,247,247)"
            ],
            [
             0.6,
             "rgb(209,229,240)"
            ],
            [
             0.7,
             "rgb(146,197,222)"
            ],
            [
             0.8,
             "rgb(67,147,195)"
            ],
            [
             0.9,
             "rgb(33,102,172)"
            ],
            [
             1.0,
             "rgb(5,48,97)"
            ]
           ],
           "sequential": [
            [
             0.0,
             "#440154"
            ],
            [
             0.1111111111111111,
             "#482878"
            ],
            [
             0.2222222222222222,
             "#3e4989"
            ],
            [
             0.3333333333333333,
             "#31688e"
            ],
            [
             0.4444444444444444,
             "#26828e"
            ],
            [
             0.5555555555555556,
             "#1f9e89"
            ],
            [
             0.6666666666666666,
             "#35b779"
            ],
            [
             0.7777777777777778,
             "#6ece58"
            ],
            [
             0.8888888888888888,
             "#b5de2b"
            ],
            [
             1.0,
             "#fde725"
            ]
           ],
           "sequentialminus": [
            [
             0.0,
             "#440154"
            ],
            [
             0.1111111111111111,
             "#482878"
            ],
            [
             0.2222222222222222,
             "#3e4989"
            ],
            [
             0.3333333333333333,
             "#31688e"
            ],
            [
             0.4444444444444444,
             "#26828e"
            ],
            [
             0.5555555555555556,
             "#1f9e89"
            ],
            [
             0.6666666666666666,
             "#35b779"
            ],
            [
             0.7777777777777778,
             "#6ece58"
            ],
            [
             0.8888888888888888,
             "#b5de2b"
            ],
            [
             1.0,
             "#fde725"
            ]
           ]
          },
          "colorway": [
           "#1F77B4",
           "#FF7F0E",
           "#2CA02C",
           "#D62728",
           "#9467BD",
           "#8C564B",
           "#E377C2",
           "#7F7F7F",
           "#BCBD22",
           "#17BECF"
          ],
          "font": {
           "color": "rgb(36,36,36)"
          },
          "geo": {
           "bgcolor": "white",
           "lakecolor": "white",
           "landcolor": "white",
           "showlakes": true,
           "showland": true,
           "subunitcolor": "white"
          },
          "hoverlabel": {
           "align": "left"
          },
          "hovermode": "closest",
          "mapbox": {
           "style": "light"
          },
          "paper_bgcolor": "white",
          "plot_bgcolor": "white",
          "polar": {
           "angularaxis": {
            "gridcolor": "rgb(232,232,232)",
            "linecolor": "rgb(36,36,36)",
            "showgrid": false,
            "showline": true,
            "ticks": "outside"
           },
           "bgcolor": "white",
           "radialaxis": {
            "gridcolor": "rgb(232,232,232)",
            "linecolor": "rgb(36,36,36)",
            "showgrid": false,
            "showline": true,
            "ticks": "outside"
           }
          },
          "scene": {
           "xaxis": {
            "backgroundcolor": "white",
            "gridcolor": "rgb(232,232,232)",
            "gridwidth": 2,
            "linecolor": "rgb(36,36,36)",
            "showbackground": true,
            "showgrid": false,
            "showline": true,
            "ticks": "outside",
            "zeroline": false,
            "zerolinecolor": "rgb(36,36,36)"
           },
           "yaxis": {
            "backgroundcolor": "white",
            "gridcolor": "rgb(232,232,232)",
            "gridwidth": 2,
            "linecolor": "rgb(36,36,36)",
            "showbackground": true,
            "showgrid": false,
            "showline": true,
            "ticks": "outside",
            "zeroline": false,
            "zerolinecolor": "rgb(36,36,36)"
           },
           "zaxis": {
            "backgroundcolor": "white",
            "gridcolor": "rgb(232,232,232)",
            "gridwidth": 2,
            "linecolor": "rgb(36,36,36)",
            "showbackground": true,
            "showgrid": false,
            "showline": true,
            "ticks": "outside",
            "zeroline": false,
            "zerolinecolor": "rgb(36,36,36)"
           }
          },
          "shapedefaults": {
           "fillcolor": "black",
           "line": {
            "width": 0
           },
           "opacity": 0.3
          },
          "ternary": {
           "aaxis": {
            "gridcolor": "rgb(232,232,232)",
            "linecolor": "rgb(36,36,36)",
            "showgrid": false,
            "showline": true,
            "ticks": "outside"
           },
           "baxis": {
            "gridcolor": "rgb(232,232,232)",
            "linecolor": "rgb(36,36,36)",
            "showgrid": false,
            "showline": true,
            "ticks": "outside"
           },
           "bgcolor": "white",
           "caxis": {
            "gridcolor": "rgb(232,232,232)",
            "linecolor": "rgb(36,36,36)",
            "showgrid": false,
            "showline": true,
            "ticks": "outside"
           }
          },
          "title": {
           "x": 0.05
          },
          "xaxis": {
           "automargin": true,
           "gridcolor": "rgb(232,232,232)",
           "linecolor": "rgb(36,36,36)",
           "showgrid": false,
           "showline": true,
           "ticks": "outside",
           "title": {
            "standoff": 15
           },
           "zeroline": false,
           "zerolinecolor": "rgb(36,36,36)"
          },
          "yaxis": {
           "automargin": true,
           "gridcolor": "rgb(232,232,232)",
           "linecolor": "rgb(36,36,36)",
           "showgrid": false,
           "showline": true,
           "ticks": "outside",
           "title": {
            "standoff": 15
           },
           "zeroline": false,
           "zerolinecolor": "rgb(36,36,36)"
          },
          "margin": {
           "b": 0,
           "l": 20,
           "r": 20,
           "t": 40
          }
         }
        }
       },
       "config": {
        "plotlyServerURL": "https://plot.ly"
       }
      },
      "text/html": "<div>                            <div id=\"b6c7324c-52c9-41d8-83dd-65b6fe3ff4d4\" class=\"plotly-graph-div\" style=\"height:525px; width:100%;\"></div>            <script type=\"text/javascript\">                require([\"plotly\"], function(Plotly) {                    window.PLOTLYENV=window.PLOTLYENV || {};                                    if (document.getElementById(\"b6c7324c-52c9-41d8-83dd-65b6fe3ff4d4\")) {                    Plotly.newPlot(                        \"b6c7324c-52c9-41d8-83dd-65b6fe3ff4d4\",                        [{\"colorscale\":[[0.0,\"rgb(241, 236, 236)\"],[0.09090909090909091,\"rgb(230, 209, 203)\"],[0.18181818181818182,\"rgb(221, 182, 170)\"],[0.2727272727272727,\"rgb(213, 156, 137)\"],[0.36363636363636365,\"rgb(205, 129, 103)\"],[0.45454545454545453,\"rgb(196, 102, 73)\"],[0.5454545454545454,\"rgb(186, 74, 47)\"],[0.6363636363636364,\"rgb(172, 44, 36)\"],[0.7272727272727273,\"rgb(149, 19, 39)\"],[0.8181818181818182,\"rgb(120, 14, 40)\"],[0.9090909090909091,\"rgb(89, 13, 31)\"],[1.0,\"rgb(60, 9, 17)\"]],\"x\":[0,0,0,0,0,0,0,0,0,0,1,1,1,1,1,1,1,1,1,1,2,2,2,2,2,2,2,2,2,2,3,3,3,3,3,3,3,3,3,3,4,4,4,4,4,4,4,4,4,4,5,5,5,5,5,5,5,5,5,5,6,6,6,6,6,6,6,6,6,6,7,7,7,7,7,7,7,7,7,7,8,8,8,8,8,8,8,8,8,8,9,9,9,9,9,9,9,9,9,9],\"y\":[0.0,0.5555555555555556,1.1111111111111112,1.6666666666666667,2.2222222222222223,2.7777777777777777,3.3333333333333335,3.8888888888888893,4.444444444444445,5.0,0.0,0.5555555555555556,1.1111111111111112,1.6666666666666667,2.2222222222222223,2.7777777777777777,3.3333333333333335,3.8888888888888893,4.444444444444445,5.0,0.0,0.5555555555555556,1.1111111111111112,1.6666666666666667,2.2222222222222223,2.7777777777777777,3.3333333333333335,3.8888888888888893,4.444444444444445,5.0,0.0,0.5555555555555556,1.1111111111111112,1.6666666666666667,2.2222222222222223,2.7777777777777777,3.3333333333333335,3.8888888888888893,4.444444444444445,5.0,0.0,0.5555555555555556,1.1111111111111112,1.6666666666666667,2.2222222222222223,2.7777777777777777,3.3333333333333335,3.8888888888888893,4.444444444444445,5.0,0.0,0.5555555555555556,1.1111111111111112,1.6666666666666667,2.2222222222222223,2.7777777777777777,3.3333333333333335,3.8888888888888893,4.444444444444445,5.0,0.0,0.5555555555555556,1.1111111111111112,1.6666666666666667,2.2222222222222223,2.7777777777777777,3.3333333333333335,3.8888888888888893,4.444444444444445,5.0,0.0,0.5555555555555556,1.1111111111111112,1.6666666666666667,2.2222222222222223,2.7777777777777777,3.3333333333333335,3.8888888888888893,4.444444444444445,5.0,0.0,0.5555555555555556,1.1111111111111112,1.6666666666666667,2.2222222222222223,2.7777777777777777,3.3333333333333335,3.8888888888888893,4.444444444444445,5.0,0.0,0.5555555555555556,1.1111111111111112,1.6666666666666667,2.2222222222222223,2.7777777777777777,3.3333333333333335,3.8888888888888893,4.444444444444445,5.0],\"z\":[3.598576934700836,4.150673590940603,4.852448282816576,6.6642121155273015,7.896396280075192,10.751358847303013,13.558317162397064,22.24302034532091,22.068043324693804,26.285846668050073,0.5232075621691131,0.7215520445333393,1.7338682585674525,3.5526032554883464,4.583075532026231,7.050790212832989,9.707298820512396,13.185811714775673,17.340026853826433,21.327345406369727,0.4200361063196551,0.608843501841829,1.239635162051424,2.744903803664047,4.397440170157702,7.249418895371301,7.209609687683502,12.460687368083606,16.687820512967576,25.178150687989138,0.2829178894203396,0.5512815130376376,1.3479547491217951,2.125806726203296,4.598919821348029,6.699504147563628,10.202631168377254,11.254085642592615,18.75778776738766,18.757551703865715,3.6484816866471796e-30,0.28410199989713414,1.11190685599049,2.2587068280434055,4.459914769860534,6.1620398154935225,9.205548318215607,11.486065295730102,13.815795894153652,17.5663684783559,3.5048843499936676e-30,0.21401444115601898,0.9192782252213026,1.7249104756716847,3.6107297350023737,5.948627895250078,8.160823214227783,12.491810741054506,12.501466551216549,19.027564543544813,1.4269587818002263e-27,0.20952112391405428,0.6871324161797003,1.6660100319091289,2.8273269106818697,4.8755489207979394,7.909266803898467,9.663012375610757,12.003192565472318,14.296630295035149,2.723172496726221e-29,0.1623967450631782,0.8329716828303338,1.7384816468192237,2.805526102830262,4.015992266988384,7.129928429479262,8.74374369791082,11.480226738317107,17.62765425498212,2.2119833578315354e-26,0.19709831515935952,0.7480152564981257,1.405380630119391,2.4666892414809043,4.368560826007302,5.870362324578193,5.493123589419294,10.0293842783239,19.74890218998507,1.6378724544651258e-28,0.17366318602839165,0.6568339874319409,1.5378239879793942,2.387980790414294,3.044758845600085,4.902735410774159,7.196102922037701,7.076441699259895,12.209009298013708],\"type\":\"heatmap\"}],                        {\"title\":{\"text\":\"$\\\\text{(6) Average Train } MSE \\\\text{ As Function of } \\\\left(k,\\\\sigma^2\\\\right)$\"},\"xaxis\":{\"title\":{\"text\":\"$k$ - Fitted Polynomial Degree\"}},\"yaxis\":{\"title\":{\"text\":\"$\\\\sigma^2$ - Noise Levels\"}},\"template\":{\"data\":{\"barpolar\":[{\"marker\":{\"line\":{\"color\":\"white\",\"width\":0.5},\"pattern\":{\"fillmode\":\"overlay\",\"size\":10,\"solidity\":0.2}},\"type\":\"barpolar\"}],\"bar\":[{\"error_x\":{\"color\":\"rgb(36,36,36)\"},\"error_y\":{\"color\":\"rgb(36,36,36)\"},\"marker\":{\"line\":{\"color\":\"white\",\"width\":0.5},\"pattern\":{\"fillmode\":\"overlay\",\"size\":10,\"solidity\":0.2}},\"type\":\"bar\"}],\"carpet\":[{\"aaxis\":{\"endlinecolor\":\"rgb(36,36,36)\",\"gridcolor\":\"white\",\"linecolor\":\"white\",\"minorgridcolor\":\"white\",\"startlinecolor\":\"rgb(36,36,36)\"},\"baxis\":{\"endlinecolor\":\"rgb(36,36,36)\",\"gridcolor\":\"white\",\"linecolor\":\"white\",\"minorgridcolor\":\"white\",\"startlinecolor\":\"rgb(36,36,36)\"},\"type\":\"carpet\"}],\"choropleth\":[{\"colorbar\":{\"outlinewidth\":1,\"tickcolor\":\"rgb(36,36,36)\",\"ticks\":\"outside\"},\"type\":\"choropleth\"}],\"contourcarpet\":[{\"colorbar\":{\"outlinewidth\":1,\"tickcolor\":\"rgb(36,36,36)\",\"ticks\":\"outside\"},\"type\":\"contourcarpet\"}],\"contour\":[{\"colorbar\":{\"outlinewidth\":1,\"tickcolor\":\"rgb(36,36,36)\",\"ticks\":\"outside\"},\"colorscale\":[[0.0,\"#440154\"],[0.1111111111111111,\"#482878\"],[0.2222222222222222,\"#3e4989\"],[0.3333333333333333,\"#31688e\"],[0.4444444444444444,\"#26828e\"],[0.5555555555555556,\"#1f9e89\"],[0.6666666666666666,\"#35b779\"],[0.7777777777777778,\"#6ece58\"],[0.8888888888888888,\"#b5de2b\"],[1.0,\"#fde725\"]],\"type\":\"contour\"}],\"heatmapgl\":[{\"colorbar\":{\"outlinewidth\":1,\"tickcolor\":\"rgb(36,36,36)\",\"ticks\":\"outside\"},\"colorscale\":[[0.0,\"#440154\"],[0.1111111111111111,\"#482878\"],[0.2222222222222222,\"#3e4989\"],[0.3333333333333333,\"#31688e\"],[0.4444444444444444,\"#26828e\"],[0.5555555555555556,\"#1f9e89\"],[0.6666666666666666,\"#35b779\"],[0.7777777777777778,\"#6ece58\"],[0.8888888888888888,\"#b5de2b\"],[1.0,\"#fde725\"]],\"type\":\"heatmapgl\"}],\"heatmap\":[{\"colorbar\":{\"outlinewidth\":1,\"tickcolor\":\"rgb(36,36,36)\",\"ticks\":\"outside\"},\"colorscale\":[[0.0,\"#440154\"],[0.1111111111111111,\"#482878\"],[0.2222222222222222,\"#3e4989\"],[0.3333333333333333,\"#31688e\"],[0.4444444444444444,\"#26828e\"],[0.5555555555555556,\"#1f9e89\"],[0.6666666666666666,\"#35b779\"],[0.7777777777777778,\"#6ece58\"],[0.8888888888888888,\"#b5de2b\"],[1.0,\"#fde725\"]],\"type\":\"heatmap\"}],\"histogram2dcontour\":[{\"colorbar\":{\"outlinewidth\":1,\"tickcolor\":\"rgb(36,36,36)\",\"ticks\":\"outside\"},\"colorscale\":[[0.0,\"#440154\"],[0.1111111111111111,\"#482878\"],[0.2222222222222222,\"#3e4989\"],[0.3333333333333333,\"#31688e\"],[0.4444444444444444,\"#26828e\"],[0.5555555555555556,\"#1f9e89\"],[0.6666666666666666,\"#35b779\"],[0.7777777777777778,\"#6ece58\"],[0.8888888888888888,\"#b5de2b\"],[1.0,\"#fde725\"]],\"type\":\"histogram2dcontour\"}],\"histogram2d\":[{\"colorbar\":{\"outlinewidth\":1,\"tickcolor\":\"rgb(36,36,36)\",\"ticks\":\"outside\"},\"colorscale\":[[0.0,\"#440154\"],[0.1111111111111111,\"#482878\"],[0.2222222222222222,\"#3e4989\"],[0.3333333333333333,\"#31688e\"],[0.4444444444444444,\"#26828e\"],[0.5555555555555556,\"#1f9e89\"],[0.6666666666666666,\"#35b779\"],[0.7777777777777778,\"#6ece58\"],[0.8888888888888888,\"#b5de2b\"],[1.0,\"#fde725\"]],\"type\":\"histogram2d\"}],\"histogram\":[{\"marker\":{\"line\":{\"color\":\"white\",\"width\":0.6}},\"type\":\"histogram\"}],\"mesh3d\":[{\"colorbar\":{\"outlinewidth\":1,\"tickcolor\":\"rgb(36,36,36)\",\"ticks\":\"outside\"},\"type\":\"mesh3d\"}],\"parcoords\":[{\"line\":{\"colorbar\":{\"outlinewidth\":1,\"tickcolor\":\"rgb(36,36,36)\",\"ticks\":\"outside\"}},\"type\":\"parcoords\"}],\"pie\":[{\"automargin\":true,\"type\":\"pie\"}],\"scatter3d\":[{\"line\":{\"colorbar\":{\"outlinewidth\":1,\"tickcolor\":\"rgb(36,36,36)\",\"ticks\":\"outside\"}},\"marker\":{\"colorbar\":{\"outlinewidth\":1,\"tickcolor\":\"rgb(36,36,36)\",\"ticks\":\"outside\"}},\"type\":\"scatter3d\"}],\"scattercarpet\":[{\"marker\":{\"colorbar\":{\"outlinewidth\":1,\"tickcolor\":\"rgb(36,36,36)\",\"ticks\":\"outside\"}},\"type\":\"scattercarpet\"}],\"scattergeo\":[{\"marker\":{\"colorbar\":{\"outlinewidth\":1,\"tickcolor\":\"rgb(36,36,36)\",\"ticks\":\"outside\"}},\"type\":\"scattergeo\"}],\"scattergl\":[{\"marker\":{\"colorbar\":{\"outlinewidth\":1,\"tickcolor\":\"rgb(36,36,36)\",\"ticks\":\"outside\"}},\"type\":\"scattergl\"}],\"scattermapbox\":[{\"marker\":{\"colorbar\":{\"outlinewidth\":1,\"tickcolor\":\"rgb(36,36,36)\",\"ticks\":\"outside\"}},\"type\":\"scattermapbox\"}],\"scatterpolargl\":[{\"marker\":{\"colorbar\":{\"outlinewidth\":1,\"tickcolor\":\"rgb(36,36,36)\",\"ticks\":\"outside\"}},\"type\":\"scatterpolargl\"}],\"scatterpolar\":[{\"marker\":{\"colorbar\":{\"outlinewidth\":1,\"tickcolor\":\"rgb(36,36,36)\",\"ticks\":\"outside\"}},\"type\":\"scatterpolar\"}],\"scatter\":[{\"fillpattern\":{\"fillmode\":\"overlay\",\"size\":10,\"solidity\":0.2},\"type\":\"scatter\"}],\"scatterternary\":[{\"marker\":{\"colorbar\":{\"outlinewidth\":1,\"tickcolor\":\"rgb(36,36,36)\",\"ticks\":\"outside\"}},\"type\":\"scatterternary\"}],\"surface\":[{\"colorbar\":{\"outlinewidth\":1,\"tickcolor\":\"rgb(36,36,36)\",\"ticks\":\"outside\"},\"colorscale\":[[0.0,\"#440154\"],[0.1111111111111111,\"#482878\"],[0.2222222222222222,\"#3e4989\"],[0.3333333333333333,\"#31688e\"],[0.4444444444444444,\"#26828e\"],[0.5555555555555556,\"#1f9e89\"],[0.6666666666666666,\"#35b779\"],[0.7777777777777778,\"#6ece58\"],[0.8888888888888888,\"#b5de2b\"],[1.0,\"#fde725\"]],\"type\":\"surface\"}],\"table\":[{\"cells\":{\"fill\":{\"color\":\"rgb(237,237,237)\"},\"line\":{\"color\":\"white\"}},\"header\":{\"fill\":{\"color\":\"rgb(217,217,217)\"},\"line\":{\"color\":\"white\"}},\"type\":\"table\"}]},\"layout\":{\"annotationdefaults\":{\"arrowhead\":0,\"arrowwidth\":1},\"autotypenumbers\":\"strict\",\"coloraxis\":{\"colorbar\":{\"outlinewidth\":1,\"tickcolor\":\"rgb(36,36,36)\",\"ticks\":\"outside\"}},\"colorscale\":{\"diverging\":[[0.0,\"rgb(103,0,31)\"],[0.1,\"rgb(178,24,43)\"],[0.2,\"rgb(214,96,77)\"],[0.3,\"rgb(244,165,130)\"],[0.4,\"rgb(253,219,199)\"],[0.5,\"rgb(247,247,247)\"],[0.6,\"rgb(209,229,240)\"],[0.7,\"rgb(146,197,222)\"],[0.8,\"rgb(67,147,195)\"],[0.9,\"rgb(33,102,172)\"],[1.0,\"rgb(5,48,97)\"]],\"sequential\":[[0.0,\"#440154\"],[0.1111111111111111,\"#482878\"],[0.2222222222222222,\"#3e4989\"],[0.3333333333333333,\"#31688e\"],[0.4444444444444444,\"#26828e\"],[0.5555555555555556,\"#1f9e89\"],[0.6666666666666666,\"#35b779\"],[0.7777777777777778,\"#6ece58\"],[0.8888888888888888,\"#b5de2b\"],[1.0,\"#fde725\"]],\"sequentialminus\":[[0.0,\"#440154\"],[0.1111111111111111,\"#482878\"],[0.2222222222222222,\"#3e4989\"],[0.3333333333333333,\"#31688e\"],[0.4444444444444444,\"#26828e\"],[0.5555555555555556,\"#1f9e89\"],[0.6666666666666666,\"#35b779\"],[0.7777777777777778,\"#6ece58\"],[0.8888888888888888,\"#b5de2b\"],[1.0,\"#fde725\"]]},\"colorway\":[\"#1F77B4\",\"#FF7F0E\",\"#2CA02C\",\"#D62728\",\"#9467BD\",\"#8C564B\",\"#E377C2\",\"#7F7F7F\",\"#BCBD22\",\"#17BECF\"],\"font\":{\"color\":\"rgb(36,36,36)\"},\"geo\":{\"bgcolor\":\"white\",\"lakecolor\":\"white\",\"landcolor\":\"white\",\"showlakes\":true,\"showland\":true,\"subunitcolor\":\"white\"},\"hoverlabel\":{\"align\":\"left\"},\"hovermode\":\"closest\",\"mapbox\":{\"style\":\"light\"},\"paper_bgcolor\":\"white\",\"plot_bgcolor\":\"white\",\"polar\":{\"angularaxis\":{\"gridcolor\":\"rgb(232,232,232)\",\"linecolor\":\"rgb(36,36,36)\",\"showgrid\":false,\"showline\":true,\"ticks\":\"outside\"},\"bgcolor\":\"white\",\"radialaxis\":{\"gridcolor\":\"rgb(232,232,232)\",\"linecolor\":\"rgb(36,36,36)\",\"showgrid\":false,\"showline\":true,\"ticks\":\"outside\"}},\"scene\":{\"xaxis\":{\"backgroundcolor\":\"white\",\"gridcolor\":\"rgb(232,232,232)\",\"gridwidth\":2,\"linecolor\":\"rgb(36,36,36)\",\"showbackground\":true,\"showgrid\":false,\"showline\":true,\"ticks\":\"outside\",\"zeroline\":false,\"zerolinecolor\":\"rgb(36,36,36)\"},\"yaxis\":{\"backgroundcolor\":\"white\",\"gridcolor\":\"rgb(232,232,232)\",\"gridwidth\":2,\"linecolor\":\"rgb(36,36,36)\",\"showbackground\":true,\"showgrid\":false,\"showline\":true,\"ticks\":\"outside\",\"zeroline\":false,\"zerolinecolor\":\"rgb(36,36,36)\"},\"zaxis\":{\"backgroundcolor\":\"white\",\"gridcolor\":\"rgb(232,232,232)\",\"gridwidth\":2,\"linecolor\":\"rgb(36,36,36)\",\"showbackground\":true,\"showgrid\":false,\"showline\":true,\"ticks\":\"outside\",\"zeroline\":false,\"zerolinecolor\":\"rgb(36,36,36)\"}},\"shapedefaults\":{\"fillcolor\":\"black\",\"line\":{\"width\":0},\"opacity\":0.3},\"ternary\":{\"aaxis\":{\"gridcolor\":\"rgb(232,232,232)\",\"linecolor\":\"rgb(36,36,36)\",\"showgrid\":false,\"showline\":true,\"ticks\":\"outside\"},\"baxis\":{\"gridcolor\":\"rgb(232,232,232)\",\"linecolor\":\"rgb(36,36,36)\",\"showgrid\":false,\"showline\":true,\"ticks\":\"outside\"},\"bgcolor\":\"white\",\"caxis\":{\"gridcolor\":\"rgb(232,232,232)\",\"linecolor\":\"rgb(36,36,36)\",\"showgrid\":false,\"showline\":true,\"ticks\":\"outside\"}},\"title\":{\"x\":0.05},\"xaxis\":{\"automargin\":true,\"gridcolor\":\"rgb(232,232,232)\",\"linecolor\":\"rgb(36,36,36)\",\"showgrid\":false,\"showline\":true,\"ticks\":\"outside\",\"title\":{\"standoff\":15},\"zeroline\":false,\"zerolinecolor\":\"rgb(36,36,36)\"},\"yaxis\":{\"automargin\":true,\"gridcolor\":\"rgb(232,232,232)\",\"linecolor\":\"rgb(36,36,36)\",\"showgrid\":false,\"showline\":true,\"ticks\":\"outside\",\"title\":{\"standoff\":15},\"zeroline\":false,\"zerolinecolor\":\"rgb(36,36,36)\"},\"margin\":{\"b\":0,\"l\":20,\"r\":20,\"t\":40}}}},                        {\"responsive\": true}                    ).then(function(){\n                            \nvar gd = document.getElementById('b6c7324c-52c9-41d8-83dd-65b6fe3ff4d4');\nvar x = new MutationObserver(function (mutations, observer) {{\n        var display = window.getComputedStyle(gd).display;\n        if (!display || display === 'none') {{\n            console.log([gd, 'removed!']);\n            Plotly.purge(gd);\n            observer.disconnect();\n        }}\n}});\n\n// Listen for the removal of the full notebook cells\nvar notebookContainer = gd.closest('#notebook-container');\nif (notebookContainer) {{\n    x.observe(notebookContainer, {childList: true});\n}}\n\n// Listen for the clearing of the current output cell\nvar outputEl = gd.closest('.output');\nif (outputEl) {{\n    x.observe(outputEl, {childList: true});\n}}\n\n                        })                };                });            </script>        </div>"
     },
     "metadata": {},
     "output_type": "display_data"
    }
   ],
   "source": [
    "from sklearn.model_selection import ParameterGrid\n",
    "\n",
    "df = []\n",
    "for setting in ParameterGrid(dict(k=range(10), s=np.linspace(0, 5, 10), repetition=range(10))):\n",
    "    y = y_ + np.random.normal(scale=setting[\"s\"], size=len(y_))\n",
    "    y_hat = make_pipeline(PolynomialFeatures(setting[\"k\"]), LinearRegression(fit_intercept=False)).fit(X, y).predict(X)\n",
    "    \n",
    "    df.append([setting[\"k\"], setting[\"s\"], np.mean((y-y_hat)**2)])\n",
    "    \n",
    "df = pd.DataFrame.from_records(df, columns=[\"k\", \"sigma\",\"mse\"]).groupby([\"k\",\"sigma\"]).mean().reset_index()\n",
    "\n",
    "go.Figure(go.Heatmap(x=df.k, y=df.sigma, z=df.mse, colorscale=\"amp\"),\n",
    "          layout=go.Layout(title=r\"$\\text{(6) Average Train } MSE \\text{ As Function of } \\left(k,\\sigma^2\\right)$\", \n",
    "                           xaxis_title=r\"$k$ - Fitted Polynomial Degree\",\n",
    "                           yaxis_title=r\"$\\sigma^2$ - Noise Levels\")).show()\n"
   ]
  },
  {
   "cell_type": "markdown",
   "metadata": {
    "pycharm": {
     "name": "#%% md\n"
    }
   },
   "source": [
    "# Time To Think...\n",
    "\n",
    "In the above figure, we observe the following trends:\n",
    "- As already seen before, for the noise-free data, once we reach the correct $k$ we achieve zero MSE.\n",
    "- Across all values of $k$, as we increase $\\sigma^2$ we get higher MSE values.\n",
    "- For all noise levels, we manage to reduce MSE values by increasing $k$.\n",
    "\n",
    "So, by choosing a **richer** hypothesis class (i.e. larger and that can express more functions - polynomials of higher\n",
    "degree) we are able to choose an hypothesis that fits the **observed** data **better**, regardless to how noisy the data is.\n",
    "Try and think how the above heatmap would look if instead of calculating the MSE over the training samples (i.e train error)\n",
    "we would have calculated it over a **new** set of test samples drawn from the same distribution.\n",
    "\n",
    "Use the below code to create a test set. Change the code generating figure 6 such that the reported error is a test error. Do not forget to add the noise (that depends on $\\sigma^2$) to the test data. What has changed between what we observe for the train error to the test error? What happens for high/low values of $\\sigma^2$? What happens for high/low values of $k$?"
   ]
  },
  {
   "cell_type": "code",
   "execution_count": 19,
   "metadata": {},
   "outputs": [],
   "source": [
    "# Generate the x values of the test set\n",
    "testX = np.linspace(-1.2, 2, 40)[1::2].reshape(-1,1)\n",
    "\n",
    "# Generate the noisy y values of the test set. Set the noise level (the scale parameter) according to the specific setting\n",
    "testY = response(testX) + np.random.normal(scale=0, size=len(y_))"
   ]
  },
  {
   "cell_type": "code",
   "execution_count": 20,
   "outputs": [
    {
     "data": {
      "application/vnd.plotly.v1+json": {
       "data": [
        {
         "colorscale": [
          [
           0.0,
           "rgb(241, 236, 236)"
          ],
          [
           0.09090909090909091,
           "rgb(230, 209, 203)"
          ],
          [
           0.18181818181818182,
           "rgb(221, 182, 170)"
          ],
          [
           0.2727272727272727,
           "rgb(213, 156, 137)"
          ],
          [
           0.36363636363636365,
           "rgb(205, 129, 103)"
          ],
          [
           0.45454545454545453,
           "rgb(196, 102, 73)"
          ],
          [
           0.5454545454545454,
           "rgb(186, 74, 47)"
          ],
          [
           0.6363636363636364,
           "rgb(172, 44, 36)"
          ],
          [
           0.7272727272727273,
           "rgb(149, 19, 39)"
          ],
          [
           0.8181818181818182,
           "rgb(120, 14, 40)"
          ],
          [
           0.9090909090909091,
           "rgb(89, 13, 31)"
          ],
          [
           1.0,
           "rgb(60, 9, 17)"
          ]
         ],
         "x": [
          0,
          0,
          0,
          0,
          0,
          0,
          0,
          0,
          0,
          0,
          1,
          1,
          1,
          1,
          1,
          1,
          1,
          1,
          1,
          1,
          2,
          2,
          2,
          2,
          2,
          2,
          2,
          2,
          2,
          2,
          3,
          3,
          3,
          3,
          3,
          3,
          3,
          3,
          3,
          3,
          4,
          4,
          4,
          4,
          4,
          4,
          4,
          4,
          4,
          4,
          5,
          5,
          5,
          5,
          5,
          5,
          5,
          5,
          5,
          5,
          6,
          6,
          6,
          6,
          6,
          6,
          6,
          6,
          6,
          6,
          7,
          7,
          7,
          7,
          7,
          7,
          7,
          7,
          7,
          7,
          8,
          8,
          8,
          8,
          8,
          8,
          8,
          8,
          8,
          8,
          9,
          9,
          9,
          9,
          9,
          9,
          9,
          9,
          9,
          9
         ],
         "y": [
          0.0,
          0.5555555555555556,
          1.1111111111111112,
          1.6666666666666667,
          2.2222222222222223,
          2.7777777777777777,
          3.3333333333333335,
          3.8888888888888893,
          4.444444444444445,
          5.0,
          0.0,
          0.5555555555555556,
          1.1111111111111112,
          1.6666666666666667,
          2.2222222222222223,
          2.7777777777777777,
          3.3333333333333335,
          3.8888888888888893,
          4.444444444444445,
          5.0,
          0.0,
          0.5555555555555556,
          1.1111111111111112,
          1.6666666666666667,
          2.2222222222222223,
          2.7777777777777777,
          3.3333333333333335,
          3.8888888888888893,
          4.444444444444445,
          5.0,
          0.0,
          0.5555555555555556,
          1.1111111111111112,
          1.6666666666666667,
          2.2222222222222223,
          2.7777777777777777,
          3.3333333333333335,
          3.8888888888888893,
          4.444444444444445,
          5.0,
          0.0,
          0.5555555555555556,
          1.1111111111111112,
          1.6666666666666667,
          2.2222222222222223,
          2.7777777777777777,
          3.3333333333333335,
          3.8888888888888893,
          4.444444444444445,
          5.0,
          0.0,
          0.5555555555555556,
          1.1111111111111112,
          1.6666666666666667,
          2.2222222222222223,
          2.7777777777777777,
          3.3333333333333335,
          3.8888888888888893,
          4.444444444444445,
          5.0,
          0.0,
          0.5555555555555556,
          1.1111111111111112,
          1.6666666666666667,
          2.2222222222222223,
          2.7777777777777777,
          3.3333333333333335,
          3.8888888888888893,
          4.444444444444445,
          5.0,
          0.0,
          0.5555555555555556,
          1.1111111111111112,
          1.6666666666666667,
          2.2222222222222223,
          2.7777777777777777,
          3.3333333333333335,
          3.8888888888888893,
          4.444444444444445,
          5.0,
          0.0,
          0.5555555555555556,
          1.1111111111111112,
          1.6666666666666667,
          2.2222222222222223,
          2.7777777777777777,
          3.3333333333333335,
          3.8888888888888893,
          4.444444444444445,
          5.0,
          0.0,
          0.5555555555555556,
          1.1111111111111112,
          1.6666666666666667,
          2.2222222222222223,
          2.7777777777777777,
          3.3333333333333335,
          3.8888888888888893,
          4.444444444444445,
          5.0
         ],
         "z": [
          2.8173839575434734,
          2.846771224840213,
          2.8732135247595356,
          3.198785584769066,
          3.08299972766827,
          3.117021561576707,
          3.622654254560153,
          3.815438389994367,
          4.352614282595118,
          4.176527443018456,
          5.861497739413243,
          5.99270283538308,
          5.521827702884067,
          6.304080765258382,
          7.255708590060678,
          5.8190406175282385,
          7.648243810577978,
          8.418512649339021,
          9.924473759377266,
          9.086883815252815,
          5.7494709949287355,
          5.811307668984361,
          6.227988379088556,
          5.704936937596602,
          6.281402391103702,
          6.904311138172256,
          5.602797613246202,
          6.723702739256417,
          9.18977562635746,
          7.009348840163213,
          5.8638404999629845,
          5.848255178063869,
          5.97756458828375,
          5.881647299043284,
          5.94814342022246,
          7.232462153375687,
          8.517831101245365,
          7.8692027543683505,
          8.851782767457058,
          11.700342048167744,
          5.570826609226688,
          5.6826976407387,
          5.591916997817841,
          5.678019776156579,
          6.504233591744486,
          7.392523379486197,
          7.9397163503955905,
          10.31665170409415,
          9.977762521883855,
          10.976638062393707,
          5.570826609226691,
          5.485289699701315,
          6.392145549152148,
          6.127229372266794,
          6.5183537229400175,
          9.6439457370366,
          8.233843105307958,
          9.35958146438885,
          11.121525023903716,
          14.405692714996409,
          5.570826609226763,
          5.546075713834428,
          6.123994709038534,
          6.577172737217323,
          7.06915232009055,
          9.209631694728625,
          9.974387912745419,
          11.123519578077122,
          15.45826491724543,
          16.01405895493637,
          5.570826609226699,
          5.728698174753809,
          6.475277216544448,
          8.114299056595558,
          8.479996969241217,
          9.681422616862356,
          14.49912632269791,
          15.225001794830149,
          12.778081360476017,
          14.377612860967616,
          5.570826609226405,
          5.803541669974189,
          7.412538593188964,
          8.79756400003731,
          11.847824177612804,
          15.63374726764781,
          18.353061976206476,
          17.53771590703474,
          19.492897601314283,
          42.774194639078,
          5.570826609226665,
          6.056988689014849,
          7.291407684113301,
          8.543743138149425,
          14.559037156501597,
          16.690205843081067,
          17.685603659746135,
          25.62737112977586,
          28.267415257031473,
          41.37908559090857
         ],
         "type": "heatmap"
        }
       ],
       "layout": {
        "title": {
         "text": "$\\text{(6) Average Train } MSE \\text{ As Function of } \\left(k,\\sigma^2\\right)$"
        },
        "xaxis": {
         "title": {
          "text": "$k$ - Fitted Polynomial Degree"
         }
        },
        "yaxis": {
         "title": {
          "text": "$\\sigma^2$ - Noise Levels"
         }
        },
        "template": {
         "data": {
          "barpolar": [
           {
            "marker": {
             "line": {
              "color": "white",
              "width": 0.5
             },
             "pattern": {
              "fillmode": "overlay",
              "size": 10,
              "solidity": 0.2
             }
            },
            "type": "barpolar"
           }
          ],
          "bar": [
           {
            "error_x": {
             "color": "rgb(36,36,36)"
            },
            "error_y": {
             "color": "rgb(36,36,36)"
            },
            "marker": {
             "line": {
              "color": "white",
              "width": 0.5
             },
             "pattern": {
              "fillmode": "overlay",
              "size": 10,
              "solidity": 0.2
             }
            },
            "type": "bar"
           }
          ],
          "carpet": [
           {
            "aaxis": {
             "endlinecolor": "rgb(36,36,36)",
             "gridcolor": "white",
             "linecolor": "white",
             "minorgridcolor": "white",
             "startlinecolor": "rgb(36,36,36)"
            },
            "baxis": {
             "endlinecolor": "rgb(36,36,36)",
             "gridcolor": "white",
             "linecolor": "white",
             "minorgridcolor": "white",
             "startlinecolor": "rgb(36,36,36)"
            },
            "type": "carpet"
           }
          ],
          "choropleth": [
           {
            "colorbar": {
             "outlinewidth": 1,
             "tickcolor": "rgb(36,36,36)",
             "ticks": "outside"
            },
            "type": "choropleth"
           }
          ],
          "contourcarpet": [
           {
            "colorbar": {
             "outlinewidth": 1,
             "tickcolor": "rgb(36,36,36)",
             "ticks": "outside"
            },
            "type": "contourcarpet"
           }
          ],
          "contour": [
           {
            "colorbar": {
             "outlinewidth": 1,
             "tickcolor": "rgb(36,36,36)",
             "ticks": "outside"
            },
            "colorscale": [
             [
              0.0,
              "#440154"
             ],
             [
              0.1111111111111111,
              "#482878"
             ],
             [
              0.2222222222222222,
              "#3e4989"
             ],
             [
              0.3333333333333333,
              "#31688e"
             ],
             [
              0.4444444444444444,
              "#26828e"
             ],
             [
              0.5555555555555556,
              "#1f9e89"
             ],
             [
              0.6666666666666666,
              "#35b779"
             ],
             [
              0.7777777777777778,
              "#6ece58"
             ],
             [
              0.8888888888888888,
              "#b5de2b"
             ],
             [
              1.0,
              "#fde725"
             ]
            ],
            "type": "contour"
           }
          ],
          "heatmapgl": [
           {
            "colorbar": {
             "outlinewidth": 1,
             "tickcolor": "rgb(36,36,36)",
             "ticks": "outside"
            },
            "colorscale": [
             [
              0.0,
              "#440154"
             ],
             [
              0.1111111111111111,
              "#482878"
             ],
             [
              0.2222222222222222,
              "#3e4989"
             ],
             [
              0.3333333333333333,
              "#31688e"
             ],
             [
              0.4444444444444444,
              "#26828e"
             ],
             [
              0.5555555555555556,
              "#1f9e89"
             ],
             [
              0.6666666666666666,
              "#35b779"
             ],
             [
              0.7777777777777778,
              "#6ece58"
             ],
             [
              0.8888888888888888,
              "#b5de2b"
             ],
             [
              1.0,
              "#fde725"
             ]
            ],
            "type": "heatmapgl"
           }
          ],
          "heatmap": [
           {
            "colorbar": {
             "outlinewidth": 1,
             "tickcolor": "rgb(36,36,36)",
             "ticks": "outside"
            },
            "colorscale": [
             [
              0.0,
              "#440154"
             ],
             [
              0.1111111111111111,
              "#482878"
             ],
             [
              0.2222222222222222,
              "#3e4989"
             ],
             [
              0.3333333333333333,
              "#31688e"
             ],
             [
              0.4444444444444444,
              "#26828e"
             ],
             [
              0.5555555555555556,
              "#1f9e89"
             ],
             [
              0.6666666666666666,
              "#35b779"
             ],
             [
              0.7777777777777778,
              "#6ece58"
             ],
             [
              0.8888888888888888,
              "#b5de2b"
             ],
             [
              1.0,
              "#fde725"
             ]
            ],
            "type": "heatmap"
           }
          ],
          "histogram2dcontour": [
           {
            "colorbar": {
             "outlinewidth": 1,
             "tickcolor": "rgb(36,36,36)",
             "ticks": "outside"
            },
            "colorscale": [
             [
              0.0,
              "#440154"
             ],
             [
              0.1111111111111111,
              "#482878"
             ],
             [
              0.2222222222222222,
              "#3e4989"
             ],
             [
              0.3333333333333333,
              "#31688e"
             ],
             [
              0.4444444444444444,
              "#26828e"
             ],
             [
              0.5555555555555556,
              "#1f9e89"
             ],
             [
              0.6666666666666666,
              "#35b779"
             ],
             [
              0.7777777777777778,
              "#6ece58"
             ],
             [
              0.8888888888888888,
              "#b5de2b"
             ],
             [
              1.0,
              "#fde725"
             ]
            ],
            "type": "histogram2dcontour"
           }
          ],
          "histogram2d": [
           {
            "colorbar": {
             "outlinewidth": 1,
             "tickcolor": "rgb(36,36,36)",
             "ticks": "outside"
            },
            "colorscale": [
             [
              0.0,
              "#440154"
             ],
             [
              0.1111111111111111,
              "#482878"
             ],
             [
              0.2222222222222222,
              "#3e4989"
             ],
             [
              0.3333333333333333,
              "#31688e"
             ],
             [
              0.4444444444444444,
              "#26828e"
             ],
             [
              0.5555555555555556,
              "#1f9e89"
             ],
             [
              0.6666666666666666,
              "#35b779"
             ],
             [
              0.7777777777777778,
              "#6ece58"
             ],
             [
              0.8888888888888888,
              "#b5de2b"
             ],
             [
              1.0,
              "#fde725"
             ]
            ],
            "type": "histogram2d"
           }
          ],
          "histogram": [
           {
            "marker": {
             "line": {
              "color": "white",
              "width": 0.6
             }
            },
            "type": "histogram"
           }
          ],
          "mesh3d": [
           {
            "colorbar": {
             "outlinewidth": 1,
             "tickcolor": "rgb(36,36,36)",
             "ticks": "outside"
            },
            "type": "mesh3d"
           }
          ],
          "parcoords": [
           {
            "line": {
             "colorbar": {
              "outlinewidth": 1,
              "tickcolor": "rgb(36,36,36)",
              "ticks": "outside"
             }
            },
            "type": "parcoords"
           }
          ],
          "pie": [
           {
            "automargin": true,
            "type": "pie"
           }
          ],
          "scatter3d": [
           {
            "line": {
             "colorbar": {
              "outlinewidth": 1,
              "tickcolor": "rgb(36,36,36)",
              "ticks": "outside"
             }
            },
            "marker": {
             "colorbar": {
              "outlinewidth": 1,
              "tickcolor": "rgb(36,36,36)",
              "ticks": "outside"
             }
            },
            "type": "scatter3d"
           }
          ],
          "scattercarpet": [
           {
            "marker": {
             "colorbar": {
              "outlinewidth": 1,
              "tickcolor": "rgb(36,36,36)",
              "ticks": "outside"
             }
            },
            "type": "scattercarpet"
           }
          ],
          "scattergeo": [
           {
            "marker": {
             "colorbar": {
              "outlinewidth": 1,
              "tickcolor": "rgb(36,36,36)",
              "ticks": "outside"
             }
            },
            "type": "scattergeo"
           }
          ],
          "scattergl": [
           {
            "marker": {
             "colorbar": {
              "outlinewidth": 1,
              "tickcolor": "rgb(36,36,36)",
              "ticks": "outside"
             }
            },
            "type": "scattergl"
           }
          ],
          "scattermapbox": [
           {
            "marker": {
             "colorbar": {
              "outlinewidth": 1,
              "tickcolor": "rgb(36,36,36)",
              "ticks": "outside"
             }
            },
            "type": "scattermapbox"
           }
          ],
          "scatterpolargl": [
           {
            "marker": {
             "colorbar": {
              "outlinewidth": 1,
              "tickcolor": "rgb(36,36,36)",
              "ticks": "outside"
             }
            },
            "type": "scatterpolargl"
           }
          ],
          "scatterpolar": [
           {
            "marker": {
             "colorbar": {
              "outlinewidth": 1,
              "tickcolor": "rgb(36,36,36)",
              "ticks": "outside"
             }
            },
            "type": "scatterpolar"
           }
          ],
          "scatter": [
           {
            "fillpattern": {
             "fillmode": "overlay",
             "size": 10,
             "solidity": 0.2
            },
            "type": "scatter"
           }
          ],
          "scatterternary": [
           {
            "marker": {
             "colorbar": {
              "outlinewidth": 1,
              "tickcolor": "rgb(36,36,36)",
              "ticks": "outside"
             }
            },
            "type": "scatterternary"
           }
          ],
          "surface": [
           {
            "colorbar": {
             "outlinewidth": 1,
             "tickcolor": "rgb(36,36,36)",
             "ticks": "outside"
            },
            "colorscale": [
             [
              0.0,
              "#440154"
             ],
             [
              0.1111111111111111,
              "#482878"
             ],
             [
              0.2222222222222222,
              "#3e4989"
             ],
             [
              0.3333333333333333,
              "#31688e"
             ],
             [
              0.4444444444444444,
              "#26828e"
             ],
             [
              0.5555555555555556,
              "#1f9e89"
             ],
             [
              0.6666666666666666,
              "#35b779"
             ],
             [
              0.7777777777777778,
              "#6ece58"
             ],
             [
              0.8888888888888888,
              "#b5de2b"
             ],
             [
              1.0,
              "#fde725"
             ]
            ],
            "type": "surface"
           }
          ],
          "table": [
           {
            "cells": {
             "fill": {
              "color": "rgb(237,237,237)"
             },
             "line": {
              "color": "white"
             }
            },
            "header": {
             "fill": {
              "color": "rgb(217,217,217)"
             },
             "line": {
              "color": "white"
             }
            },
            "type": "table"
           }
          ]
         },
         "layout": {
          "annotationdefaults": {
           "arrowhead": 0,
           "arrowwidth": 1
          },
          "autotypenumbers": "strict",
          "coloraxis": {
           "colorbar": {
            "outlinewidth": 1,
            "tickcolor": "rgb(36,36,36)",
            "ticks": "outside"
           }
          },
          "colorscale": {
           "diverging": [
            [
             0.0,
             "rgb(103,0,31)"
            ],
            [
             0.1,
             "rgb(178,24,43)"
            ],
            [
             0.2,
             "rgb(214,96,77)"
            ],
            [
             0.3,
             "rgb(244,165,130)"
            ],
            [
             0.4,
             "rgb(253,219,199)"
            ],
            [
             0.5,
             "rgb(247,247,247)"
            ],
            [
             0.6,
             "rgb(209,229,240)"
            ],
            [
             0.7,
             "rgb(146,197,222)"
            ],
            [
             0.8,
             "rgb(67,147,195)"
            ],
            [
             0.9,
             "rgb(33,102,172)"
            ],
            [
             1.0,
             "rgb(5,48,97)"
            ]
           ],
           "sequential": [
            [
             0.0,
             "#440154"
            ],
            [
             0.1111111111111111,
             "#482878"
            ],
            [
             0.2222222222222222,
             "#3e4989"
            ],
            [
             0.3333333333333333,
             "#31688e"
            ],
            [
             0.4444444444444444,
             "#26828e"
            ],
            [
             0.5555555555555556,
             "#1f9e89"
            ],
            [
             0.6666666666666666,
             "#35b779"
            ],
            [
             0.7777777777777778,
             "#6ece58"
            ],
            [
             0.8888888888888888,
             "#b5de2b"
            ],
            [
             1.0,
             "#fde725"
            ]
           ],
           "sequentialminus": [
            [
             0.0,
             "#440154"
            ],
            [
             0.1111111111111111,
             "#482878"
            ],
            [
             0.2222222222222222,
             "#3e4989"
            ],
            [
             0.3333333333333333,
             "#31688e"
            ],
            [
             0.4444444444444444,
             "#26828e"
            ],
            [
             0.5555555555555556,
             "#1f9e89"
            ],
            [
             0.6666666666666666,
             "#35b779"
            ],
            [
             0.7777777777777778,
             "#6ece58"
            ],
            [
             0.8888888888888888,
             "#b5de2b"
            ],
            [
             1.0,
             "#fde725"
            ]
           ]
          },
          "colorway": [
           "#1F77B4",
           "#FF7F0E",
           "#2CA02C",
           "#D62728",
           "#9467BD",
           "#8C564B",
           "#E377C2",
           "#7F7F7F",
           "#BCBD22",
           "#17BECF"
          ],
          "font": {
           "color": "rgb(36,36,36)"
          },
          "geo": {
           "bgcolor": "white",
           "lakecolor": "white",
           "landcolor": "white",
           "showlakes": true,
           "showland": true,
           "subunitcolor": "white"
          },
          "hoverlabel": {
           "align": "left"
          },
          "hovermode": "closest",
          "mapbox": {
           "style": "light"
          },
          "paper_bgcolor": "white",
          "plot_bgcolor": "white",
          "polar": {
           "angularaxis": {
            "gridcolor": "rgb(232,232,232)",
            "linecolor": "rgb(36,36,36)",
            "showgrid": false,
            "showline": true,
            "ticks": "outside"
           },
           "bgcolor": "white",
           "radialaxis": {
            "gridcolor": "rgb(232,232,232)",
            "linecolor": "rgb(36,36,36)",
            "showgrid": false,
            "showline": true,
            "ticks": "outside"
           }
          },
          "scene": {
           "xaxis": {
            "backgroundcolor": "white",
            "gridcolor": "rgb(232,232,232)",
            "gridwidth": 2,
            "linecolor": "rgb(36,36,36)",
            "showbackground": true,
            "showgrid": false,
            "showline": true,
            "ticks": "outside",
            "zeroline": false,
            "zerolinecolor": "rgb(36,36,36)"
           },
           "yaxis": {
            "backgroundcolor": "white",
            "gridcolor": "rgb(232,232,232)",
            "gridwidth": 2,
            "linecolor": "rgb(36,36,36)",
            "showbackground": true,
            "showgrid": false,
            "showline": true,
            "ticks": "outside",
            "zeroline": false,
            "zerolinecolor": "rgb(36,36,36)"
           },
           "zaxis": {
            "backgroundcolor": "white",
            "gridcolor": "rgb(232,232,232)",
            "gridwidth": 2,
            "linecolor": "rgb(36,36,36)",
            "showbackground": true,
            "showgrid": false,
            "showline": true,
            "ticks": "outside",
            "zeroline": false,
            "zerolinecolor": "rgb(36,36,36)"
           }
          },
          "shapedefaults": {
           "fillcolor": "black",
           "line": {
            "width": 0
           },
           "opacity": 0.3
          },
          "ternary": {
           "aaxis": {
            "gridcolor": "rgb(232,232,232)",
            "linecolor": "rgb(36,36,36)",
            "showgrid": false,
            "showline": true,
            "ticks": "outside"
           },
           "baxis": {
            "gridcolor": "rgb(232,232,232)",
            "linecolor": "rgb(36,36,36)",
            "showgrid": false,
            "showline": true,
            "ticks": "outside"
           },
           "bgcolor": "white",
           "caxis": {
            "gridcolor": "rgb(232,232,232)",
            "linecolor": "rgb(36,36,36)",
            "showgrid": false,
            "showline": true,
            "ticks": "outside"
           }
          },
          "title": {
           "x": 0.05
          },
          "xaxis": {
           "automargin": true,
           "gridcolor": "rgb(232,232,232)",
           "linecolor": "rgb(36,36,36)",
           "showgrid": false,
           "showline": true,
           "ticks": "outside",
           "title": {
            "standoff": 15
           },
           "zeroline": false,
           "zerolinecolor": "rgb(36,36,36)"
          },
          "yaxis": {
           "automargin": true,
           "gridcolor": "rgb(232,232,232)",
           "linecolor": "rgb(36,36,36)",
           "showgrid": false,
           "showline": true,
           "ticks": "outside",
           "title": {
            "standoff": 15
           },
           "zeroline": false,
           "zerolinecolor": "rgb(36,36,36)"
          },
          "margin": {
           "b": 0,
           "l": 20,
           "r": 20,
           "t": 40
          }
         }
        }
       },
       "config": {
        "plotlyServerURL": "https://plot.ly"
       }
      },
      "text/html": "<div>                            <div id=\"0b135233-72f5-4acb-b4af-3edf529f88df\" class=\"plotly-graph-div\" style=\"height:525px; width:100%;\"></div>            <script type=\"text/javascript\">                require([\"plotly\"], function(Plotly) {                    window.PLOTLYENV=window.PLOTLYENV || {};                                    if (document.getElementById(\"0b135233-72f5-4acb-b4af-3edf529f88df\")) {                    Plotly.newPlot(                        \"0b135233-72f5-4acb-b4af-3edf529f88df\",                        [{\"colorscale\":[[0.0,\"rgb(241, 236, 236)\"],[0.09090909090909091,\"rgb(230, 209, 203)\"],[0.18181818181818182,\"rgb(221, 182, 170)\"],[0.2727272727272727,\"rgb(213, 156, 137)\"],[0.36363636363636365,\"rgb(205, 129, 103)\"],[0.45454545454545453,\"rgb(196, 102, 73)\"],[0.5454545454545454,\"rgb(186, 74, 47)\"],[0.6363636363636364,\"rgb(172, 44, 36)\"],[0.7272727272727273,\"rgb(149, 19, 39)\"],[0.8181818181818182,\"rgb(120, 14, 40)\"],[0.9090909090909091,\"rgb(89, 13, 31)\"],[1.0,\"rgb(60, 9, 17)\"]],\"x\":[0,0,0,0,0,0,0,0,0,0,1,1,1,1,1,1,1,1,1,1,2,2,2,2,2,2,2,2,2,2,3,3,3,3,3,3,3,3,3,3,4,4,4,4,4,4,4,4,4,4,5,5,5,5,5,5,5,5,5,5,6,6,6,6,6,6,6,6,6,6,7,7,7,7,7,7,7,7,7,7,8,8,8,8,8,8,8,8,8,8,9,9,9,9,9,9,9,9,9,9],\"y\":[0.0,0.5555555555555556,1.1111111111111112,1.6666666666666667,2.2222222222222223,2.7777777777777777,3.3333333333333335,3.8888888888888893,4.444444444444445,5.0,0.0,0.5555555555555556,1.1111111111111112,1.6666666666666667,2.2222222222222223,2.7777777777777777,3.3333333333333335,3.8888888888888893,4.444444444444445,5.0,0.0,0.5555555555555556,1.1111111111111112,1.6666666666666667,2.2222222222222223,2.7777777777777777,3.3333333333333335,3.8888888888888893,4.444444444444445,5.0,0.0,0.5555555555555556,1.1111111111111112,1.6666666666666667,2.2222222222222223,2.7777777777777777,3.3333333333333335,3.8888888888888893,4.444444444444445,5.0,0.0,0.5555555555555556,1.1111111111111112,1.6666666666666667,2.2222222222222223,2.7777777777777777,3.3333333333333335,3.8888888888888893,4.444444444444445,5.0,0.0,0.5555555555555556,1.1111111111111112,1.6666666666666667,2.2222222222222223,2.7777777777777777,3.3333333333333335,3.8888888888888893,4.444444444444445,5.0,0.0,0.5555555555555556,1.1111111111111112,1.6666666666666667,2.2222222222222223,2.7777777777777777,3.3333333333333335,3.8888888888888893,4.444444444444445,5.0,0.0,0.5555555555555556,1.1111111111111112,1.6666666666666667,2.2222222222222223,2.7777777777777777,3.3333333333333335,3.8888888888888893,4.444444444444445,5.0,0.0,0.5555555555555556,1.1111111111111112,1.6666666666666667,2.2222222222222223,2.7777777777777777,3.3333333333333335,3.8888888888888893,4.444444444444445,5.0,0.0,0.5555555555555556,1.1111111111111112,1.6666666666666667,2.2222222222222223,2.7777777777777777,3.3333333333333335,3.8888888888888893,4.444444444444445,5.0],\"z\":[2.8173839575434734,2.846771224840213,2.8732135247595356,3.198785584769066,3.08299972766827,3.117021561576707,3.622654254560153,3.815438389994367,4.352614282595118,4.176527443018456,5.861497739413243,5.99270283538308,5.521827702884067,6.304080765258382,7.255708590060678,5.8190406175282385,7.648243810577978,8.418512649339021,9.924473759377266,9.086883815252815,5.7494709949287355,5.811307668984361,6.227988379088556,5.704936937596602,6.281402391103702,6.904311138172256,5.602797613246202,6.723702739256417,9.18977562635746,7.009348840163213,5.8638404999629845,5.848255178063869,5.97756458828375,5.881647299043284,5.94814342022246,7.232462153375687,8.517831101245365,7.8692027543683505,8.851782767457058,11.700342048167744,5.570826609226688,5.6826976407387,5.591916997817841,5.678019776156579,6.504233591744486,7.392523379486197,7.9397163503955905,10.31665170409415,9.977762521883855,10.976638062393707,5.570826609226691,5.485289699701315,6.392145549152148,6.127229372266794,6.5183537229400175,9.6439457370366,8.233843105307958,9.35958146438885,11.121525023903716,14.405692714996409,5.570826609226763,5.546075713834428,6.123994709038534,6.577172737217323,7.06915232009055,9.209631694728625,9.974387912745419,11.123519578077122,15.45826491724543,16.01405895493637,5.570826609226699,5.728698174753809,6.475277216544448,8.114299056595558,8.479996969241217,9.681422616862356,14.49912632269791,15.225001794830149,12.778081360476017,14.377612860967616,5.570826609226405,5.803541669974189,7.412538593188964,8.79756400003731,11.847824177612804,15.63374726764781,18.353061976206476,17.53771590703474,19.492897601314283,42.774194639078,5.570826609226665,6.056988689014849,7.291407684113301,8.543743138149425,14.559037156501597,16.690205843081067,17.685603659746135,25.62737112977586,28.267415257031473,41.37908559090857],\"type\":\"heatmap\"}],                        {\"title\":{\"text\":\"$\\\\text{(6) Average Train } MSE \\\\text{ As Function of } \\\\left(k,\\\\sigma^2\\\\right)$\"},\"xaxis\":{\"title\":{\"text\":\"$k$ - Fitted Polynomial Degree\"}},\"yaxis\":{\"title\":{\"text\":\"$\\\\sigma^2$ - Noise Levels\"}},\"template\":{\"data\":{\"barpolar\":[{\"marker\":{\"line\":{\"color\":\"white\",\"width\":0.5},\"pattern\":{\"fillmode\":\"overlay\",\"size\":10,\"solidity\":0.2}},\"type\":\"barpolar\"}],\"bar\":[{\"error_x\":{\"color\":\"rgb(36,36,36)\"},\"error_y\":{\"color\":\"rgb(36,36,36)\"},\"marker\":{\"line\":{\"color\":\"white\",\"width\":0.5},\"pattern\":{\"fillmode\":\"overlay\",\"size\":10,\"solidity\":0.2}},\"type\":\"bar\"}],\"carpet\":[{\"aaxis\":{\"endlinecolor\":\"rgb(36,36,36)\",\"gridcolor\":\"white\",\"linecolor\":\"white\",\"minorgridcolor\":\"white\",\"startlinecolor\":\"rgb(36,36,36)\"},\"baxis\":{\"endlinecolor\":\"rgb(36,36,36)\",\"gridcolor\":\"white\",\"linecolor\":\"white\",\"minorgridcolor\":\"white\",\"startlinecolor\":\"rgb(36,36,36)\"},\"type\":\"carpet\"}],\"choropleth\":[{\"colorbar\":{\"outlinewidth\":1,\"tickcolor\":\"rgb(36,36,36)\",\"ticks\":\"outside\"},\"type\":\"choropleth\"}],\"contourcarpet\":[{\"colorbar\":{\"outlinewidth\":1,\"tickcolor\":\"rgb(36,36,36)\",\"ticks\":\"outside\"},\"type\":\"contourcarpet\"}],\"contour\":[{\"colorbar\":{\"outlinewidth\":1,\"tickcolor\":\"rgb(36,36,36)\",\"ticks\":\"outside\"},\"colorscale\":[[0.0,\"#440154\"],[0.1111111111111111,\"#482878\"],[0.2222222222222222,\"#3e4989\"],[0.3333333333333333,\"#31688e\"],[0.4444444444444444,\"#26828e\"],[0.5555555555555556,\"#1f9e89\"],[0.6666666666666666,\"#35b779\"],[0.7777777777777778,\"#6ece58\"],[0.8888888888888888,\"#b5de2b\"],[1.0,\"#fde725\"]],\"type\":\"contour\"}],\"heatmapgl\":[{\"colorbar\":{\"outlinewidth\":1,\"tickcolor\":\"rgb(36,36,36)\",\"ticks\":\"outside\"},\"colorscale\":[[0.0,\"#440154\"],[0.1111111111111111,\"#482878\"],[0.2222222222222222,\"#3e4989\"],[0.3333333333333333,\"#31688e\"],[0.4444444444444444,\"#26828e\"],[0.5555555555555556,\"#1f9e89\"],[0.6666666666666666,\"#35b779\"],[0.7777777777777778,\"#6ece58\"],[0.8888888888888888,\"#b5de2b\"],[1.0,\"#fde725\"]],\"type\":\"heatmapgl\"}],\"heatmap\":[{\"colorbar\":{\"outlinewidth\":1,\"tickcolor\":\"rgb(36,36,36)\",\"ticks\":\"outside\"},\"colorscale\":[[0.0,\"#440154\"],[0.1111111111111111,\"#482878\"],[0.2222222222222222,\"#3e4989\"],[0.3333333333333333,\"#31688e\"],[0.4444444444444444,\"#26828e\"],[0.5555555555555556,\"#1f9e89\"],[0.6666666666666666,\"#35b779\"],[0.7777777777777778,\"#6ece58\"],[0.8888888888888888,\"#b5de2b\"],[1.0,\"#fde725\"]],\"type\":\"heatmap\"}],\"histogram2dcontour\":[{\"colorbar\":{\"outlinewidth\":1,\"tickcolor\":\"rgb(36,36,36)\",\"ticks\":\"outside\"},\"colorscale\":[[0.0,\"#440154\"],[0.1111111111111111,\"#482878\"],[0.2222222222222222,\"#3e4989\"],[0.3333333333333333,\"#31688e\"],[0.4444444444444444,\"#26828e\"],[0.5555555555555556,\"#1f9e89\"],[0.6666666666666666,\"#35b779\"],[0.7777777777777778,\"#6ece58\"],[0.8888888888888888,\"#b5de2b\"],[1.0,\"#fde725\"]],\"type\":\"histogram2dcontour\"}],\"histogram2d\":[{\"colorbar\":{\"outlinewidth\":1,\"tickcolor\":\"rgb(36,36,36)\",\"ticks\":\"outside\"},\"colorscale\":[[0.0,\"#440154\"],[0.1111111111111111,\"#482878\"],[0.2222222222222222,\"#3e4989\"],[0.3333333333333333,\"#31688e\"],[0.4444444444444444,\"#26828e\"],[0.5555555555555556,\"#1f9e89\"],[0.6666666666666666,\"#35b779\"],[0.7777777777777778,\"#6ece58\"],[0.8888888888888888,\"#b5de2b\"],[1.0,\"#fde725\"]],\"type\":\"histogram2d\"}],\"histogram\":[{\"marker\":{\"line\":{\"color\":\"white\",\"width\":0.6}},\"type\":\"histogram\"}],\"mesh3d\":[{\"colorbar\":{\"outlinewidth\":1,\"tickcolor\":\"rgb(36,36,36)\",\"ticks\":\"outside\"},\"type\":\"mesh3d\"}],\"parcoords\":[{\"line\":{\"colorbar\":{\"outlinewidth\":1,\"tickcolor\":\"rgb(36,36,36)\",\"ticks\":\"outside\"}},\"type\":\"parcoords\"}],\"pie\":[{\"automargin\":true,\"type\":\"pie\"}],\"scatter3d\":[{\"line\":{\"colorbar\":{\"outlinewidth\":1,\"tickcolor\":\"rgb(36,36,36)\",\"ticks\":\"outside\"}},\"marker\":{\"colorbar\":{\"outlinewidth\":1,\"tickcolor\":\"rgb(36,36,36)\",\"ticks\":\"outside\"}},\"type\":\"scatter3d\"}],\"scattercarpet\":[{\"marker\":{\"colorbar\":{\"outlinewidth\":1,\"tickcolor\":\"rgb(36,36,36)\",\"ticks\":\"outside\"}},\"type\":\"scattercarpet\"}],\"scattergeo\":[{\"marker\":{\"colorbar\":{\"outlinewidth\":1,\"tickcolor\":\"rgb(36,36,36)\",\"ticks\":\"outside\"}},\"type\":\"scattergeo\"}],\"scattergl\":[{\"marker\":{\"colorbar\":{\"outlinewidth\":1,\"tickcolor\":\"rgb(36,36,36)\",\"ticks\":\"outside\"}},\"type\":\"scattergl\"}],\"scattermapbox\":[{\"marker\":{\"colorbar\":{\"outlinewidth\":1,\"tickcolor\":\"rgb(36,36,36)\",\"ticks\":\"outside\"}},\"type\":\"scattermapbox\"}],\"scatterpolargl\":[{\"marker\":{\"colorbar\":{\"outlinewidth\":1,\"tickcolor\":\"rgb(36,36,36)\",\"ticks\":\"outside\"}},\"type\":\"scatterpolargl\"}],\"scatterpolar\":[{\"marker\":{\"colorbar\":{\"outlinewidth\":1,\"tickcolor\":\"rgb(36,36,36)\",\"ticks\":\"outside\"}},\"type\":\"scatterpolar\"}],\"scatter\":[{\"fillpattern\":{\"fillmode\":\"overlay\",\"size\":10,\"solidity\":0.2},\"type\":\"scatter\"}],\"scatterternary\":[{\"marker\":{\"colorbar\":{\"outlinewidth\":1,\"tickcolor\":\"rgb(36,36,36)\",\"ticks\":\"outside\"}},\"type\":\"scatterternary\"}],\"surface\":[{\"colorbar\":{\"outlinewidth\":1,\"tickcolor\":\"rgb(36,36,36)\",\"ticks\":\"outside\"},\"colorscale\":[[0.0,\"#440154\"],[0.1111111111111111,\"#482878\"],[0.2222222222222222,\"#3e4989\"],[0.3333333333333333,\"#31688e\"],[0.4444444444444444,\"#26828e\"],[0.5555555555555556,\"#1f9e89\"],[0.6666666666666666,\"#35b779\"],[0.7777777777777778,\"#6ece58\"],[0.8888888888888888,\"#b5de2b\"],[1.0,\"#fde725\"]],\"type\":\"surface\"}],\"table\":[{\"cells\":{\"fill\":{\"color\":\"rgb(237,237,237)\"},\"line\":{\"color\":\"white\"}},\"header\":{\"fill\":{\"color\":\"rgb(217,217,217)\"},\"line\":{\"color\":\"white\"}},\"type\":\"table\"}]},\"layout\":{\"annotationdefaults\":{\"arrowhead\":0,\"arrowwidth\":1},\"autotypenumbers\":\"strict\",\"coloraxis\":{\"colorbar\":{\"outlinewidth\":1,\"tickcolor\":\"rgb(36,36,36)\",\"ticks\":\"outside\"}},\"colorscale\":{\"diverging\":[[0.0,\"rgb(103,0,31)\"],[0.1,\"rgb(178,24,43)\"],[0.2,\"rgb(214,96,77)\"],[0.3,\"rgb(244,165,130)\"],[0.4,\"rgb(253,219,199)\"],[0.5,\"rgb(247,247,247)\"],[0.6,\"rgb(209,229,240)\"],[0.7,\"rgb(146,197,222)\"],[0.8,\"rgb(67,147,195)\"],[0.9,\"rgb(33,102,172)\"],[1.0,\"rgb(5,48,97)\"]],\"sequential\":[[0.0,\"#440154\"],[0.1111111111111111,\"#482878\"],[0.2222222222222222,\"#3e4989\"],[0.3333333333333333,\"#31688e\"],[0.4444444444444444,\"#26828e\"],[0.5555555555555556,\"#1f9e89\"],[0.6666666666666666,\"#35b779\"],[0.7777777777777778,\"#6ece58\"],[0.8888888888888888,\"#b5de2b\"],[1.0,\"#fde725\"]],\"sequentialminus\":[[0.0,\"#440154\"],[0.1111111111111111,\"#482878\"],[0.2222222222222222,\"#3e4989\"],[0.3333333333333333,\"#31688e\"],[0.4444444444444444,\"#26828e\"],[0.5555555555555556,\"#1f9e89\"],[0.6666666666666666,\"#35b779\"],[0.7777777777777778,\"#6ece58\"],[0.8888888888888888,\"#b5de2b\"],[1.0,\"#fde725\"]]},\"colorway\":[\"#1F77B4\",\"#FF7F0E\",\"#2CA02C\",\"#D62728\",\"#9467BD\",\"#8C564B\",\"#E377C2\",\"#7F7F7F\",\"#BCBD22\",\"#17BECF\"],\"font\":{\"color\":\"rgb(36,36,36)\"},\"geo\":{\"bgcolor\":\"white\",\"lakecolor\":\"white\",\"landcolor\":\"white\",\"showlakes\":true,\"showland\":true,\"subunitcolor\":\"white\"},\"hoverlabel\":{\"align\":\"left\"},\"hovermode\":\"closest\",\"mapbox\":{\"style\":\"light\"},\"paper_bgcolor\":\"white\",\"plot_bgcolor\":\"white\",\"polar\":{\"angularaxis\":{\"gridcolor\":\"rgb(232,232,232)\",\"linecolor\":\"rgb(36,36,36)\",\"showgrid\":false,\"showline\":true,\"ticks\":\"outside\"},\"bgcolor\":\"white\",\"radialaxis\":{\"gridcolor\":\"rgb(232,232,232)\",\"linecolor\":\"rgb(36,36,36)\",\"showgrid\":false,\"showline\":true,\"ticks\":\"outside\"}},\"scene\":{\"xaxis\":{\"backgroundcolor\":\"white\",\"gridcolor\":\"rgb(232,232,232)\",\"gridwidth\":2,\"linecolor\":\"rgb(36,36,36)\",\"showbackground\":true,\"showgrid\":false,\"showline\":true,\"ticks\":\"outside\",\"zeroline\":false,\"zerolinecolor\":\"rgb(36,36,36)\"},\"yaxis\":{\"backgroundcolor\":\"white\",\"gridcolor\":\"rgb(232,232,232)\",\"gridwidth\":2,\"linecolor\":\"rgb(36,36,36)\",\"showbackground\":true,\"showgrid\":false,\"showline\":true,\"ticks\":\"outside\",\"zeroline\":false,\"zerolinecolor\":\"rgb(36,36,36)\"},\"zaxis\":{\"backgroundcolor\":\"white\",\"gridcolor\":\"rgb(232,232,232)\",\"gridwidth\":2,\"linecolor\":\"rgb(36,36,36)\",\"showbackground\":true,\"showgrid\":false,\"showline\":true,\"ticks\":\"outside\",\"zeroline\":false,\"zerolinecolor\":\"rgb(36,36,36)\"}},\"shapedefaults\":{\"fillcolor\":\"black\",\"line\":{\"width\":0},\"opacity\":0.3},\"ternary\":{\"aaxis\":{\"gridcolor\":\"rgb(232,232,232)\",\"linecolor\":\"rgb(36,36,36)\",\"showgrid\":false,\"showline\":true,\"ticks\":\"outside\"},\"baxis\":{\"gridcolor\":\"rgb(232,232,232)\",\"linecolor\":\"rgb(36,36,36)\",\"showgrid\":false,\"showline\":true,\"ticks\":\"outside\"},\"bgcolor\":\"white\",\"caxis\":{\"gridcolor\":\"rgb(232,232,232)\",\"linecolor\":\"rgb(36,36,36)\",\"showgrid\":false,\"showline\":true,\"ticks\":\"outside\"}},\"title\":{\"x\":0.05},\"xaxis\":{\"automargin\":true,\"gridcolor\":\"rgb(232,232,232)\",\"linecolor\":\"rgb(36,36,36)\",\"showgrid\":false,\"showline\":true,\"ticks\":\"outside\",\"title\":{\"standoff\":15},\"zeroline\":false,\"zerolinecolor\":\"rgb(36,36,36)\"},\"yaxis\":{\"automargin\":true,\"gridcolor\":\"rgb(232,232,232)\",\"linecolor\":\"rgb(36,36,36)\",\"showgrid\":false,\"showline\":true,\"ticks\":\"outside\",\"title\":{\"standoff\":15},\"zeroline\":false,\"zerolinecolor\":\"rgb(36,36,36)\"},\"margin\":{\"b\":0,\"l\":20,\"r\":20,\"t\":40}}}},                        {\"responsive\": true}                    ).then(function(){\n                            \nvar gd = document.getElementById('0b135233-72f5-4acb-b4af-3edf529f88df');\nvar x = new MutationObserver(function (mutations, observer) {{\n        var display = window.getComputedStyle(gd).display;\n        if (!display || display === 'none') {{\n            console.log([gd, 'removed!']);\n            Plotly.purge(gd);\n            observer.disconnect();\n        }}\n}});\n\n// Listen for the removal of the full notebook cells\nvar notebookContainer = gd.closest('#notebook-container');\nif (notebookContainer) {{\n    x.observe(notebookContainer, {childList: true});\n}}\n\n// Listen for the clearing of the current output cell\nvar outputEl = gd.closest('.output');\nif (outputEl) {{\n    x.observe(outputEl, {childList: true});\n}}\n\n                        })                };                });            </script>        </div>"
     },
     "metadata": {},
     "output_type": "display_data"
    }
   ],
   "source": [
    "from sklearn.model_selection import ParameterGrid\n",
    "\n",
    "df = []\n",
    "for setting in ParameterGrid(dict(k=range(10), s=np.linspace(0, 5, 10), repetition=range(10))):\n",
    "    y = y_ + np.random.normal(scale=setting[\"s\"], size=len(y_))\n",
    "    y_hat = make_pipeline(PolynomialFeatures(setting[\"k\"]), LinearRegression(fit_intercept=False)).fit(X, y).predict(testX)\n",
    "\n",
    "    df.append([setting[\"k\"], setting[\"s\"], np.mean((testY-y_hat)**2)])\n",
    "\n",
    "df = pd.DataFrame.from_records(df, columns=[\"k\", \"sigma\",\"mse\"]).groupby([\"k\",\"sigma\"]).mean().reset_index()\n",
    "\n",
    "go.Figure(go.Heatmap(x=df.k, y=df.sigma, z=df.mse, colorscale=\"amp\"),\n",
    "          layout=go.Layout(title=r\"$\\text{(6) Average Train } MSE \\text{ As Function of } \\left(k,\\sigma^2\\right)$\",\n",
    "                           xaxis_title=r\"$k$ - Fitted Polynomial Degree\",\n",
    "                           yaxis_title=r\"$\\sigma^2$ - Noise Levels\")).show()"
   ],
   "metadata": {
    "collapsed": false,
    "pycharm": {
     "name": "#%%\n"
    }
   }
  },
  {
   "cell_type": "code",
   "execution_count": null,
   "outputs": [],
   "source": [],
   "metadata": {
    "collapsed": false,
    "pycharm": {
     "name": "#%%\n"
    }
   }
  }
 ],
 "metadata": {
  "kernelspec": {
   "display_name": "Python 3",
   "language": "python",
   "name": "python3"
  },
  "language_info": {
   "codemirror_mode": {
    "name": "ipython",
    "version": 3
   },
   "file_extension": ".py",
   "mimetype": "text/x-python",
   "name": "python",
   "nbconvert_exporter": "python",
   "pygments_lexer": "ipython3",
   "version": "3.7.10"
  }
 },
 "nbformat": 4,
 "nbformat_minor": 1
}